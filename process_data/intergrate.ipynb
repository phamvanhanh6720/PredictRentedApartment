{
 "cells": [
  {
   "cell_type": "code",
   "execution_count": 1,
   "metadata": {
    "collapsed": true
   },
   "outputs": [],
   "source": [
    "import pandas as pd\n",
    "import numpy as np"
   ]
  },
  {
   "cell_type": "code",
   "execution_count": 6,
   "outputs": [],
   "source": [
    "chotot_df = pd.read_csv('../table_data/filled_chotot.csv')\n",
    "bds_df = pd.read_csv('../table_data/filled_bds.csv')\n",
    "alonhadat_df = pd.read_csv('../table_data/filled_alonhadat.csv')"
   ],
   "metadata": {
    "collapsed": false,
    "pycharm": {
     "name": "#%%\n"
    }
   }
  },
  {
   "cell_type": "code",
   "execution_count": 7,
   "outputs": [],
   "source": [
    "df = chotot_df.append(bds_df, ignore_index=True)"
   ],
   "metadata": {
    "collapsed": false,
    "pycharm": {
     "name": "#%%\n"
    }
   }
  },
  {
   "cell_type": "code",
   "execution_count": 8,
   "outputs": [],
   "source": [
    "df = df.append(alonhadat_df, ignore_index=True)"
   ],
   "metadata": {
    "collapsed": false,
    "pycharm": {
     "name": "#%%\n"
    }
   }
  },
  {
   "cell_type": "code",
   "execution_count": 9,
   "outputs": [
    {
     "data": {
      "text/plain": "                                                LOCATION PHONE_NUMBER  \\\n0      đường vĩnh phúc, phường vĩnh phúc, quận ba đìn...    098285***   \n1      đường phạm ngọc thạch, phường láng hạ, quận đố...    088833***   \n2      a6, phố 8/3, phường quỳnh mai, quận hai bà trư...    098441***   \n3          đào tấn, phường ngọc hà, quận ba đình, hà nội    091552***   \n4      ngõ 12, đào tấn, phường cống vị, quận ba đình,...    091552***   \n...                                                  ...          ...   \n16911   đường minh khai, phường minh khai, quận hai b...   0911695***   \n16912   an lạc đường lưu hữu phước, phường cầu diễn, ...   0986170***   \n16913   đường việt hưng, phường việt hưng, quận long ...   0345243***   \n16914   đường lê trực, phường điện biên, quận ba đình...   0327582***   \n16915   đường đại lộ thăng long, phường mễ trì, quận ...   0327582***   \n\n        NEWS_TYPE  BEDROOM_NUMBER  BATH_ROOM_NUMBER  LIVING_ROOM AREA  \\\n0       môi giới              3.0               2.0          1.0   80   \n1        cá nhân              2.0               1.0          NaN   48   \n2        cá nhân              1.0               1.0          NaN   40   \n3       môi giới              1.0               1.0          NaN   30   \n4       môi giới              1.0               1.0          NaN   30   \n...           ...             ...               ...          ...  ...   \n16911         NaN             2.0               1.0          1.0   80   \n16912         NaN             2.0               1.0          1.0   80   \n16913         NaN             2.0               2.0          NaN   80   \n16914         NaN             2.0               NaN          NaN   85   \n16915         NaN             3.0               NaN          NaN  135   \n\n         APARTMENT_TYPE                                            PROJECT  \\\n0               tập thể                                                NaN   \n1              chung_cư                                                NaN   \n2      tập_thể chung_cư                                                NaN   \n3                studio                                                NaN   \n4              chung_cư                                                NaN   \n...                 ...                                                ...   \n16911          chung_cư               căn hộ chung cư lilama 124 minh khai   \n16912          chung_cư                             căn hộ chung cư an lạc   \n16913          chung_cư  chung_cư happy star trung_tâm khu đô_thị việt ...   \n16914          chung_cư  khu phức hợp discovery central (discovery comp...   \n16915          chung_cư              căn hộ chung cư thang long number one   \n\n       INVESTOR  FLOOR   FURNITURE_TYPE  \\\n0           NaN    3.0              NaN   \n1           NaN    NaN              NaN   \n2           NaN    NaN              NaN   \n3           NaN    NaN  nội thất đầy đủ   \n4           NaN    2.0  nội thất đầy đủ   \n...         ...    ...              ...   \n16911       NaN   12.0              NaN   \n16912       NaN    NaN             full   \n16913       NaN   15.0              NaN   \n16914       NaN    NaN           cơ_bản   \n16915       NaN    NaN           cơ_bản   \n\n                                               FURNITURE  \\\n0      ['có_điều hoà', ' nóng lạnh', ' giường', ' tủ'...   \n1                                                     []   \n2                                                     []   \n3      ['điều_hoà', 'giường tủ', 'nóng lạnh', 'bàn bế...   \n4      ['điều_hoà', ' giường tủ', 'nóng lạnh', ' bàn ...   \n...                                                  ...   \n16911                                                 []   \n16912                                         ['sàn gỗ']   \n16913         ['nóng lạbế', 'giường tủă', 'máy lọc nướ']   \n16914  ['điều_hoà', ' nóng lạnh', ' tủ âm tường', ' k...   \n16915             ['điều_hoà', 'nóng lạnh', 'kệ tủ bếp']   \n\n                                              CONVENIENT PRICE  \\\n0                                                     []   7.5   \n1                     ['trường', 'đại_học', 'bệnh_viện']   7.5   \n2                              ['ngõ rộng', 'bệnh_viện']   5.0   \n3                               ['trung_tâm thương_mại']   4.5   \n4      ['xe để dưới hầm free', 'cổng khoá vân tay', '...   4.5   \n...                                                  ...   ...   \n16911                        ['trung_tâm', 'thuận_tiện']     8   \n16912                                                 []     7   \n16913                                                 []     8   \n16914                                                 []    25   \n16915                                                 []    15   \n\n                                                     URL  \\\n0      https://nha.chotot.com/ha-noi/quan-ba-dinh/thu...   \n1      https://nha.chotot.com/ha-noi/quan-dong-da/thu...   \n2      https://nha.chotot.com/ha-noi/quan-hai-ba-trun...   \n3      https://nha.chotot.com/ha-noi/quan-ba-dinh/thu...   \n4      https://nha.chotot.com/ha-noi/quan-ba-dinh/thu...   \n...                                                  ...   \n16911  https://alonhadat.com.vn/cho-thue-can-ho-chung...   \n16912  https://alonhadat.com.vn/cho-thue-can-ho-chung...   \n16913  https://alonhadat.com.vn/cho-thue-can-ho-chung...   \n16914  https://alonhadat.com.vn/cho-thue-can-ho-o-dis...   \n16915  https://alonhadat.com.vn/cho-thue-can-ho-o-tha...   \n\n                                         RAW_DESCRIPTION  \\\n0      chính chủ cho thuê căn hộ 3 mặt thoáng tại vĩn...   \n1      cho thuê căn hộ chung cư  chính chủ, mặt đường...   \n2      chính chủ cho thuê căn hộ tập thể 8/3 nhà a6, ...   \n3      studio 25m2 tại ngõ 118 đào tấn\\nnhà full nội ...   \n4      cho thuê căn hộ dịch vụ đủ đồ giá chỉ 4tr5 ở đ...   \n...                                                  ...   \n16911  cho thuê căn hộ chung cư tại toà lilama, minh ...   \n16912  cho thuê gấp căn hộ chung cư tòa nhà an lạc , ...   \n16913  cho thuê căn hộ chung cư happy star việt hưng,...   \n16914  - cho thuê căn hộ ở discovery complex - 8b lê ...   \n16915  - cho thuê căn hộ ở thăng long number 1 - 1 đạ...   \n\n                                                ENTITIES  \n0      [['<unk> phúc tiện', 'LOC'], ['80', 'AREA'], [...  \n1      [['căn_hộ chung_cư', 'APART'], ['đường phạm ng...  \n2      [['căn_hộ tập_thể', 'APART'], ['nhà a6, tầng 1...  \n3      [['studio', 'APART'], ['25m2', 'AREA'], ['ngõ ...  \n4      [['căn_hộ dịch_vụ', 'APART'], ['45 ở đào', 'PR...  \n...                                                  ...  \n16911  [['căn_hộ chung_cư', 'APART'], ['toà lilama, m...  \n16912  [['căn_hộ chung_cư', 'APART'], ['toà nhà an_lạ...  \n16913  [['căn_hộ chung_cư', 'APART'], ['2w', 'ROOM'],...  \n16914  [['căn_hộ', 'APART'], ['discovery complex', 'P...  \n16915  [['căn_hộ', 'APART'], ['thăng long number 1', ...  \n\n[16916 rows x 18 columns]",
      "text/html": "<div>\n<style scoped>\n    .dataframe tbody tr th:only-of-type {\n        vertical-align: middle;\n    }\n\n    .dataframe tbody tr th {\n        vertical-align: top;\n    }\n\n    .dataframe thead th {\n        text-align: right;\n    }\n</style>\n<table border=\"1\" class=\"dataframe\">\n  <thead>\n    <tr style=\"text-align: right;\">\n      <th></th>\n      <th>LOCATION</th>\n      <th>PHONE_NUMBER</th>\n      <th>NEWS_TYPE</th>\n      <th>BEDROOM_NUMBER</th>\n      <th>BATH_ROOM_NUMBER</th>\n      <th>LIVING_ROOM</th>\n      <th>AREA</th>\n      <th>APARTMENT_TYPE</th>\n      <th>PROJECT</th>\n      <th>INVESTOR</th>\n      <th>FLOOR</th>\n      <th>FURNITURE_TYPE</th>\n      <th>FURNITURE</th>\n      <th>CONVENIENT</th>\n      <th>PRICE</th>\n      <th>URL</th>\n      <th>RAW_DESCRIPTION</th>\n      <th>ENTITIES</th>\n    </tr>\n  </thead>\n  <tbody>\n    <tr>\n      <th>0</th>\n      <td>đường vĩnh phúc, phường vĩnh phúc, quận ba đìn...</td>\n      <td>098285***</td>\n      <td>môi giới</td>\n      <td>3.0</td>\n      <td>2.0</td>\n      <td>1.0</td>\n      <td>80</td>\n      <td>tập thể</td>\n      <td>NaN</td>\n      <td>NaN</td>\n      <td>3.0</td>\n      <td>NaN</td>\n      <td>['có_điều hoà', ' nóng lạnh', ' giường', ' tủ'...</td>\n      <td>[]</td>\n      <td>7.5</td>\n      <td>https://nha.chotot.com/ha-noi/quan-ba-dinh/thu...</td>\n      <td>chính chủ cho thuê căn hộ 3 mặt thoáng tại vĩn...</td>\n      <td>[['&lt;unk&gt; phúc tiện', 'LOC'], ['80', 'AREA'], [...</td>\n    </tr>\n    <tr>\n      <th>1</th>\n      <td>đường phạm ngọc thạch, phường láng hạ, quận đố...</td>\n      <td>088833***</td>\n      <td>cá nhân</td>\n      <td>2.0</td>\n      <td>1.0</td>\n      <td>NaN</td>\n      <td>48</td>\n      <td>chung_cư</td>\n      <td>NaN</td>\n      <td>NaN</td>\n      <td>NaN</td>\n      <td>NaN</td>\n      <td>[]</td>\n      <td>['trường', 'đại_học', 'bệnh_viện']</td>\n      <td>7.5</td>\n      <td>https://nha.chotot.com/ha-noi/quan-dong-da/thu...</td>\n      <td>cho thuê căn hộ chung cư  chính chủ, mặt đường...</td>\n      <td>[['căn_hộ chung_cư', 'APART'], ['đường phạm ng...</td>\n    </tr>\n    <tr>\n      <th>2</th>\n      <td>a6, phố 8/3, phường quỳnh mai, quận hai bà trư...</td>\n      <td>098441***</td>\n      <td>cá nhân</td>\n      <td>1.0</td>\n      <td>1.0</td>\n      <td>NaN</td>\n      <td>40</td>\n      <td>tập_thể chung_cư</td>\n      <td>NaN</td>\n      <td>NaN</td>\n      <td>NaN</td>\n      <td>NaN</td>\n      <td>[]</td>\n      <td>['ngõ rộng', 'bệnh_viện']</td>\n      <td>5.0</td>\n      <td>https://nha.chotot.com/ha-noi/quan-hai-ba-trun...</td>\n      <td>chính chủ cho thuê căn hộ tập thể 8/3 nhà a6, ...</td>\n      <td>[['căn_hộ tập_thể', 'APART'], ['nhà a6, tầng 1...</td>\n    </tr>\n    <tr>\n      <th>3</th>\n      <td>đào tấn, phường ngọc hà, quận ba đình, hà nội</td>\n      <td>091552***</td>\n      <td>môi giới</td>\n      <td>1.0</td>\n      <td>1.0</td>\n      <td>NaN</td>\n      <td>30</td>\n      <td>studio</td>\n      <td>NaN</td>\n      <td>NaN</td>\n      <td>NaN</td>\n      <td>nội thất đầy đủ</td>\n      <td>['điều_hoà', 'giường tủ', 'nóng lạnh', 'bàn bế...</td>\n      <td>['trung_tâm thương_mại']</td>\n      <td>4.5</td>\n      <td>https://nha.chotot.com/ha-noi/quan-ba-dinh/thu...</td>\n      <td>studio 25m2 tại ngõ 118 đào tấn\\nnhà full nội ...</td>\n      <td>[['studio', 'APART'], ['25m2', 'AREA'], ['ngõ ...</td>\n    </tr>\n    <tr>\n      <th>4</th>\n      <td>ngõ 12, đào tấn, phường cống vị, quận ba đình,...</td>\n      <td>091552***</td>\n      <td>môi giới</td>\n      <td>1.0</td>\n      <td>1.0</td>\n      <td>NaN</td>\n      <td>30</td>\n      <td>chung_cư</td>\n      <td>NaN</td>\n      <td>NaN</td>\n      <td>2.0</td>\n      <td>nội thất đầy đủ</td>\n      <td>['điều_hoà', ' giường tủ', 'nóng lạnh', ' bàn ...</td>\n      <td>['xe để dưới hầm free', 'cổng khoá vân tay', '...</td>\n      <td>4.5</td>\n      <td>https://nha.chotot.com/ha-noi/quan-ba-dinh/thu...</td>\n      <td>cho thuê căn hộ dịch vụ đủ đồ giá chỉ 4tr5 ở đ...</td>\n      <td>[['căn_hộ dịch_vụ', 'APART'], ['45 ở đào', 'PR...</td>\n    </tr>\n    <tr>\n      <th>...</th>\n      <td>...</td>\n      <td>...</td>\n      <td>...</td>\n      <td>...</td>\n      <td>...</td>\n      <td>...</td>\n      <td>...</td>\n      <td>...</td>\n      <td>...</td>\n      <td>...</td>\n      <td>...</td>\n      <td>...</td>\n      <td>...</td>\n      <td>...</td>\n      <td>...</td>\n      <td>...</td>\n      <td>...</td>\n      <td>...</td>\n    </tr>\n    <tr>\n      <th>16911</th>\n      <td>đường minh khai, phường minh khai, quận hai b...</td>\n      <td>0911695***</td>\n      <td>NaN</td>\n      <td>2.0</td>\n      <td>1.0</td>\n      <td>1.0</td>\n      <td>80</td>\n      <td>chung_cư</td>\n      <td>căn hộ chung cư lilama 124 minh khai</td>\n      <td>NaN</td>\n      <td>12.0</td>\n      <td>NaN</td>\n      <td>[]</td>\n      <td>['trung_tâm', 'thuận_tiện']</td>\n      <td>8</td>\n      <td>https://alonhadat.com.vn/cho-thue-can-ho-chung...</td>\n      <td>cho thuê căn hộ chung cư tại toà lilama, minh ...</td>\n      <td>[['căn_hộ chung_cư', 'APART'], ['toà lilama, m...</td>\n    </tr>\n    <tr>\n      <th>16912</th>\n      <td>an lạc đường lưu hữu phước, phường cầu diễn, ...</td>\n      <td>0986170***</td>\n      <td>NaN</td>\n      <td>2.0</td>\n      <td>1.0</td>\n      <td>1.0</td>\n      <td>80</td>\n      <td>chung_cư</td>\n      <td>căn hộ chung cư an lạc</td>\n      <td>NaN</td>\n      <td>NaN</td>\n      <td>full</td>\n      <td>['sàn gỗ']</td>\n      <td>[]</td>\n      <td>7</td>\n      <td>https://alonhadat.com.vn/cho-thue-can-ho-chung...</td>\n      <td>cho thuê gấp căn hộ chung cư tòa nhà an lạc , ...</td>\n      <td>[['căn_hộ chung_cư', 'APART'], ['toà nhà an_lạ...</td>\n    </tr>\n    <tr>\n      <th>16913</th>\n      <td>đường việt hưng, phường việt hưng, quận long ...</td>\n      <td>0345243***</td>\n      <td>NaN</td>\n      <td>2.0</td>\n      <td>2.0</td>\n      <td>NaN</td>\n      <td>80</td>\n      <td>chung_cư</td>\n      <td>chung_cư happy star trung_tâm khu đô_thị việt ...</td>\n      <td>NaN</td>\n      <td>15.0</td>\n      <td>NaN</td>\n      <td>['nóng lạbế', 'giường tủă', 'máy lọc nướ']</td>\n      <td>[]</td>\n      <td>8</td>\n      <td>https://alonhadat.com.vn/cho-thue-can-ho-chung...</td>\n      <td>cho thuê căn hộ chung cư happy star việt hưng,...</td>\n      <td>[['căn_hộ chung_cư', 'APART'], ['2w', 'ROOM'],...</td>\n    </tr>\n    <tr>\n      <th>16914</th>\n      <td>đường lê trực, phường điện biên, quận ba đình...</td>\n      <td>0327582***</td>\n      <td>NaN</td>\n      <td>2.0</td>\n      <td>NaN</td>\n      <td>NaN</td>\n      <td>85</td>\n      <td>chung_cư</td>\n      <td>khu phức hợp discovery central (discovery comp...</td>\n      <td>NaN</td>\n      <td>NaN</td>\n      <td>cơ_bản</td>\n      <td>['điều_hoà', ' nóng lạnh', ' tủ âm tường', ' k...</td>\n      <td>[]</td>\n      <td>25</td>\n      <td>https://alonhadat.com.vn/cho-thue-can-ho-o-dis...</td>\n      <td>- cho thuê căn hộ ở discovery complex - 8b lê ...</td>\n      <td>[['căn_hộ', 'APART'], ['discovery complex', 'P...</td>\n    </tr>\n    <tr>\n      <th>16915</th>\n      <td>đường đại lộ thăng long, phường mễ trì, quận ...</td>\n      <td>0327582***</td>\n      <td>NaN</td>\n      <td>3.0</td>\n      <td>NaN</td>\n      <td>NaN</td>\n      <td>135</td>\n      <td>chung_cư</td>\n      <td>căn hộ chung cư thang long number one</td>\n      <td>NaN</td>\n      <td>NaN</td>\n      <td>cơ_bản</td>\n      <td>['điều_hoà', 'nóng lạnh', 'kệ tủ bếp']</td>\n      <td>[]</td>\n      <td>15</td>\n      <td>https://alonhadat.com.vn/cho-thue-can-ho-o-tha...</td>\n      <td>- cho thuê căn hộ ở thăng long number 1 - 1 đạ...</td>\n      <td>[['căn_hộ', 'APART'], ['thăng long number 1', ...</td>\n    </tr>\n  </tbody>\n</table>\n<p>16916 rows × 18 columns</p>\n</div>"
     },
     "execution_count": 9,
     "metadata": {},
     "output_type": "execute_result"
    }
   ],
   "source": [
    "df"
   ],
   "metadata": {
    "collapsed": false,
    "pycharm": {
     "name": "#%%\n"
    }
   }
  },
  {
   "cell_type": "code",
   "execution_count": 10,
   "outputs": [
    {
     "data": {
      "text/plain": "LOCATION             object\nPHONE_NUMBER         object\nNEWS_TYPE            object\nBEDROOM_NUMBER      float64\nBATH_ROOM_NUMBER    float64\nLIVING_ROOM         float64\nAREA                 object\nAPARTMENT_TYPE       object\nPROJECT              object\nINVESTOR            float64\nFLOOR               float64\nFURNITURE_TYPE       object\nFURNITURE            object\nCONVENIENT           object\nPRICE                object\nURL                  object\nRAW_DESCRIPTION      object\nENTITIES             object\ndtype: object"
     },
     "execution_count": 10,
     "metadata": {},
     "output_type": "execute_result"
    }
   ],
   "source": [
    "df.dtypes"
   ],
   "metadata": {
    "collapsed": false,
    "pycharm": {
     "name": "#%%\n"
    }
   }
  },
  {
   "cell_type": "code",
   "execution_count": null,
   "outputs": [],
   "source": [],
   "metadata": {
    "collapsed": false,
    "pycharm": {
     "name": "#%%\n"
    }
   }
  }
 ],
 "metadata": {
  "kernelspec": {
   "display_name": "Python 3",
   "language": "python",
   "name": "python3"
  },
  "language_info": {
   "codemirror_mode": {
    "name": "ipython",
    "version": 2
   },
   "file_extension": ".py",
   "mimetype": "text/x-python",
   "name": "python",
   "nbconvert_exporter": "python",
   "pygments_lexer": "ipython2",
   "version": "2.7.6"
  }
 },
 "nbformat": 4,
 "nbformat_minor": 0
}