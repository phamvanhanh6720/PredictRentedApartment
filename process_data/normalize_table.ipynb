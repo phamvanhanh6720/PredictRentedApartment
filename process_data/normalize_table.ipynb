{
 "cells": [
  {
   "cell_type": "code",
   "execution_count": 34,
   "metadata": {
    "collapsed": true
   },
   "outputs": [],
   "source": [
    "import pandas as pd\n",
    "import numpy as np\n",
    "\n",
    "import warnings\n",
    "from ast import literal_eval\n",
    "warnings.filterwarnings(\"ignore\")"
   ]
  },
  {
   "cell_type": "code",
   "execution_count": 35,
   "outputs": [],
   "source": [
    "def extract_first_number(text: str):\n",
    "    import re\n",
    "\n",
    "    # getting numbers from string\n",
    "    temp = re.findall(r'\\d+', text)\n",
    "    res = list(map(int, temp))\n",
    "\n",
    "    if len(res):\n",
    "        return res[0]"
   ],
   "metadata": {
    "collapsed": false,
    "pycharm": {
     "name": "#%%\n"
    }
   }
  },
  {
   "cell_type": "code",
   "execution_count": 36,
   "outputs": [],
   "source": [
    "def clean_phone_number(phone_number: str):\n",
    "    phone_number = phone_number.strip(' ')\n",
    "    phone_number = phone_number.replace('x', '*')\n",
    "    phone_number = phone_number.replace(' ', '')\n",
    "\n",
    "    return phone_number"
   ],
   "metadata": {
    "collapsed": false,
    "pycharm": {
     "name": "#%%\n"
    }
   }
  },
  {
   "cell_type": "code",
   "execution_count": 37,
   "outputs": [],
   "source": [
    "def extract_apartment_type(entities):\n",
    "\n",
    "    apart_type_mapping = {'c.c.m.n': 'ccmn', 'mini': 'mini', 'ccmn': 'ccmn', 'cao_cấp': 'cao_cấp',\n",
    "                          'mi ni': 'mini', 'ch': 'chung_cư',\n",
    "                          'chung_cư':'chung_cư', 'căn': 'chung_cư', 'căn_hộ': 'chung_cư',\n",
    "                          'penhouse': 'penhouse', 'sang_trọng': 'cao_cấp',\n",
    "                          'studio': 'studio', 'tập_thể': 'tập_thể', 'nhà_tập_thể': 'tập_thể','tt': 'tập_thể'}\n",
    "\n",
    "    entities_list = [entity[1] for entity in entities]\n",
    "    apart_idx = list(np.where(np.array(entities_list) == 'APART')[0])\n",
    "    cleaned_entities = []\n",
    "\n",
    "    for idx in apart_idx:\n",
    "        apart_type = entities[idx][0]\n",
    "        res = []\n",
    "        flag = False\n",
    "        for key in apart_type_mapping.keys():\n",
    "            if key in apart_type:\n",
    "                res.append(apart_type_mapping[key])\n",
    "                flag = True\n",
    "\n",
    "        if flag:\n",
    "            res = list(set(res))\n",
    "            cleaned_entities.append(' '.join(res))\n",
    "        # else:\n",
    "        #    cleaned_entities.append(entities_list[idx][0])\n",
    "\n",
    "    return cleaned_entities"
   ],
   "metadata": {
    "collapsed": false,
    "pycharm": {
     "name": "#%%\n"
    }
   }
  },
  {
   "cell_type": "code",
   "execution_count": 38,
   "outputs": [],
   "source": [
    "def extract_room(entities):\n",
    "    room_mapping = {'phòng ngủ': 'phòng_ngủ', 'pn': 'phòng_ngủ', 'phòng ng': 'phòng_ngủ',\n",
    "                    'ngủ': 'phòng_ngủ', 'khách': 'phòng_khách',\n",
    "                    'phòng khách': 'phòng_khách', 'pk': 'phòng_khách',\n",
    "                    'wc': 'vệ_sinh', 'vsinh': 'vệ_sinh', 'công_trình_phụ': 'vệ_sinh',\n",
    "                    'vệ': 'vệ_sinh', 'nhà_vệ_sinh': 'vệ_sinh', 'tắm': 'vệ_sinh', 'w': 'vệ_sinh',\n",
    "                    'vs': 'vệ_sinh'}\n",
    "\n",
    "    entities_list = [entity[1] for entity in entities]\n",
    "    room_idx = list(np.where(np.array(entities_list) == 'ROOM')[0])\n",
    "    room_entities = []\n",
    "\n",
    "    for idx in room_idx:\n",
    "        room = entities[idx][0]\n",
    "\n",
    "        temp_result = []\n",
    "        for key in room_mapping.keys():\n",
    "            flag = False\n",
    "            if key in room:\n",
    "                start_idx = room.find(key)\n",
    "                try:\n",
    "                    for res in temp_result:\n",
    "                        if room_mapping[key] in res:\n",
    "                            flag = True\n",
    "                    if flag:\n",
    "                        continue\n",
    "\n",
    "                    if room[start_idx-1] == ',':\n",
    "                        temp_result.append('1 {}'.format(room_mapping[key]))\n",
    "                    elif room[start_idx - 1] == ' ' and room[start_idx-2].isdigit():\n",
    "                        temp_result.append('{} {}'.format(room[start_idx-2], room_mapping[key]))\n",
    "                    elif room[start_idx - 1].isdigit():\n",
    "                        temp_result.append('{} {}'.format(room[start_idx - 1], room_mapping[key]))\n",
    "                    else:\n",
    "                        temp_result.append('1 {}'.format(room_mapping[key]))\n",
    "                except:\n",
    "                    temp_result.append('1 {}'.format(room_mapping[key]))\n",
    "        temp_result = list(set(temp_result))\n",
    "\n",
    "        room_entities.extend(temp_result)\n",
    "\n",
    "    return room_entities"
   ],
   "metadata": {
    "collapsed": false,
    "pycharm": {
     "name": "#%%\n"
    }
   }
  },
  {
   "cell_type": "code",
   "execution_count": 39,
   "outputs": [],
   "source": [
    "def extract_furniture_type(entities):\n",
    "\n",
    "    fur_type_mapping = {'đầy_đủ': 'full', 'đủ đồ': 'full', 'full': 'full',\n",
    "                        'cơ_bản': 'cơ_bản', 'nguyên_bản': 'nguyên_bản',\n",
    "                        'cao_cấp': 'cao_cấp'}\n",
    "\n",
    "    entities_list = [entity[1] for entity in entities]\n",
    "    fur_type_idx = list(np.where(np.array(entities_list) == 'FUR-TYPE')[0])\n",
    "    cleaned_entities = []\n",
    "\n",
    "    for idx in fur_type_idx:\n",
    "        fur_type = entities[idx][0]\n",
    "        res = []\n",
    "        flag = False\n",
    "        for key in fur_type_mapping.keys():\n",
    "            if key in fur_type:\n",
    "                res.append(fur_type_mapping[key])\n",
    "                flag = True\n",
    "\n",
    "        if flag:\n",
    "            res = list(set(res))\n",
    "            cleaned_entities.append(' '.join(res))\n",
    "        # else:\n",
    "        #    cleaned_entities.append(entities_list[idx][0])\n",
    "\n",
    "    return cleaned_entities"
   ],
   "metadata": {
    "collapsed": false,
    "pycharm": {
     "name": "#%%\n"
    }
   }
  },
  {
   "cell_type": "code",
   "execution_count": 40,
   "outputs": [],
   "source": [
    "def fill_empty_data(converted_df):\n",
    "    columns = converted_df.columns\n",
    "    data = []\n",
    "\n",
    "    for i in range(len(converted_df)):\n",
    "        entities = literal_eval(converted_df.iloc[i]['ENTITIES'])\n",
    "        news = converted_df.iloc[i]\n",
    "\n",
    "        entities_list = [entity[1] for entity in entities]\n",
    "        # area_idx = list(np.where(np.array(entities_list) == 'AREA')[0])\n",
    "\n",
    "        def find_first_entity(entities_list, entity_label):\n",
    "            for i in range(len(entities_list)):\n",
    "                if  entity_label in entities_list[i]:\n",
    "                    return i\n",
    "\n",
    "            return -1\n",
    "\n",
    "        room_entities = extract_room(entities)\n",
    "        apartment_entities = extract_apartment_type(entities)\n",
    "        fur_type_entities = extract_furniture_type(entities)\n",
    "\n",
    "        if pd.isna(news['LOCATION']):\n",
    "            loc_id = find_first_entity(entities_list, 'LOC')\n",
    "            if loc_id != -1:\n",
    "                news['LOCATION'] = entities[loc_id]\n",
    "\n",
    "        if pd.isna(news['PRICE']):\n",
    "            price_id = find_first_entity(entities_list, 'PRICE')\n",
    "            if price_id != -1:\n",
    "                news['PRICE'] = entities[price_id]\n",
    "\n",
    "        if pd.isna(news['AREA']):\n",
    "            area_id = find_first_entity(entities_list, 'AREA')\n",
    "            if area_id != -1:\n",
    "                news['PRICE'] = entities[area_id]\n",
    "\n",
    "        if pd.isna(news['BATH_ROOM_NUMBER']):\n",
    "            room_id = find_first_entity(room_entities, 'vệ_sinh')\n",
    "            if room_id != -1:\n",
    "                try:\n",
    "                    news['BATH_ROOM_NUMBER'] = int(room_entities[room_id].replace(' vệ_sinh', ''))\n",
    "                except:\n",
    "                    pass\n",
    "\n",
    "        if pd.isna(news['LIVING_ROOM']):\n",
    "            room_id = find_first_entity(room_entities, 'phòng_khách')\n",
    "            if room_id != -1:\n",
    "                try:\n",
    "                    news['LIVING_ROOM'] = int(room_entities[room_id].replace(' phòng_khách', ''))\n",
    "                except:\n",
    "                    pass\n",
    "\n",
    "        if pd.isna(news['BEDROOM_NUMBER']):\n",
    "            room_id = find_first_entity(room_entities, 'phòng_ngủ')\n",
    "            if room_id != -1:\n",
    "                try:\n",
    "                    news['BEDROOM_NUMBER'] = int(room_entities[room_id].replace(' phòng_ngủ', ''))\n",
    "                except:\n",
    "                    pass\n",
    "\n",
    "        if len(apartment_entities):\n",
    "            news['APARTMENT_TYPE'] = apartment_entities[0]\n",
    "\n",
    "        if pd.isna(news['PROJECT']) or ('đang cập nhật' == news['PROJECT']):\n",
    "            project_id = find_first_entity(entities_list, 'PJ')\n",
    "            if project_id != -1:\n",
    "                news['PROJECT'] = entities[project_id][0]\n",
    "\n",
    "        if pd.isna(news['FURNITURE_TYPE']) and len(fur_type_entities):\n",
    "            news['FURNITURE_TYPE'] = fur_type_entities[0]\n",
    "\n",
    "        if pd.isna(news['CONVENIENT']):\n",
    "            conv_id = list(np.where(np.array(entities_list) == 'CONV')[0])\n",
    "            conv_entities = [entities[i][0] for i in conv_id]\n",
    "\n",
    "            cleaned_convenients = []\n",
    "            for entity in conv_entities:\n",
    "                entity = entity.strip(', ')\n",
    "                words = entity.split(',')\n",
    "                words = [word for word in words if word not in ['', ' ', ',']]\n",
    "                cleaned_convenients.extend(words)\n",
    "            news['CONVENIENT'] = cleaned_convenients\n",
    "\n",
    "        if pd.isna(news['FURNITURE']):\n",
    "            fur_id = list(np.where(np.array(entities_list) == 'FUR')[0])\n",
    "            fur_entities = [entities[i][0] for i in fur_id]\n",
    "\n",
    "            cleaned_furnitures = []\n",
    "            for entity in fur_entities:\n",
    "                entity = entity.strip(', ')\n",
    "                words = entity.split(',')\n",
    "                words = [word for word in words if word not in ['', ' ', ',']]\n",
    "                cleaned_furnitures.extend(words)\n",
    "            news['FURNITURE'] = cleaned_furnitures\n",
    "\n",
    "        data.append(news.values)\n",
    "\n",
    "    return pd.DataFrame(data=data, columns=columns)"
   ],
   "metadata": {
    "collapsed": false,
    "pycharm": {
     "name": "#%%\n"
    }
   }
  },
  {
   "cell_type": "code",
   "execution_count": null,
   "outputs": [],
   "source": [
    "chotot_file = 'chotot.csv'\n",
    "chotot_df = pd.read_csv(chotot_file)"
   ],
   "metadata": {
    "collapsed": false,
    "pycharm": {
     "name": "#%%\n"
    }
   }
  },
  {
   "cell_type": "code",
   "execution_count": 38,
   "outputs": [
    {
     "data": {
      "text/plain": "True"
     },
     "execution_count": 38,
     "metadata": {},
     "output_type": "execute_result"
    }
   ],
   "source": [
    "chotot_df['BATH_ROOM_NUMBER'] = chotot_df['BATH_ROOM_NUMBER'].map(extract_first_number, na_action='ignore')\n",
    "chotot_df['BEDROOM_NUMBER'] = chotot_df['BEDROOM_NUMBER'].map(extract_first_number, na_action='ignore')\n",
    "chotot_df['PHONE_NUMBER'] = chotot_df['PHONE_NUMBER'].map(clean_phone_number, na_action='ignore')"
   ],
   "metadata": {
    "collapsed": false,
    "pycharm": {
     "name": "#%%\n"
    }
   }
  },
  {
   "cell_type": "code",
   "execution_count": null,
   "outputs": [],
   "source": [
    "filled_df = fill_empty_data(converted_df=chotot_df)"
   ],
   "metadata": {
    "collapsed": false,
    "pycharm": {
     "name": "#%%\n"
    }
   }
  },
  {
   "cell_type": "code",
   "execution_count": 8,
   "outputs": [],
   "source": [
    "alonhadat_file = 'alonhadat.csv'\n",
    "alonhadat_df = pd.read_csv(alonhadat_file)"
   ],
   "metadata": {
    "collapsed": false,
    "pycharm": {
     "name": "#%%\n"
    }
   }
  },
  {
   "cell_type": "code",
   "execution_count": 10,
   "outputs": [],
   "source": [
    "alonhadat_df['PHONE_NUMBER'] = alonhadat_df['PHONE_NUMBER'].map(clean_phone_number, na_action='ignore')"
   ],
   "metadata": {
    "collapsed": false,
    "pycharm": {
     "name": "#%%\n"
    }
   }
  },
  {
   "cell_type": "code",
   "execution_count": 11,
   "outputs": [
    {
     "data": {
      "text/plain": "      Unnamed: 0                                           LOCATION  \\\n0              0   đường lĩnh nam, phường lĩnh nam, quận hoàng m...   \n1              1   đường nguyễn văn huyên, phường bưởi, quận tây...   \n2              2   đường trường chinh, phường phương mai, quận t...   \n3              3   phố liễu giai, phường cống vị, quận ba đình, ...   \n4              4   cầu thang số 4 - ct1 đường trần văn lai, phườ...   \n...          ...                                                ...   \n6471        6471   đường minh khai, phường minh khai, quận hai b...   \n6472        6472   an lạc đường lưu hữu phước, phường cầu diễn, ...   \n6473        6473   đường việt hưng, phường việt hưng, quận long ...   \n6474        6474   đường lê trực, phường điện biên, quận ba đình...   \n6475        6475   đường đại lộ thăng long, phường mễ trì, quận ...   \n\n     PHONE_NUMBER  NEWS_TYPE  BEDROOM_NUMBER  BATH_ROOM_NUMBER  LIVING_ROOM  \\\n0      0961632***        NaN             3.0               NaN          NaN   \n1      0961632***        NaN             3.0               NaN          NaN   \n2      0961632***        NaN             3.0               NaN          NaN   \n3      0978996***        NaN             2.0               NaN          NaN   \n4      0981917***        NaN             3.0               NaN          NaN   \n...           ...        ...             ...               ...          ...   \n6471   0911695***        NaN             2.0               NaN          NaN   \n6472   0986170***        NaN             2.0               NaN          NaN   \n6473   0345243***        NaN             2.0               NaN          NaN   \n6474   0327582***        NaN             2.0               NaN          NaN   \n6475   0327582***        NaN             3.0               NaN          NaN   \n\n       AREA  APARTMENT_TYPE  \\\n0      96.0             NaN   \n1     103.0             NaN   \n2     110.0             NaN   \n3      74.0             NaN   \n4     105.0             NaN   \n...     ...             ...   \n6471   80.0             NaN   \n6472   80.0             NaN   \n6473   80.0             NaN   \n6474   85.0             NaN   \n6475  135.0             NaN   \n\n                                                PROJECT  INVESTOR  FLOOR  \\\n0                     căn hộ chung cư new horizion city       NaN   20.0   \n1                        căn hộ chung cư ecolife tây hồ       NaN   14.0   \n2                     căn hộ chung cư tân hồng hà tower       NaN    6.0   \n3     căn hộ chung cư x1-26 liễu giai (liễu giai tower)       NaN    NaN   \n4                             căn hộ chung cư the manor       NaN    1.0   \n...                                                 ...       ...    ...   \n6471               căn hộ chung cư lilama 124 minh khai       NaN   12.0   \n6472                             căn hộ chung cư an lạc       NaN    NaN   \n6473                                                NaN       NaN   15.0   \n6474  khu phức hợp discovery central (discovery comp...       NaN    NaN   \n6475              căn hộ chung cư thang long number one       NaN    NaN   \n\n      FURNITURE_TYPE  FURNITURE  CONVENIENT  PRICE  \\\n0                NaN        NaN         NaN   10.0   \n1                NaN        NaN         NaN   10.0   \n2                NaN        NaN         NaN   12.5   \n3                NaN        NaN         NaN   12.0   \n4                NaN        NaN         NaN   12.5   \n...              ...        ...         ...    ...   \n6471             NaN        NaN         NaN    8.0   \n6472             NaN        NaN         NaN    7.0   \n6473             NaN        NaN         NaN    8.0   \n6474             NaN        NaN         NaN   25.0   \n6475             NaN        NaN         NaN   15.0   \n\n                                                    URL  \\\n0     https://alonhadat.com.vn/cho-thue-can-ho-chung...   \n1     https://alonhadat.com.vn/cho-thue-can-ho-chung...   \n2     https://alonhadat.com.vn/cho-thue-can-ho-chung...   \n3     https://alonhadat.com.vn/chinh-chu-cho-thue-ca...   \n4     https://alonhadat.com.vn/chinh-chu-cho-thue-ch...   \n...                                                 ...   \n6471  https://alonhadat.com.vn/cho-thue-can-ho-chung...   \n6472  https://alonhadat.com.vn/cho-thue-can-ho-chung...   \n6473  https://alonhadat.com.vn/cho-thue-can-ho-chung...   \n6474  https://alonhadat.com.vn/cho-thue-can-ho-o-dis...   \n6475  https://alonhadat.com.vn/cho-thue-can-ho-o-tha...   \n\n                                        RAW_DESCRIPTION  \\\n0     cho thuê căn hộ chung cư 87 lĩnh nam , hoàng m...   \n1     cho thuê căn hộ chung cư ecolife tây hồ đường ...   \n2     cho thuê căn hộ chung cư 317 trường chinh ,nga...   \n3     chính chủ có căn hộ thuộc chung cư liễu giai t...   \n4     chính chủ cho thuê chung cư 105m2 với 3pn, 2vs...   \n...                                                 ...   \n6471  cho thuê căn hộ chung cư tại toà lilama, minh ...   \n6472  cho thuê gấp căn hộ chung cư tòa nhà an lạc , ...   \n6473  cho thuê căn hộ chung cư happy star việt hưng,...   \n6474  - cho thuê căn hộ ở discovery complex - 8b lê ...   \n6475  - cho thuê căn hộ ở thăng long number 1 - 1 đạ...   \n\n                                               ENTITIES  \n0     [['<s>', 'FUR-TYPE'], ['căn_hộ chung_cư', 'APA...  \n1     [['căn_hộ', 'APART'], ['chung_cư ecolife', 'PJ...  \n2     [['<s>', 'FUR-TYPE'], ['căn_hộ chung_cư', 'APA...  \n3     [['chung_cư', 'PJ'], ['liễu giai tower - 26 li...  \n4     [['chung_cư', 'APART'], ['105m2', 'AREA'], ['3...  \n...                                                 ...  \n6471  [['căn_hộ chung_cư', 'APART'], ['toà lilama, m...  \n6472  [['căn_hộ chung_cư', 'APART'], ['toà nhà an_lạ...  \n6473  [['căn_hộ chung_cư', 'APART'], ['2w', 'ROOM'],...  \n6474  [['căn_hộ', 'APART'], ['discovery complex', 'P...  \n6475  [['căn_hộ', 'APART'], ['thăng long number 1', ...  \n\n[6476 rows x 19 columns]",
      "text/html": "<div>\n<style scoped>\n    .dataframe tbody tr th:only-of-type {\n        vertical-align: middle;\n    }\n\n    .dataframe tbody tr th {\n        vertical-align: top;\n    }\n\n    .dataframe thead th {\n        text-align: right;\n    }\n</style>\n<table border=\"1\" class=\"dataframe\">\n  <thead>\n    <tr style=\"text-align: right;\">\n      <th></th>\n      <th>Unnamed: 0</th>\n      <th>LOCATION</th>\n      <th>PHONE_NUMBER</th>\n      <th>NEWS_TYPE</th>\n      <th>BEDROOM_NUMBER</th>\n      <th>BATH_ROOM_NUMBER</th>\n      <th>LIVING_ROOM</th>\n      <th>AREA</th>\n      <th>APARTMENT_TYPE</th>\n      <th>PROJECT</th>\n      <th>INVESTOR</th>\n      <th>FLOOR</th>\n      <th>FURNITURE_TYPE</th>\n      <th>FURNITURE</th>\n      <th>CONVENIENT</th>\n      <th>PRICE</th>\n      <th>URL</th>\n      <th>RAW_DESCRIPTION</th>\n      <th>ENTITIES</th>\n    </tr>\n  </thead>\n  <tbody>\n    <tr>\n      <th>0</th>\n      <td>0</td>\n      <td>đường lĩnh nam, phường lĩnh nam, quận hoàng m...</td>\n      <td>0961632***</td>\n      <td>NaN</td>\n      <td>3.0</td>\n      <td>NaN</td>\n      <td>NaN</td>\n      <td>96.0</td>\n      <td>NaN</td>\n      <td>căn hộ chung cư new horizion city</td>\n      <td>NaN</td>\n      <td>20.0</td>\n      <td>NaN</td>\n      <td>NaN</td>\n      <td>NaN</td>\n      <td>10.0</td>\n      <td>https://alonhadat.com.vn/cho-thue-can-ho-chung...</td>\n      <td>cho thuê căn hộ chung cư 87 lĩnh nam , hoàng m...</td>\n      <td>[['&lt;s&gt;', 'FUR-TYPE'], ['căn_hộ chung_cư', 'APA...</td>\n    </tr>\n    <tr>\n      <th>1</th>\n      <td>1</td>\n      <td>đường nguyễn văn huyên, phường bưởi, quận tây...</td>\n      <td>0961632***</td>\n      <td>NaN</td>\n      <td>3.0</td>\n      <td>NaN</td>\n      <td>NaN</td>\n      <td>103.0</td>\n      <td>NaN</td>\n      <td>căn hộ chung cư ecolife tây hồ</td>\n      <td>NaN</td>\n      <td>14.0</td>\n      <td>NaN</td>\n      <td>NaN</td>\n      <td>NaN</td>\n      <td>10.0</td>\n      <td>https://alonhadat.com.vn/cho-thue-can-ho-chung...</td>\n      <td>cho thuê căn hộ chung cư ecolife tây hồ đường ...</td>\n      <td>[['căn_hộ', 'APART'], ['chung_cư ecolife', 'PJ...</td>\n    </tr>\n    <tr>\n      <th>2</th>\n      <td>2</td>\n      <td>đường trường chinh, phường phương mai, quận t...</td>\n      <td>0961632***</td>\n      <td>NaN</td>\n      <td>3.0</td>\n      <td>NaN</td>\n      <td>NaN</td>\n      <td>110.0</td>\n      <td>NaN</td>\n      <td>căn hộ chung cư tân hồng hà tower</td>\n      <td>NaN</td>\n      <td>6.0</td>\n      <td>NaN</td>\n      <td>NaN</td>\n      <td>NaN</td>\n      <td>12.5</td>\n      <td>https://alonhadat.com.vn/cho-thue-can-ho-chung...</td>\n      <td>cho thuê căn hộ chung cư 317 trường chinh ,nga...</td>\n      <td>[['&lt;s&gt;', 'FUR-TYPE'], ['căn_hộ chung_cư', 'APA...</td>\n    </tr>\n    <tr>\n      <th>3</th>\n      <td>3</td>\n      <td>phố liễu giai, phường cống vị, quận ba đình, ...</td>\n      <td>0978996***</td>\n      <td>NaN</td>\n      <td>2.0</td>\n      <td>NaN</td>\n      <td>NaN</td>\n      <td>74.0</td>\n      <td>NaN</td>\n      <td>căn hộ chung cư x1-26 liễu giai (liễu giai tower)</td>\n      <td>NaN</td>\n      <td>NaN</td>\n      <td>NaN</td>\n      <td>NaN</td>\n      <td>NaN</td>\n      <td>12.0</td>\n      <td>https://alonhadat.com.vn/chinh-chu-cho-thue-ca...</td>\n      <td>chính chủ có căn hộ thuộc chung cư liễu giai t...</td>\n      <td>[['chung_cư', 'PJ'], ['liễu giai tower - 26 li...</td>\n    </tr>\n    <tr>\n      <th>4</th>\n      <td>4</td>\n      <td>cầu thang số 4 - ct1 đường trần văn lai, phườ...</td>\n      <td>0981917***</td>\n      <td>NaN</td>\n      <td>3.0</td>\n      <td>NaN</td>\n      <td>NaN</td>\n      <td>105.0</td>\n      <td>NaN</td>\n      <td>căn hộ chung cư the manor</td>\n      <td>NaN</td>\n      <td>1.0</td>\n      <td>NaN</td>\n      <td>NaN</td>\n      <td>NaN</td>\n      <td>12.5</td>\n      <td>https://alonhadat.com.vn/chinh-chu-cho-thue-ch...</td>\n      <td>chính chủ cho thuê chung cư 105m2 với 3pn, 2vs...</td>\n      <td>[['chung_cư', 'APART'], ['105m2', 'AREA'], ['3...</td>\n    </tr>\n    <tr>\n      <th>...</th>\n      <td>...</td>\n      <td>...</td>\n      <td>...</td>\n      <td>...</td>\n      <td>...</td>\n      <td>...</td>\n      <td>...</td>\n      <td>...</td>\n      <td>...</td>\n      <td>...</td>\n      <td>...</td>\n      <td>...</td>\n      <td>...</td>\n      <td>...</td>\n      <td>...</td>\n      <td>...</td>\n      <td>...</td>\n      <td>...</td>\n      <td>...</td>\n    </tr>\n    <tr>\n      <th>6471</th>\n      <td>6471</td>\n      <td>đường minh khai, phường minh khai, quận hai b...</td>\n      <td>0911695***</td>\n      <td>NaN</td>\n      <td>2.0</td>\n      <td>NaN</td>\n      <td>NaN</td>\n      <td>80.0</td>\n      <td>NaN</td>\n      <td>căn hộ chung cư lilama 124 minh khai</td>\n      <td>NaN</td>\n      <td>12.0</td>\n      <td>NaN</td>\n      <td>NaN</td>\n      <td>NaN</td>\n      <td>8.0</td>\n      <td>https://alonhadat.com.vn/cho-thue-can-ho-chung...</td>\n      <td>cho thuê căn hộ chung cư tại toà lilama, minh ...</td>\n      <td>[['căn_hộ chung_cư', 'APART'], ['toà lilama, m...</td>\n    </tr>\n    <tr>\n      <th>6472</th>\n      <td>6472</td>\n      <td>an lạc đường lưu hữu phước, phường cầu diễn, ...</td>\n      <td>0986170***</td>\n      <td>NaN</td>\n      <td>2.0</td>\n      <td>NaN</td>\n      <td>NaN</td>\n      <td>80.0</td>\n      <td>NaN</td>\n      <td>căn hộ chung cư an lạc</td>\n      <td>NaN</td>\n      <td>NaN</td>\n      <td>NaN</td>\n      <td>NaN</td>\n      <td>NaN</td>\n      <td>7.0</td>\n      <td>https://alonhadat.com.vn/cho-thue-can-ho-chung...</td>\n      <td>cho thuê gấp căn hộ chung cư tòa nhà an lạc , ...</td>\n      <td>[['căn_hộ chung_cư', 'APART'], ['toà nhà an_lạ...</td>\n    </tr>\n    <tr>\n      <th>6473</th>\n      <td>6473</td>\n      <td>đường việt hưng, phường việt hưng, quận long ...</td>\n      <td>0345243***</td>\n      <td>NaN</td>\n      <td>2.0</td>\n      <td>NaN</td>\n      <td>NaN</td>\n      <td>80.0</td>\n      <td>NaN</td>\n      <td>NaN</td>\n      <td>NaN</td>\n      <td>15.0</td>\n      <td>NaN</td>\n      <td>NaN</td>\n      <td>NaN</td>\n      <td>8.0</td>\n      <td>https://alonhadat.com.vn/cho-thue-can-ho-chung...</td>\n      <td>cho thuê căn hộ chung cư happy star việt hưng,...</td>\n      <td>[['căn_hộ chung_cư', 'APART'], ['2w', 'ROOM'],...</td>\n    </tr>\n    <tr>\n      <th>6474</th>\n      <td>6474</td>\n      <td>đường lê trực, phường điện biên, quận ba đình...</td>\n      <td>0327582***</td>\n      <td>NaN</td>\n      <td>2.0</td>\n      <td>NaN</td>\n      <td>NaN</td>\n      <td>85.0</td>\n      <td>NaN</td>\n      <td>khu phức hợp discovery central (discovery comp...</td>\n      <td>NaN</td>\n      <td>NaN</td>\n      <td>NaN</td>\n      <td>NaN</td>\n      <td>NaN</td>\n      <td>25.0</td>\n      <td>https://alonhadat.com.vn/cho-thue-can-ho-o-dis...</td>\n      <td>- cho thuê căn hộ ở discovery complex - 8b lê ...</td>\n      <td>[['căn_hộ', 'APART'], ['discovery complex', 'P...</td>\n    </tr>\n    <tr>\n      <th>6475</th>\n      <td>6475</td>\n      <td>đường đại lộ thăng long, phường mễ trì, quận ...</td>\n      <td>0327582***</td>\n      <td>NaN</td>\n      <td>3.0</td>\n      <td>NaN</td>\n      <td>NaN</td>\n      <td>135.0</td>\n      <td>NaN</td>\n      <td>căn hộ chung cư thang long number one</td>\n      <td>NaN</td>\n      <td>NaN</td>\n      <td>NaN</td>\n      <td>NaN</td>\n      <td>NaN</td>\n      <td>15.0</td>\n      <td>https://alonhadat.com.vn/cho-thue-can-ho-o-tha...</td>\n      <td>- cho thuê căn hộ ở thăng long number 1 - 1 đạ...</td>\n      <td>[['căn_hộ', 'APART'], ['thăng long number 1', ...</td>\n    </tr>\n  </tbody>\n</table>\n<p>6476 rows × 19 columns</p>\n</div>"
     },
     "execution_count": 11,
     "metadata": {},
     "output_type": "execute_result"
    }
   ],
   "source": [
    "alonhadat_df"
   ],
   "metadata": {
    "collapsed": false,
    "pycharm": {
     "name": "#%%\n"
    }
   }
  },
  {
   "cell_type": "code",
   "execution_count": 12,
   "outputs": [],
   "source": [
    "filled_alonhadat_df = fill_empty_data(converted_df=alonhadat_df)"
   ],
   "metadata": {
    "collapsed": false,
    "pycharm": {
     "name": "#%%\n"
    }
   }
  },
  {
   "cell_type": "code",
   "execution_count": 13,
   "outputs": [
    {
     "data": {
      "text/plain": "      Unnamed: 0                                           LOCATION  \\\n0              0   đường lĩnh nam, phường lĩnh nam, quận hoàng m...   \n1              1   đường nguyễn văn huyên, phường bưởi, quận tây...   \n2              2   đường trường chinh, phường phương mai, quận t...   \n3              3   phố liễu giai, phường cống vị, quận ba đình, ...   \n4              4   cầu thang số 4 - ct1 đường trần văn lai, phườ...   \n...          ...                                                ...   \n6471        6471   đường minh khai, phường minh khai, quận hai b...   \n6472        6472   an lạc đường lưu hữu phước, phường cầu diễn, ...   \n6473        6473   đường việt hưng, phường việt hưng, quận long ...   \n6474        6474   đường lê trực, phường điện biên, quận ba đình...   \n6475        6475   đường đại lộ thăng long, phường mễ trì, quận ...   \n\n     PHONE_NUMBER  NEWS_TYPE  BEDROOM_NUMBER  BATH_ROOM_NUMBER  LIVING_ROOM  \\\n0      0961632***        NaN             3.0               2.0          NaN   \n1      0961632***        NaN             3.0               2.0          1.0   \n2      0961632***        NaN             3.0               2.0          NaN   \n3      0978996***        NaN             2.0               2.0          NaN   \n4      0981917***        NaN             3.0               2.0          1.0   \n...           ...        ...             ...               ...          ...   \n6471   0911695***        NaN             2.0               1.0          1.0   \n6472   0986170***        NaN             2.0               1.0          1.0   \n6473   0345243***        NaN             2.0               2.0          NaN   \n6474   0327582***        NaN             2.0               NaN          NaN   \n6475   0327582***        NaN             3.0               NaN          NaN   \n\n       AREA APARTMENT_TYPE                                            PROJECT  \\\n0      96.0       chung_cư                  căn hộ chung cư new horizion city   \n1     103.0       chung_cư                     căn hộ chung cư ecolife tây hồ   \n2     110.0       chung_cư                  căn hộ chung cư tân hồng hà tower   \n3      74.0            NaN  căn hộ chung cư x1-26 liễu giai (liễu giai tower)   \n4     105.0       chung_cư                          căn hộ chung cư the manor   \n...     ...            ...                                                ...   \n6471   80.0       chung_cư               căn hộ chung cư lilama 124 minh khai   \n6472   80.0       chung_cư                             căn hộ chung cư an lạc   \n6473   80.0       chung_cư  chung_cư happy star trung_tâm khu đô_thị việt ...   \n6474   85.0       chung_cư  khu phức hợp discovery central (discovery comp...   \n6475  135.0       chung_cư              căn hộ chung cư thang long number one   \n\n      INVESTOR  FLOOR FURNITURE_TYPE  \\\n0          NaN   20.0           full   \n1          NaN   14.0           full   \n2          NaN    6.0         cơ_bản   \n3          NaN    NaN         cơ_bản   \n4          NaN    1.0           full   \n...        ...    ...            ...   \n6471       NaN   12.0            NaN   \n6472       NaN    NaN           full   \n6473       NaN   15.0            NaN   \n6474       NaN    NaN         cơ_bản   \n6475       NaN    NaN         cơ_bản   \n\n                                              FURNITURE  \\\n0                                                    []   \n1     [tủ bếp,  4 điều_hoà,  2 nóng lạnh,  giường,  ...   \n2                                                    []   \n3     [điều_hoà, nóng lạnh, hệ_thống bếp,  tủ bếp dư...   \n4                                    [điều_hoà 2 chiều]   \n...                                                 ...   \n6471                                                 []   \n6472                                           [sàn gỗ]   \n6473               [nóng lạbế, giường tủă, máy lọc nướ]   \n6474  [điều_hoà,  nóng lạnh,  tủ âm tường,  kệ tủ bế...   \n6475                   [điều_hoà, nóng lạnh, kệ tủ bếp]   \n\n                                             CONVENIENT  PRICE  \\\n0                                                    []   10.0   \n1                                                    []   10.0   \n2                                                    []   12.5   \n3                                            [tiện_lợi]   12.0   \n4     [hiệu thuốhọ, trung_tâm hội_nghị, khu liên_hiệ...   12.5   \n...                                                 ...    ...   \n6471                            [trung_tâm, thuận_tiện]    8.0   \n6472                                                 []    7.0   \n6473                                                 []    8.0   \n6474                                                 []   25.0   \n6475                                                 []   15.0   \n\n                                                    URL  \\\n0     https://alonhadat.com.vn/cho-thue-can-ho-chung...   \n1     https://alonhadat.com.vn/cho-thue-can-ho-chung...   \n2     https://alonhadat.com.vn/cho-thue-can-ho-chung...   \n3     https://alonhadat.com.vn/chinh-chu-cho-thue-ca...   \n4     https://alonhadat.com.vn/chinh-chu-cho-thue-ch...   \n...                                                 ...   \n6471  https://alonhadat.com.vn/cho-thue-can-ho-chung...   \n6472  https://alonhadat.com.vn/cho-thue-can-ho-chung...   \n6473  https://alonhadat.com.vn/cho-thue-can-ho-chung...   \n6474  https://alonhadat.com.vn/cho-thue-can-ho-o-dis...   \n6475  https://alonhadat.com.vn/cho-thue-can-ho-o-tha...   \n\n                                        RAW_DESCRIPTION  \\\n0     cho thuê căn hộ chung cư 87 lĩnh nam , hoàng m...   \n1     cho thuê căn hộ chung cư ecolife tây hồ đường ...   \n2     cho thuê căn hộ chung cư 317 trường chinh ,nga...   \n3     chính chủ có căn hộ thuộc chung cư liễu giai t...   \n4     chính chủ cho thuê chung cư 105m2 với 3pn, 2vs...   \n...                                                 ...   \n6471  cho thuê căn hộ chung cư tại toà lilama, minh ...   \n6472  cho thuê gấp căn hộ chung cư tòa nhà an lạc , ...   \n6473  cho thuê căn hộ chung cư happy star việt hưng,...   \n6474  - cho thuê căn hộ ở discovery complex - 8b lê ...   \n6475  - cho thuê căn hộ ở thăng long number 1 - 1 đạ...   \n\n                                               ENTITIES  \n0     [['<s>', 'FUR-TYPE'], ['căn_hộ chung_cư', 'APA...  \n1     [['căn_hộ', 'APART'], ['chung_cư ecolife', 'PJ...  \n2     [['<s>', 'FUR-TYPE'], ['căn_hộ chung_cư', 'APA...  \n3     [['chung_cư', 'PJ'], ['liễu giai tower - 26 li...  \n4     [['chung_cư', 'APART'], ['105m2', 'AREA'], ['3...  \n...                                                 ...  \n6471  [['căn_hộ chung_cư', 'APART'], ['toà lilama, m...  \n6472  [['căn_hộ chung_cư', 'APART'], ['toà nhà an_lạ...  \n6473  [['căn_hộ chung_cư', 'APART'], ['2w', 'ROOM'],...  \n6474  [['căn_hộ', 'APART'], ['discovery complex', 'P...  \n6475  [['căn_hộ', 'APART'], ['thăng long number 1', ...  \n\n[6476 rows x 19 columns]",
      "text/html": "<div>\n<style scoped>\n    .dataframe tbody tr th:only-of-type {\n        vertical-align: middle;\n    }\n\n    .dataframe tbody tr th {\n        vertical-align: top;\n    }\n\n    .dataframe thead th {\n        text-align: right;\n    }\n</style>\n<table border=\"1\" class=\"dataframe\">\n  <thead>\n    <tr style=\"text-align: right;\">\n      <th></th>\n      <th>Unnamed: 0</th>\n      <th>LOCATION</th>\n      <th>PHONE_NUMBER</th>\n      <th>NEWS_TYPE</th>\n      <th>BEDROOM_NUMBER</th>\n      <th>BATH_ROOM_NUMBER</th>\n      <th>LIVING_ROOM</th>\n      <th>AREA</th>\n      <th>APARTMENT_TYPE</th>\n      <th>PROJECT</th>\n      <th>INVESTOR</th>\n      <th>FLOOR</th>\n      <th>FURNITURE_TYPE</th>\n      <th>FURNITURE</th>\n      <th>CONVENIENT</th>\n      <th>PRICE</th>\n      <th>URL</th>\n      <th>RAW_DESCRIPTION</th>\n      <th>ENTITIES</th>\n    </tr>\n  </thead>\n  <tbody>\n    <tr>\n      <th>0</th>\n      <td>0</td>\n      <td>đường lĩnh nam, phường lĩnh nam, quận hoàng m...</td>\n      <td>0961632***</td>\n      <td>NaN</td>\n      <td>3.0</td>\n      <td>2.0</td>\n      <td>NaN</td>\n      <td>96.0</td>\n      <td>chung_cư</td>\n      <td>căn hộ chung cư new horizion city</td>\n      <td>NaN</td>\n      <td>20.0</td>\n      <td>full</td>\n      <td>[]</td>\n      <td>[]</td>\n      <td>10.0</td>\n      <td>https://alonhadat.com.vn/cho-thue-can-ho-chung...</td>\n      <td>cho thuê căn hộ chung cư 87 lĩnh nam , hoàng m...</td>\n      <td>[['&lt;s&gt;', 'FUR-TYPE'], ['căn_hộ chung_cư', 'APA...</td>\n    </tr>\n    <tr>\n      <th>1</th>\n      <td>1</td>\n      <td>đường nguyễn văn huyên, phường bưởi, quận tây...</td>\n      <td>0961632***</td>\n      <td>NaN</td>\n      <td>3.0</td>\n      <td>2.0</td>\n      <td>1.0</td>\n      <td>103.0</td>\n      <td>chung_cư</td>\n      <td>căn hộ chung cư ecolife tây hồ</td>\n      <td>NaN</td>\n      <td>14.0</td>\n      <td>full</td>\n      <td>[tủ bếp,  4 điều_hoà,  2 nóng lạnh,  giường,  ...</td>\n      <td>[]</td>\n      <td>10.0</td>\n      <td>https://alonhadat.com.vn/cho-thue-can-ho-chung...</td>\n      <td>cho thuê căn hộ chung cư ecolife tây hồ đường ...</td>\n      <td>[['căn_hộ', 'APART'], ['chung_cư ecolife', 'PJ...</td>\n    </tr>\n    <tr>\n      <th>2</th>\n      <td>2</td>\n      <td>đường trường chinh, phường phương mai, quận t...</td>\n      <td>0961632***</td>\n      <td>NaN</td>\n      <td>3.0</td>\n      <td>2.0</td>\n      <td>NaN</td>\n      <td>110.0</td>\n      <td>chung_cư</td>\n      <td>căn hộ chung cư tân hồng hà tower</td>\n      <td>NaN</td>\n      <td>6.0</td>\n      <td>cơ_bản</td>\n      <td>[]</td>\n      <td>[]</td>\n      <td>12.5</td>\n      <td>https://alonhadat.com.vn/cho-thue-can-ho-chung...</td>\n      <td>cho thuê căn hộ chung cư 317 trường chinh ,nga...</td>\n      <td>[['&lt;s&gt;', 'FUR-TYPE'], ['căn_hộ chung_cư', 'APA...</td>\n    </tr>\n    <tr>\n      <th>3</th>\n      <td>3</td>\n      <td>phố liễu giai, phường cống vị, quận ba đình, ...</td>\n      <td>0978996***</td>\n      <td>NaN</td>\n      <td>2.0</td>\n      <td>2.0</td>\n      <td>NaN</td>\n      <td>74.0</td>\n      <td>NaN</td>\n      <td>căn hộ chung cư x1-26 liễu giai (liễu giai tower)</td>\n      <td>NaN</td>\n      <td>NaN</td>\n      <td>cơ_bản</td>\n      <td>[điều_hoà, nóng lạnh, hệ_thống bếp,  tủ bếp dư...</td>\n      <td>[tiện_lợi]</td>\n      <td>12.0</td>\n      <td>https://alonhadat.com.vn/chinh-chu-cho-thue-ca...</td>\n      <td>chính chủ có căn hộ thuộc chung cư liễu giai t...</td>\n      <td>[['chung_cư', 'PJ'], ['liễu giai tower - 26 li...</td>\n    </tr>\n    <tr>\n      <th>4</th>\n      <td>4</td>\n      <td>cầu thang số 4 - ct1 đường trần văn lai, phườ...</td>\n      <td>0981917***</td>\n      <td>NaN</td>\n      <td>3.0</td>\n      <td>2.0</td>\n      <td>1.0</td>\n      <td>105.0</td>\n      <td>chung_cư</td>\n      <td>căn hộ chung cư the manor</td>\n      <td>NaN</td>\n      <td>1.0</td>\n      <td>full</td>\n      <td>[điều_hoà 2 chiều]</td>\n      <td>[hiệu thuốhọ, trung_tâm hội_nghị, khu liên_hiệ...</td>\n      <td>12.5</td>\n      <td>https://alonhadat.com.vn/chinh-chu-cho-thue-ch...</td>\n      <td>chính chủ cho thuê chung cư 105m2 với 3pn, 2vs...</td>\n      <td>[['chung_cư', 'APART'], ['105m2', 'AREA'], ['3...</td>\n    </tr>\n    <tr>\n      <th>...</th>\n      <td>...</td>\n      <td>...</td>\n      <td>...</td>\n      <td>...</td>\n      <td>...</td>\n      <td>...</td>\n      <td>...</td>\n      <td>...</td>\n      <td>...</td>\n      <td>...</td>\n      <td>...</td>\n      <td>...</td>\n      <td>...</td>\n      <td>...</td>\n      <td>...</td>\n      <td>...</td>\n      <td>...</td>\n      <td>...</td>\n      <td>...</td>\n    </tr>\n    <tr>\n      <th>6471</th>\n      <td>6471</td>\n      <td>đường minh khai, phường minh khai, quận hai b...</td>\n      <td>0911695***</td>\n      <td>NaN</td>\n      <td>2.0</td>\n      <td>1.0</td>\n      <td>1.0</td>\n      <td>80.0</td>\n      <td>chung_cư</td>\n      <td>căn hộ chung cư lilama 124 minh khai</td>\n      <td>NaN</td>\n      <td>12.0</td>\n      <td>NaN</td>\n      <td>[]</td>\n      <td>[trung_tâm, thuận_tiện]</td>\n      <td>8.0</td>\n      <td>https://alonhadat.com.vn/cho-thue-can-ho-chung...</td>\n      <td>cho thuê căn hộ chung cư tại toà lilama, minh ...</td>\n      <td>[['căn_hộ chung_cư', 'APART'], ['toà lilama, m...</td>\n    </tr>\n    <tr>\n      <th>6472</th>\n      <td>6472</td>\n      <td>an lạc đường lưu hữu phước, phường cầu diễn, ...</td>\n      <td>0986170***</td>\n      <td>NaN</td>\n      <td>2.0</td>\n      <td>1.0</td>\n      <td>1.0</td>\n      <td>80.0</td>\n      <td>chung_cư</td>\n      <td>căn hộ chung cư an lạc</td>\n      <td>NaN</td>\n      <td>NaN</td>\n      <td>full</td>\n      <td>[sàn gỗ]</td>\n      <td>[]</td>\n      <td>7.0</td>\n      <td>https://alonhadat.com.vn/cho-thue-can-ho-chung...</td>\n      <td>cho thuê gấp căn hộ chung cư tòa nhà an lạc , ...</td>\n      <td>[['căn_hộ chung_cư', 'APART'], ['toà nhà an_lạ...</td>\n    </tr>\n    <tr>\n      <th>6473</th>\n      <td>6473</td>\n      <td>đường việt hưng, phường việt hưng, quận long ...</td>\n      <td>0345243***</td>\n      <td>NaN</td>\n      <td>2.0</td>\n      <td>2.0</td>\n      <td>NaN</td>\n      <td>80.0</td>\n      <td>chung_cư</td>\n      <td>chung_cư happy star trung_tâm khu đô_thị việt ...</td>\n      <td>NaN</td>\n      <td>15.0</td>\n      <td>NaN</td>\n      <td>[nóng lạbế, giường tủă, máy lọc nướ]</td>\n      <td>[]</td>\n      <td>8.0</td>\n      <td>https://alonhadat.com.vn/cho-thue-can-ho-chung...</td>\n      <td>cho thuê căn hộ chung cư happy star việt hưng,...</td>\n      <td>[['căn_hộ chung_cư', 'APART'], ['2w', 'ROOM'],...</td>\n    </tr>\n    <tr>\n      <th>6474</th>\n      <td>6474</td>\n      <td>đường lê trực, phường điện biên, quận ba đình...</td>\n      <td>0327582***</td>\n      <td>NaN</td>\n      <td>2.0</td>\n      <td>NaN</td>\n      <td>NaN</td>\n      <td>85.0</td>\n      <td>chung_cư</td>\n      <td>khu phức hợp discovery central (discovery comp...</td>\n      <td>NaN</td>\n      <td>NaN</td>\n      <td>cơ_bản</td>\n      <td>[điều_hoà,  nóng lạnh,  tủ âm tường,  kệ tủ bế...</td>\n      <td>[]</td>\n      <td>25.0</td>\n      <td>https://alonhadat.com.vn/cho-thue-can-ho-o-dis...</td>\n      <td>- cho thuê căn hộ ở discovery complex - 8b lê ...</td>\n      <td>[['căn_hộ', 'APART'], ['discovery complex', 'P...</td>\n    </tr>\n    <tr>\n      <th>6475</th>\n      <td>6475</td>\n      <td>đường đại lộ thăng long, phường mễ trì, quận ...</td>\n      <td>0327582***</td>\n      <td>NaN</td>\n      <td>3.0</td>\n      <td>NaN</td>\n      <td>NaN</td>\n      <td>135.0</td>\n      <td>chung_cư</td>\n      <td>căn hộ chung cư thang long number one</td>\n      <td>NaN</td>\n      <td>NaN</td>\n      <td>cơ_bản</td>\n      <td>[điều_hoà, nóng lạnh, kệ tủ bếp]</td>\n      <td>[]</td>\n      <td>15.0</td>\n      <td>https://alonhadat.com.vn/cho-thue-can-ho-o-tha...</td>\n      <td>- cho thuê căn hộ ở thăng long number 1 - 1 đạ...</td>\n      <td>[['căn_hộ', 'APART'], ['thăng long number 1', ...</td>\n    </tr>\n  </tbody>\n</table>\n<p>6476 rows × 19 columns</p>\n</div>"
     },
     "execution_count": 13,
     "metadata": {},
     "output_type": "execute_result"
    }
   ],
   "source": [
    "filled_alonhadat_df"
   ],
   "metadata": {
    "collapsed": false,
    "pycharm": {
     "name": "#%%\n"
    }
   }
  },
  {
   "cell_type": "code",
   "execution_count": 14,
   "outputs": [],
   "source": [
    "filled_alonhadat_df.to_csv('filled_alonhadat.csv')"
   ],
   "metadata": {
    "collapsed": false,
    "pycharm": {
     "name": "#%%\n"
    }
   }
  },
  {
   "cell_type": "code",
   "execution_count": 23,
   "outputs": [],
   "source": [
    "bds_file = 'bds.csv'\n",
    "bds_df = pd.read_csv(bds_file)"
   ],
   "metadata": {
    "collapsed": false,
    "pycharm": {
     "name": "#%%\n"
    }
   }
  },
  {
   "cell_type": "code",
   "execution_count": 24,
   "outputs": [
    {
     "data": {
      "text/plain": "      Unnamed: 0                                           LOCATION  \\\n0              0  dự án vinhomes smart city, đường đại lộ thăng ...   \n1              1  dự án vinhomes smart city đại mỗ, phường tây m...   \n2              2  dự án vinhomes smart city đại mỗ, phường tây m...   \n3              3  ngõ 27, đường cát linh, phường cát linh, đống ...   \n4              4  dự án vinhomes d'capitale, đường trần duy hưng...   \n...          ...                                                ...   \n4033        4033  dự án sunshine city, đường phạm văn đồng, phườ...   \n4034        4034  dự án the zei mỹ đình, đường lê đức thọ, phườn...   \n4035        4035  dự án goldmark city, đường hồ tùng mậu, phường...   \n4036        4036  dự án ciputra hà nội, đường lạc long quân, phư...   \n4037        4037  dự án intracom riverside, đường võ chí công, x...   \n\n     PHONE_NUMBER  NEWS_TYPE BEDROOM_NUMBER  BATH_ROOM_NUMBER  LIVING_ROOM  \\\n0      0984521346        NaN              1               NaN          NaN   \n1      0933722886        NaN              2               NaN          NaN   \n2      0833451111        NaN              1               NaN          NaN   \n3      0902469188        NaN              3               NaN          NaN   \n4      0944010255        NaN              1               NaN          NaN   \n...           ...        ...            ...               ...          ...   \n4033   0981959535        NaN              2               NaN          NaN   \n4034   0348983388        NaN              3               NaN          NaN   \n4035   0982848648        NaN              2               NaN          NaN   \n4036   0976944818        NaN              3               NaN          NaN   \n4037   0982848648        NaN              2               NaN          NaN   \n\n     AREA  APARTMENT_TYPE  PROJECT  INVESTOR  FLOOR  FURNITURE_TYPE  \\\n0      35             NaN      NaN       NaN    NaN             NaN   \n1      70             NaN      NaN       NaN    NaN             NaN   \n2      35             NaN      NaN       NaN    NaN             NaN   \n3     100             NaN      NaN       NaN    NaN             NaN   \n4      38             NaN      NaN       NaN    NaN             NaN   \n...   ...             ...      ...       ...    ...             ...   \n4033   83             NaN      NaN       NaN    NaN             NaN   \n4034   94             NaN      NaN       NaN    NaN             NaN   \n4035   78             NaN      NaN       NaN    NaN             NaN   \n4036  114             NaN      NaN       NaN    NaN             NaN   \n4037   60             NaN      NaN       NaN    NaN             NaN   \n\n      FURNITURE  CONVENIENT  PRICE  \\\n0           NaN         NaN    4.0   \n1           NaN         NaN    8.0   \n2           NaN         NaN    4.0   \n3           NaN         NaN   12.0   \n4           NaN         NaN    8.0   \n...         ...         ...    ...   \n4033        NaN         NaN    9.0   \n4034        NaN         NaN   12.0   \n4035        NaN         NaN    9.0   \n4036        NaN         NaN   15.0   \n4037        NaN         NaN    5.0   \n\n                                                    URL  \\\n0     https://batdongsan.com.vn/cho-thue-can-ho-chun...   \n1     https://batdongsan.com.vn/cho-thue-can-ho-chun...   \n2     https://batdongsan.com.vn/cho-thue-can-ho-chun...   \n3     https://batdongsan.com.vn/cho-thue-can-ho-chun...   \n4     https://batdongsan.com.vn/cho-thue-can-ho-chun...   \n...                                                 ...   \n4033  https://batdongsan.com.vn/cho-thue-can-ho-chun...   \n4034  https://batdongsan.com.vn/cho-thue-can-ho-chun...   \n4035  https://batdongsan.com.vn/cho-thue-can-ho-chun...   \n4036  https://batdongsan.com.vn/cho-thue-can-ho-chun...   \n4037  https://batdongsan.com.vn/cho-thue-can-ho-chun...   \n\n                                        RAW_DESCRIPTION  \\\n0     * cam kết:\\n- giá rẻ nhất, dịch vụ tốt nhất.\\n...   \n1     với kinh nghiệm 5 năm cho thuê nhà và đội ngũ ...   \n2     với sự uy tín, chu đáo và nhiệt tình của đội n...   \n3     căn hộ đầu hồi 100m2 tầng 3 - tại ngõ 27 cát l...   \n4     lh xem thực tế căn hộ 24/7:\\n0944010***\\n.\\n\\n...   \n...                                                 ...   \n4033  chúng tôi chuyên cho thuê các căn hộ tại chung...   \n4034  bên em đang quản lý nhiều căn hộ tại dự án the...   \n4035  do không có nhu cầu sử dụng vợ chồng tôi cần c...   \n4036  hiện tại tôi có căn hộ tại tòa the link trong ...   \n4037  do không có nhu cầu sử dụng vợ chồng tôi cần c...   \n\n                                               ENTITIES  \n0     [['đầy_đủ', 'FUR-TYPE'], ['cơ_bản', 'FUR-TYPE'...  \n1     [['<s>', 'AREA'], ['</s>', 'AREA'], ['<s>', 'A...  \n2     [['cc vinhomes smart city', 'PJ'], ['1pn', 'RO...  \n3     [['100m2', 'AREA'], ['ngõ 27 cát linh - đống_đ...  \n4     [['full', 'FUR-TYPE'], ['tv, giường, tủ, máy_g...  \n...                                                 ...  \n4033  [['sunshine cbắc từ_l', 'PJ'], ['2,3,4,5 phòng...  \n4034  [['căn_hộ', 'ID'], ['2n m2', 'ROOM'], ['cơ_bản...  \n4035  [['căn_hộ chung_cư cao_cấp', 'APART'], ['toà c...  \n4036  [['toà the link trong khu đô_thị ciputra.', 'P...  \n4037  [['căn_hộ chung_cư cao_cấp', 'APART'], ['intra...  \n\n[4038 rows x 19 columns]",
      "text/html": "<div>\n<style scoped>\n    .dataframe tbody tr th:only-of-type {\n        vertical-align: middle;\n    }\n\n    .dataframe tbody tr th {\n        vertical-align: top;\n    }\n\n    .dataframe thead th {\n        text-align: right;\n    }\n</style>\n<table border=\"1\" class=\"dataframe\">\n  <thead>\n    <tr style=\"text-align: right;\">\n      <th></th>\n      <th>Unnamed: 0</th>\n      <th>LOCATION</th>\n      <th>PHONE_NUMBER</th>\n      <th>NEWS_TYPE</th>\n      <th>BEDROOM_NUMBER</th>\n      <th>BATH_ROOM_NUMBER</th>\n      <th>LIVING_ROOM</th>\n      <th>AREA</th>\n      <th>APARTMENT_TYPE</th>\n      <th>PROJECT</th>\n      <th>INVESTOR</th>\n      <th>FLOOR</th>\n      <th>FURNITURE_TYPE</th>\n      <th>FURNITURE</th>\n      <th>CONVENIENT</th>\n      <th>PRICE</th>\n      <th>URL</th>\n      <th>RAW_DESCRIPTION</th>\n      <th>ENTITIES</th>\n    </tr>\n  </thead>\n  <tbody>\n    <tr>\n      <th>0</th>\n      <td>0</td>\n      <td>dự án vinhomes smart city, đường đại lộ thăng ...</td>\n      <td>0984521346</td>\n      <td>NaN</td>\n      <td>1</td>\n      <td>NaN</td>\n      <td>NaN</td>\n      <td>35</td>\n      <td>NaN</td>\n      <td>NaN</td>\n      <td>NaN</td>\n      <td>NaN</td>\n      <td>NaN</td>\n      <td>NaN</td>\n      <td>NaN</td>\n      <td>4.0</td>\n      <td>https://batdongsan.com.vn/cho-thue-can-ho-chun...</td>\n      <td>* cam kết:\\n- giá rẻ nhất, dịch vụ tốt nhất.\\n...</td>\n      <td>[['đầy_đủ', 'FUR-TYPE'], ['cơ_bản', 'FUR-TYPE'...</td>\n    </tr>\n    <tr>\n      <th>1</th>\n      <td>1</td>\n      <td>dự án vinhomes smart city đại mỗ, phường tây m...</td>\n      <td>0933722886</td>\n      <td>NaN</td>\n      <td>2</td>\n      <td>NaN</td>\n      <td>NaN</td>\n      <td>70</td>\n      <td>NaN</td>\n      <td>NaN</td>\n      <td>NaN</td>\n      <td>NaN</td>\n      <td>NaN</td>\n      <td>NaN</td>\n      <td>NaN</td>\n      <td>8.0</td>\n      <td>https://batdongsan.com.vn/cho-thue-can-ho-chun...</td>\n      <td>với kinh nghiệm 5 năm cho thuê nhà và đội ngũ ...</td>\n      <td>[['&lt;s&gt;', 'AREA'], ['&lt;/s&gt;', 'AREA'], ['&lt;s&gt;', 'A...</td>\n    </tr>\n    <tr>\n      <th>2</th>\n      <td>2</td>\n      <td>dự án vinhomes smart city đại mỗ, phường tây m...</td>\n      <td>0833451111</td>\n      <td>NaN</td>\n      <td>1</td>\n      <td>NaN</td>\n      <td>NaN</td>\n      <td>35</td>\n      <td>NaN</td>\n      <td>NaN</td>\n      <td>NaN</td>\n      <td>NaN</td>\n      <td>NaN</td>\n      <td>NaN</td>\n      <td>NaN</td>\n      <td>4.0</td>\n      <td>https://batdongsan.com.vn/cho-thue-can-ho-chun...</td>\n      <td>với sự uy tín, chu đáo và nhiệt tình của đội n...</td>\n      <td>[['cc vinhomes smart city', 'PJ'], ['1pn', 'RO...</td>\n    </tr>\n    <tr>\n      <th>3</th>\n      <td>3</td>\n      <td>ngõ 27, đường cát linh, phường cát linh, đống ...</td>\n      <td>0902469188</td>\n      <td>NaN</td>\n      <td>3</td>\n      <td>NaN</td>\n      <td>NaN</td>\n      <td>100</td>\n      <td>NaN</td>\n      <td>NaN</td>\n      <td>NaN</td>\n      <td>NaN</td>\n      <td>NaN</td>\n      <td>NaN</td>\n      <td>NaN</td>\n      <td>12.0</td>\n      <td>https://batdongsan.com.vn/cho-thue-can-ho-chun...</td>\n      <td>căn hộ đầu hồi 100m2 tầng 3 - tại ngõ 27 cát l...</td>\n      <td>[['100m2', 'AREA'], ['ngõ 27 cát linh - đống_đ...</td>\n    </tr>\n    <tr>\n      <th>4</th>\n      <td>4</td>\n      <td>dự án vinhomes d'capitale, đường trần duy hưng...</td>\n      <td>0944010255</td>\n      <td>NaN</td>\n      <td>1</td>\n      <td>NaN</td>\n      <td>NaN</td>\n      <td>38</td>\n      <td>NaN</td>\n      <td>NaN</td>\n      <td>NaN</td>\n      <td>NaN</td>\n      <td>NaN</td>\n      <td>NaN</td>\n      <td>NaN</td>\n      <td>8.0</td>\n      <td>https://batdongsan.com.vn/cho-thue-can-ho-chun...</td>\n      <td>lh xem thực tế căn hộ 24/7:\\n0944010***\\n.\\n\\n...</td>\n      <td>[['full', 'FUR-TYPE'], ['tv, giường, tủ, máy_g...</td>\n    </tr>\n    <tr>\n      <th>...</th>\n      <td>...</td>\n      <td>...</td>\n      <td>...</td>\n      <td>...</td>\n      <td>...</td>\n      <td>...</td>\n      <td>...</td>\n      <td>...</td>\n      <td>...</td>\n      <td>...</td>\n      <td>...</td>\n      <td>...</td>\n      <td>...</td>\n      <td>...</td>\n      <td>...</td>\n      <td>...</td>\n      <td>...</td>\n      <td>...</td>\n      <td>...</td>\n    </tr>\n    <tr>\n      <th>4033</th>\n      <td>4033</td>\n      <td>dự án sunshine city, đường phạm văn đồng, phườ...</td>\n      <td>0981959535</td>\n      <td>NaN</td>\n      <td>2</td>\n      <td>NaN</td>\n      <td>NaN</td>\n      <td>83</td>\n      <td>NaN</td>\n      <td>NaN</td>\n      <td>NaN</td>\n      <td>NaN</td>\n      <td>NaN</td>\n      <td>NaN</td>\n      <td>NaN</td>\n      <td>9.0</td>\n      <td>https://batdongsan.com.vn/cho-thue-can-ho-chun...</td>\n      <td>chúng tôi chuyên cho thuê các căn hộ tại chung...</td>\n      <td>[['sunshine cbắc từ_l', 'PJ'], ['2,3,4,5 phòng...</td>\n    </tr>\n    <tr>\n      <th>4034</th>\n      <td>4034</td>\n      <td>dự án the zei mỹ đình, đường lê đức thọ, phườn...</td>\n      <td>0348983388</td>\n      <td>NaN</td>\n      <td>3</td>\n      <td>NaN</td>\n      <td>NaN</td>\n      <td>94</td>\n      <td>NaN</td>\n      <td>NaN</td>\n      <td>NaN</td>\n      <td>NaN</td>\n      <td>NaN</td>\n      <td>NaN</td>\n      <td>NaN</td>\n      <td>12.0</td>\n      <td>https://batdongsan.com.vn/cho-thue-can-ho-chun...</td>\n      <td>bên em đang quản lý nhiều căn hộ tại dự án the...</td>\n      <td>[['căn_hộ', 'ID'], ['2n m2', 'ROOM'], ['cơ_bản...</td>\n    </tr>\n    <tr>\n      <th>4035</th>\n      <td>4035</td>\n      <td>dự án goldmark city, đường hồ tùng mậu, phường...</td>\n      <td>0982848648</td>\n      <td>NaN</td>\n      <td>2</td>\n      <td>NaN</td>\n      <td>NaN</td>\n      <td>78</td>\n      <td>NaN</td>\n      <td>NaN</td>\n      <td>NaN</td>\n      <td>NaN</td>\n      <td>NaN</td>\n      <td>NaN</td>\n      <td>NaN</td>\n      <td>9.0</td>\n      <td>https://batdongsan.com.vn/cho-thue-can-ho-chun...</td>\n      <td>do không có nhu cầu sử dụng vợ chồng tôi cần c...</td>\n      <td>[['căn_hộ chung_cư cao_cấp', 'APART'], ['toà c...</td>\n    </tr>\n    <tr>\n      <th>4036</th>\n      <td>4036</td>\n      <td>dự án ciputra hà nội, đường lạc long quân, phư...</td>\n      <td>0976944818</td>\n      <td>NaN</td>\n      <td>3</td>\n      <td>NaN</td>\n      <td>NaN</td>\n      <td>114</td>\n      <td>NaN</td>\n      <td>NaN</td>\n      <td>NaN</td>\n      <td>NaN</td>\n      <td>NaN</td>\n      <td>NaN</td>\n      <td>NaN</td>\n      <td>15.0</td>\n      <td>https://batdongsan.com.vn/cho-thue-can-ho-chun...</td>\n      <td>hiện tại tôi có căn hộ tại tòa the link trong ...</td>\n      <td>[['toà the link trong khu đô_thị ciputra.', 'P...</td>\n    </tr>\n    <tr>\n      <th>4037</th>\n      <td>4037</td>\n      <td>dự án intracom riverside, đường võ chí công, x...</td>\n      <td>0982848648</td>\n      <td>NaN</td>\n      <td>2</td>\n      <td>NaN</td>\n      <td>NaN</td>\n      <td>60</td>\n      <td>NaN</td>\n      <td>NaN</td>\n      <td>NaN</td>\n      <td>NaN</td>\n      <td>NaN</td>\n      <td>NaN</td>\n      <td>NaN</td>\n      <td>5.0</td>\n      <td>https://batdongsan.com.vn/cho-thue-can-ho-chun...</td>\n      <td>do không có nhu cầu sử dụng vợ chồng tôi cần c...</td>\n      <td>[['căn_hộ chung_cư cao_cấp', 'APART'], ['intra...</td>\n    </tr>\n  </tbody>\n</table>\n<p>4038 rows × 19 columns</p>\n</div>"
     },
     "execution_count": 24,
     "metadata": {},
     "output_type": "execute_result"
    }
   ],
   "source": [
    "bds_df"
   ],
   "metadata": {
    "collapsed": false,
    "pycharm": {
     "name": "#%%\n"
    }
   }
  },
  {
   "cell_type": "code",
   "execution_count": 30,
   "outputs": [],
   "source": [
    "def extract_project(text: str):\n",
    "    if 'dự án' in text and ',' in text:\n",
    "        return text.split(',')[0]\n",
    "\n",
    "def remove_project(text: str):\n",
    "    if 'dự án' in text and ',' in text:\n",
    "        return ','.join(text.split(',')[1:])\n",
    "    else:\n",
    "        return text\n",
    "\n",
    "def clean_bed_room(text):\n",
    "    if text.isdigit():\n",
    "        return int(text)"
   ],
   "metadata": {
    "collapsed": false,
    "pycharm": {
     "name": "#%%\n"
    }
   }
  },
  {
   "cell_type": "code",
   "execution_count": 26,
   "outputs": [
    {
     "data": {
      "text/plain": "False"
     },
     "execution_count": 26,
     "metadata": {},
     "output_type": "execute_result"
    }
   ],
   "source": [
    "bds_df.iloc[5]['BEDROOM_NUMBER'].isdigit()"
   ],
   "metadata": {
    "collapsed": false,
    "pycharm": {
     "name": "#%%\n"
    }
   }
  },
  {
   "cell_type": "code",
   "execution_count": 27,
   "outputs": [],
   "source": [
    "bds_df['PROJECT'] = bds_df['LOCATION'].map(extract_project, na_action='ignore')"
   ],
   "metadata": {
    "collapsed": false,
    "pycharm": {
     "name": "#%%\n"
    }
   }
  },
  {
   "cell_type": "code",
   "execution_count": 28,
   "outputs": [],
   "source": [
    "bds_df['LOCATION'] = bds_df['LOCATION'].map(remove_project, na_action='ignore')"
   ],
   "metadata": {
    "collapsed": false,
    "pycharm": {
     "name": "#%%\n"
    }
   }
  },
  {
   "cell_type": "code",
   "execution_count": 31,
   "outputs": [],
   "source": [
    "bds_df['BEDROOM_NUMBER'] = bds_df['BEDROOM_NUMBER'].map(clean_bed_room, na_action='ignore')"
   ],
   "metadata": {
    "collapsed": false,
    "pycharm": {
     "name": "#%%\n"
    }
   }
  },
  {
   "cell_type": "code",
   "execution_count": 32,
   "outputs": [
    {
     "data": {
      "text/plain": "      Unnamed: 0                                           LOCATION  \\\n0              0   đường đại lộ thăng long, phường đại mỗ, nam t...   \n1              1                 phường tây mỗ, nam từ liêm, hà nội   \n2              2                 phường tây mỗ, nam từ liêm, hà nội   \n3              3  ngõ 27, đường cát linh, phường cát linh, đống ...   \n4              4   đường trần duy hưng, phường trung hòa, cầu gi...   \n...          ...                                                ...   \n4033        4033   đường phạm văn đồng, phường đông ngạc, bắc từ...   \n4034        4034   đường lê đức thọ, phường mỹ đình 2, nam từ li...   \n4035        4035   đường hồ tùng mậu, phường phú diễn, bắc từ li...   \n4036        4036   đường lạc long quân, phường xuân la, tây hồ, ...   \n4037        4037   đường võ chí công, xã vĩnh ngọc, đông anh, hà...   \n\n     PHONE_NUMBER  NEWS_TYPE  BEDROOM_NUMBER  BATH_ROOM_NUMBER  LIVING_ROOM  \\\n0      0984521346        NaN             1.0               NaN          NaN   \n1      0933722886        NaN             2.0               NaN          NaN   \n2      0833451111        NaN             1.0               NaN          NaN   \n3      0902469188        NaN             3.0               NaN          NaN   \n4      0944010255        NaN             1.0               NaN          NaN   \n...           ...        ...             ...               ...          ...   \n4033   0981959535        NaN             2.0               NaN          NaN   \n4034   0348983388        NaN             3.0               NaN          NaN   \n4035   0982848648        NaN             2.0               NaN          NaN   \n4036   0976944818        NaN             3.0               NaN          NaN   \n4037   0982848648        NaN             2.0               NaN          NaN   \n\n     AREA  APARTMENT_TYPE                           PROJECT  INVESTOR  FLOOR  \\\n0      35             NaN         dự án vinhomes smart city       NaN    NaN   \n1      70             NaN  dự án vinhomes smart city đại mỗ       NaN    NaN   \n2      35             NaN  dự án vinhomes smart city đại mỗ       NaN    NaN   \n3     100             NaN                              None       NaN    NaN   \n4      38             NaN         dự án vinhomes d'capitale       NaN    NaN   \n...   ...             ...                               ...       ...    ...   \n4033   83             NaN               dự án sunshine city       NaN    NaN   \n4034   94             NaN             dự án the zei mỹ đình       NaN    NaN   \n4035   78             NaN               dự án goldmark city       NaN    NaN   \n4036  114             NaN              dự án ciputra hà nội       NaN    NaN   \n4037   60             NaN          dự án intracom riverside       NaN    NaN   \n\n      FURNITURE_TYPE  FURNITURE  CONVENIENT  PRICE  \\\n0                NaN        NaN         NaN    4.0   \n1                NaN        NaN         NaN    8.0   \n2                NaN        NaN         NaN    4.0   \n3                NaN        NaN         NaN   12.0   \n4                NaN        NaN         NaN    8.0   \n...              ...        ...         ...    ...   \n4033             NaN        NaN         NaN    9.0   \n4034             NaN        NaN         NaN   12.0   \n4035             NaN        NaN         NaN    9.0   \n4036             NaN        NaN         NaN   15.0   \n4037             NaN        NaN         NaN    5.0   \n\n                                                    URL  \\\n0     https://batdongsan.com.vn/cho-thue-can-ho-chun...   \n1     https://batdongsan.com.vn/cho-thue-can-ho-chun...   \n2     https://batdongsan.com.vn/cho-thue-can-ho-chun...   \n3     https://batdongsan.com.vn/cho-thue-can-ho-chun...   \n4     https://batdongsan.com.vn/cho-thue-can-ho-chun...   \n...                                                 ...   \n4033  https://batdongsan.com.vn/cho-thue-can-ho-chun...   \n4034  https://batdongsan.com.vn/cho-thue-can-ho-chun...   \n4035  https://batdongsan.com.vn/cho-thue-can-ho-chun...   \n4036  https://batdongsan.com.vn/cho-thue-can-ho-chun...   \n4037  https://batdongsan.com.vn/cho-thue-can-ho-chun...   \n\n                                        RAW_DESCRIPTION  \\\n0     * cam kết:\\n- giá rẻ nhất, dịch vụ tốt nhất.\\n...   \n1     với kinh nghiệm 5 năm cho thuê nhà và đội ngũ ...   \n2     với sự uy tín, chu đáo và nhiệt tình của đội n...   \n3     căn hộ đầu hồi 100m2 tầng 3 - tại ngõ 27 cát l...   \n4     lh xem thực tế căn hộ 24/7:\\n0944010***\\n.\\n\\n...   \n...                                                 ...   \n4033  chúng tôi chuyên cho thuê các căn hộ tại chung...   \n4034  bên em đang quản lý nhiều căn hộ tại dự án the...   \n4035  do không có nhu cầu sử dụng vợ chồng tôi cần c...   \n4036  hiện tại tôi có căn hộ tại tòa the link trong ...   \n4037  do không có nhu cầu sử dụng vợ chồng tôi cần c...   \n\n                                               ENTITIES  \n0     [['đầy_đủ', 'FUR-TYPE'], ['cơ_bản', 'FUR-TYPE'...  \n1     [['<s>', 'AREA'], ['</s>', 'AREA'], ['<s>', 'A...  \n2     [['cc vinhomes smart city', 'PJ'], ['1pn', 'RO...  \n3     [['100m2', 'AREA'], ['ngõ 27 cát linh - đống_đ...  \n4     [['full', 'FUR-TYPE'], ['tv, giường, tủ, máy_g...  \n...                                                 ...  \n4033  [['sunshine cbắc từ_l', 'PJ'], ['2,3,4,5 phòng...  \n4034  [['căn_hộ', 'ID'], ['2n m2', 'ROOM'], ['cơ_bản...  \n4035  [['căn_hộ chung_cư cao_cấp', 'APART'], ['toà c...  \n4036  [['toà the link trong khu đô_thị ciputra.', 'P...  \n4037  [['căn_hộ chung_cư cao_cấp', 'APART'], ['intra...  \n\n[4038 rows x 19 columns]",
      "text/html": "<div>\n<style scoped>\n    .dataframe tbody tr th:only-of-type {\n        vertical-align: middle;\n    }\n\n    .dataframe tbody tr th {\n        vertical-align: top;\n    }\n\n    .dataframe thead th {\n        text-align: right;\n    }\n</style>\n<table border=\"1\" class=\"dataframe\">\n  <thead>\n    <tr style=\"text-align: right;\">\n      <th></th>\n      <th>Unnamed: 0</th>\n      <th>LOCATION</th>\n      <th>PHONE_NUMBER</th>\n      <th>NEWS_TYPE</th>\n      <th>BEDROOM_NUMBER</th>\n      <th>BATH_ROOM_NUMBER</th>\n      <th>LIVING_ROOM</th>\n      <th>AREA</th>\n      <th>APARTMENT_TYPE</th>\n      <th>PROJECT</th>\n      <th>INVESTOR</th>\n      <th>FLOOR</th>\n      <th>FURNITURE_TYPE</th>\n      <th>FURNITURE</th>\n      <th>CONVENIENT</th>\n      <th>PRICE</th>\n      <th>URL</th>\n      <th>RAW_DESCRIPTION</th>\n      <th>ENTITIES</th>\n    </tr>\n  </thead>\n  <tbody>\n    <tr>\n      <th>0</th>\n      <td>0</td>\n      <td>đường đại lộ thăng long, phường đại mỗ, nam t...</td>\n      <td>0984521346</td>\n      <td>NaN</td>\n      <td>1.0</td>\n      <td>NaN</td>\n      <td>NaN</td>\n      <td>35</td>\n      <td>NaN</td>\n      <td>dự án vinhomes smart city</td>\n      <td>NaN</td>\n      <td>NaN</td>\n      <td>NaN</td>\n      <td>NaN</td>\n      <td>NaN</td>\n      <td>4.0</td>\n      <td>https://batdongsan.com.vn/cho-thue-can-ho-chun...</td>\n      <td>* cam kết:\\n- giá rẻ nhất, dịch vụ tốt nhất.\\n...</td>\n      <td>[['đầy_đủ', 'FUR-TYPE'], ['cơ_bản', 'FUR-TYPE'...</td>\n    </tr>\n    <tr>\n      <th>1</th>\n      <td>1</td>\n      <td>phường tây mỗ, nam từ liêm, hà nội</td>\n      <td>0933722886</td>\n      <td>NaN</td>\n      <td>2.0</td>\n      <td>NaN</td>\n      <td>NaN</td>\n      <td>70</td>\n      <td>NaN</td>\n      <td>dự án vinhomes smart city đại mỗ</td>\n      <td>NaN</td>\n      <td>NaN</td>\n      <td>NaN</td>\n      <td>NaN</td>\n      <td>NaN</td>\n      <td>8.0</td>\n      <td>https://batdongsan.com.vn/cho-thue-can-ho-chun...</td>\n      <td>với kinh nghiệm 5 năm cho thuê nhà và đội ngũ ...</td>\n      <td>[['&lt;s&gt;', 'AREA'], ['&lt;/s&gt;', 'AREA'], ['&lt;s&gt;', 'A...</td>\n    </tr>\n    <tr>\n      <th>2</th>\n      <td>2</td>\n      <td>phường tây mỗ, nam từ liêm, hà nội</td>\n      <td>0833451111</td>\n      <td>NaN</td>\n      <td>1.0</td>\n      <td>NaN</td>\n      <td>NaN</td>\n      <td>35</td>\n      <td>NaN</td>\n      <td>dự án vinhomes smart city đại mỗ</td>\n      <td>NaN</td>\n      <td>NaN</td>\n      <td>NaN</td>\n      <td>NaN</td>\n      <td>NaN</td>\n      <td>4.0</td>\n      <td>https://batdongsan.com.vn/cho-thue-can-ho-chun...</td>\n      <td>với sự uy tín, chu đáo và nhiệt tình của đội n...</td>\n      <td>[['cc vinhomes smart city', 'PJ'], ['1pn', 'RO...</td>\n    </tr>\n    <tr>\n      <th>3</th>\n      <td>3</td>\n      <td>ngõ 27, đường cát linh, phường cát linh, đống ...</td>\n      <td>0902469188</td>\n      <td>NaN</td>\n      <td>3.0</td>\n      <td>NaN</td>\n      <td>NaN</td>\n      <td>100</td>\n      <td>NaN</td>\n      <td>None</td>\n      <td>NaN</td>\n      <td>NaN</td>\n      <td>NaN</td>\n      <td>NaN</td>\n      <td>NaN</td>\n      <td>12.0</td>\n      <td>https://batdongsan.com.vn/cho-thue-can-ho-chun...</td>\n      <td>căn hộ đầu hồi 100m2 tầng 3 - tại ngõ 27 cát l...</td>\n      <td>[['100m2', 'AREA'], ['ngõ 27 cát linh - đống_đ...</td>\n    </tr>\n    <tr>\n      <th>4</th>\n      <td>4</td>\n      <td>đường trần duy hưng, phường trung hòa, cầu gi...</td>\n      <td>0944010255</td>\n      <td>NaN</td>\n      <td>1.0</td>\n      <td>NaN</td>\n      <td>NaN</td>\n      <td>38</td>\n      <td>NaN</td>\n      <td>dự án vinhomes d'capitale</td>\n      <td>NaN</td>\n      <td>NaN</td>\n      <td>NaN</td>\n      <td>NaN</td>\n      <td>NaN</td>\n      <td>8.0</td>\n      <td>https://batdongsan.com.vn/cho-thue-can-ho-chun...</td>\n      <td>lh xem thực tế căn hộ 24/7:\\n0944010***\\n.\\n\\n...</td>\n      <td>[['full', 'FUR-TYPE'], ['tv, giường, tủ, máy_g...</td>\n    </tr>\n    <tr>\n      <th>...</th>\n      <td>...</td>\n      <td>...</td>\n      <td>...</td>\n      <td>...</td>\n      <td>...</td>\n      <td>...</td>\n      <td>...</td>\n      <td>...</td>\n      <td>...</td>\n      <td>...</td>\n      <td>...</td>\n      <td>...</td>\n      <td>...</td>\n      <td>...</td>\n      <td>...</td>\n      <td>...</td>\n      <td>...</td>\n      <td>...</td>\n      <td>...</td>\n    </tr>\n    <tr>\n      <th>4033</th>\n      <td>4033</td>\n      <td>đường phạm văn đồng, phường đông ngạc, bắc từ...</td>\n      <td>0981959535</td>\n      <td>NaN</td>\n      <td>2.0</td>\n      <td>NaN</td>\n      <td>NaN</td>\n      <td>83</td>\n      <td>NaN</td>\n      <td>dự án sunshine city</td>\n      <td>NaN</td>\n      <td>NaN</td>\n      <td>NaN</td>\n      <td>NaN</td>\n      <td>NaN</td>\n      <td>9.0</td>\n      <td>https://batdongsan.com.vn/cho-thue-can-ho-chun...</td>\n      <td>chúng tôi chuyên cho thuê các căn hộ tại chung...</td>\n      <td>[['sunshine cbắc từ_l', 'PJ'], ['2,3,4,5 phòng...</td>\n    </tr>\n    <tr>\n      <th>4034</th>\n      <td>4034</td>\n      <td>đường lê đức thọ, phường mỹ đình 2, nam từ li...</td>\n      <td>0348983388</td>\n      <td>NaN</td>\n      <td>3.0</td>\n      <td>NaN</td>\n      <td>NaN</td>\n      <td>94</td>\n      <td>NaN</td>\n      <td>dự án the zei mỹ đình</td>\n      <td>NaN</td>\n      <td>NaN</td>\n      <td>NaN</td>\n      <td>NaN</td>\n      <td>NaN</td>\n      <td>12.0</td>\n      <td>https://batdongsan.com.vn/cho-thue-can-ho-chun...</td>\n      <td>bên em đang quản lý nhiều căn hộ tại dự án the...</td>\n      <td>[['căn_hộ', 'ID'], ['2n m2', 'ROOM'], ['cơ_bản...</td>\n    </tr>\n    <tr>\n      <th>4035</th>\n      <td>4035</td>\n      <td>đường hồ tùng mậu, phường phú diễn, bắc từ li...</td>\n      <td>0982848648</td>\n      <td>NaN</td>\n      <td>2.0</td>\n      <td>NaN</td>\n      <td>NaN</td>\n      <td>78</td>\n      <td>NaN</td>\n      <td>dự án goldmark city</td>\n      <td>NaN</td>\n      <td>NaN</td>\n      <td>NaN</td>\n      <td>NaN</td>\n      <td>NaN</td>\n      <td>9.0</td>\n      <td>https://batdongsan.com.vn/cho-thue-can-ho-chun...</td>\n      <td>do không có nhu cầu sử dụng vợ chồng tôi cần c...</td>\n      <td>[['căn_hộ chung_cư cao_cấp', 'APART'], ['toà c...</td>\n    </tr>\n    <tr>\n      <th>4036</th>\n      <td>4036</td>\n      <td>đường lạc long quân, phường xuân la, tây hồ, ...</td>\n      <td>0976944818</td>\n      <td>NaN</td>\n      <td>3.0</td>\n      <td>NaN</td>\n      <td>NaN</td>\n      <td>114</td>\n      <td>NaN</td>\n      <td>dự án ciputra hà nội</td>\n      <td>NaN</td>\n      <td>NaN</td>\n      <td>NaN</td>\n      <td>NaN</td>\n      <td>NaN</td>\n      <td>15.0</td>\n      <td>https://batdongsan.com.vn/cho-thue-can-ho-chun...</td>\n      <td>hiện tại tôi có căn hộ tại tòa the link trong ...</td>\n      <td>[['toà the link trong khu đô_thị ciputra.', 'P...</td>\n    </tr>\n    <tr>\n      <th>4037</th>\n      <td>4037</td>\n      <td>đường võ chí công, xã vĩnh ngọc, đông anh, hà...</td>\n      <td>0982848648</td>\n      <td>NaN</td>\n      <td>2.0</td>\n      <td>NaN</td>\n      <td>NaN</td>\n      <td>60</td>\n      <td>NaN</td>\n      <td>dự án intracom riverside</td>\n      <td>NaN</td>\n      <td>NaN</td>\n      <td>NaN</td>\n      <td>NaN</td>\n      <td>NaN</td>\n      <td>5.0</td>\n      <td>https://batdongsan.com.vn/cho-thue-can-ho-chun...</td>\n      <td>do không có nhu cầu sử dụng vợ chồng tôi cần c...</td>\n      <td>[['căn_hộ chung_cư cao_cấp', 'APART'], ['intra...</td>\n    </tr>\n  </tbody>\n</table>\n<p>4038 rows × 19 columns</p>\n</div>"
     },
     "execution_count": 32,
     "metadata": {},
     "output_type": "execute_result"
    }
   ],
   "source": [
    "bds_df"
   ],
   "metadata": {
    "collapsed": false,
    "pycharm": {
     "name": "#%%\n"
    }
   }
  },
  {
   "cell_type": "code",
   "execution_count": 41,
   "outputs": [],
   "source": [
    "filled_bds_df = fill_empty_data(converted_df=bds_df)"
   ],
   "metadata": {
    "collapsed": false,
    "pycharm": {
     "name": "#%%\n"
    }
   }
  },
  {
   "cell_type": "code",
   "execution_count": 42,
   "outputs": [
    {
     "data": {
      "text/plain": "      Unnamed: 0                                           LOCATION  \\\n0              0   đường đại lộ thăng long, phường đại mỗ, nam t...   \n1              1                 phường tây mỗ, nam từ liêm, hà nội   \n2              2                 phường tây mỗ, nam từ liêm, hà nội   \n3              3  ngõ 27, đường cát linh, phường cát linh, đống ...   \n4              4   đường trần duy hưng, phường trung hòa, cầu gi...   \n...          ...                                                ...   \n4033        4033   đường phạm văn đồng, phường đông ngạc, bắc từ...   \n4034        4034   đường lê đức thọ, phường mỹ đình 2, nam từ li...   \n4035        4035   đường hồ tùng mậu, phường phú diễn, bắc từ li...   \n4036        4036   đường lạc long quân, phường xuân la, tây hồ, ...   \n4037        4037   đường võ chí công, xã vĩnh ngọc, đông anh, hà...   \n\n     PHONE_NUMBER  NEWS_TYPE  BEDROOM_NUMBER  BATH_ROOM_NUMBER  LIVING_ROOM  \\\n0      0984521346        NaN             1.0               NaN          NaN   \n1      0933722886        NaN             2.0               NaN          NaN   \n2      0833451111        NaN             1.0               1.0          NaN   \n3      0902469188        NaN             3.0               1.0          NaN   \n4      0944010255        NaN             1.0               NaN          NaN   \n...           ...        ...             ...               ...          ...   \n4033   0981959535        NaN             2.0               NaN          NaN   \n4034   0348983388        NaN             3.0               NaN          NaN   \n4035   0982848648        NaN             2.0               NaN          NaN   \n4036   0976944818        NaN             3.0               2.0          NaN   \n4037   0982848648        NaN             2.0               NaN          NaN   \n\n     AREA    APARTMENT_TYPE                           PROJECT  INVESTOR  \\\n0      35          chung_cư         dự án vinhomes smart city       NaN   \n1      70               NaN  dự án vinhomes smart city đại mỗ       NaN   \n2      35            studio  dự án vinhomes smart city đại mỗ       NaN   \n3     100               NaN                              None       NaN   \n4      38            studio         dự án vinhomes d'capitale       NaN   \n...   ...               ...                               ...       ...   \n4033   83               NaN               dự án sunshine city       NaN   \n4034   94               NaN             dự án the zei mỹ đình       NaN   \n4035   78  cao_cấp chung_cư               dự án goldmark city       NaN   \n4036  114               NaN              dự án ciputra hà nội       NaN   \n4037   60  cao_cấp chung_cư          dự án intracom riverside       NaN   \n\n      FLOOR FURNITURE_TYPE                                          FURNITURE  \\\n0       NaN           full                                                 []   \n1       NaN            NaN                                                 []   \n2       NaN           full                                                 []   \n3       NaN           full  [tủ_lạmáy_giặt, điều_hoà,  nóng lạnh, giường t...   \n4       NaN           full             [tv,  giường,  tủ,  máy_giặt,  bàn ăn]   \n...     ...            ...                                                ...   \n4033    NaN         cơ_bản                                                 []   \n4034    NaN         cơ_bản               [điều_hoà,  nóng lạnh,  bếp,  rèmng]   \n4035    NaN            NaN  [thiết_bị vệ<unk>, hệ_thống đèn chiếu, nóng lạ...   \n4036    NaN           full                                                 []   \n4037    NaN            NaN  [thiết_bị vệ, hệ_thống đèn chiếu nóng lạ, sàn ...   \n\n                                             CONVENIENT PRICE  \\\n0     [vườn nhật, bệnh_viện trường, trung_tâm thương...     4   \n1                                                    []     8   \n2     [trung_tâm hội_nghị quốc_gia, miễn_phí tiện_íc...     4   \n3                                                    []    12   \n4     [tttm vincom., hầm để xe <unk> rã, bể_bơi. gym...     8   \n...                                                 ...   ...   \n4033  [trường maple bear, mầm_non, trường tiểu_học, ...     9   \n4034                           [trung_tâm, hồ điều_hoà]    12   \n4035                                                 []     9   \n4036                                                 []    15   \n4037                                                 []     5   \n\n                                                    URL  \\\n0     https://batdongsan.com.vn/cho-thue-can-ho-chun...   \n1     https://batdongsan.com.vn/cho-thue-can-ho-chun...   \n2     https://batdongsan.com.vn/cho-thue-can-ho-chun...   \n3     https://batdongsan.com.vn/cho-thue-can-ho-chun...   \n4     https://batdongsan.com.vn/cho-thue-can-ho-chun...   \n...                                                 ...   \n4033  https://batdongsan.com.vn/cho-thue-can-ho-chun...   \n4034  https://batdongsan.com.vn/cho-thue-can-ho-chun...   \n4035  https://batdongsan.com.vn/cho-thue-can-ho-chun...   \n4036  https://batdongsan.com.vn/cho-thue-can-ho-chun...   \n4037  https://batdongsan.com.vn/cho-thue-can-ho-chun...   \n\n                                        RAW_DESCRIPTION  \\\n0     * cam kết:\\n- giá rẻ nhất, dịch vụ tốt nhất.\\n...   \n1     với kinh nghiệm 5 năm cho thuê nhà và đội ngũ ...   \n2     với sự uy tín, chu đáo và nhiệt tình của đội n...   \n3     căn hộ đầu hồi 100m2 tầng 3 - tại ngõ 27 cát l...   \n4     lh xem thực tế căn hộ 24/7:\\n0944010***\\n.\\n\\n...   \n...                                                 ...   \n4033  chúng tôi chuyên cho thuê các căn hộ tại chung...   \n4034  bên em đang quản lý nhiều căn hộ tại dự án the...   \n4035  do không có nhu cầu sử dụng vợ chồng tôi cần c...   \n4036  hiện tại tôi có căn hộ tại tòa the link trong ...   \n4037  do không có nhu cầu sử dụng vợ chồng tôi cần c...   \n\n                                               ENTITIES  \n0     [['đầy_đủ', 'FUR-TYPE'], ['cơ_bản', 'FUR-TYPE'...  \n1     [['<s>', 'AREA'], ['</s>', 'AREA'], ['<s>', 'A...  \n2     [['cc vinhomes smart city', 'PJ'], ['1pn', 'RO...  \n3     [['100m2', 'AREA'], ['ngõ 27 cát linh - đống_đ...  \n4     [['full', 'FUR-TYPE'], ['tv, giường, tủ, máy_g...  \n...                                                 ...  \n4033  [['sunshine cbắc từ_l', 'PJ'], ['2,3,4,5 phòng...  \n4034  [['căn_hộ', 'ID'], ['2n m2', 'ROOM'], ['cơ_bản...  \n4035  [['căn_hộ chung_cư cao_cấp', 'APART'], ['toà c...  \n4036  [['toà the link trong khu đô_thị ciputra.', 'P...  \n4037  [['căn_hộ chung_cư cao_cấp', 'APART'], ['intra...  \n\n[4038 rows x 19 columns]",
      "text/html": "<div>\n<style scoped>\n    .dataframe tbody tr th:only-of-type {\n        vertical-align: middle;\n    }\n\n    .dataframe tbody tr th {\n        vertical-align: top;\n    }\n\n    .dataframe thead th {\n        text-align: right;\n    }\n</style>\n<table border=\"1\" class=\"dataframe\">\n  <thead>\n    <tr style=\"text-align: right;\">\n      <th></th>\n      <th>Unnamed: 0</th>\n      <th>LOCATION</th>\n      <th>PHONE_NUMBER</th>\n      <th>NEWS_TYPE</th>\n      <th>BEDROOM_NUMBER</th>\n      <th>BATH_ROOM_NUMBER</th>\n      <th>LIVING_ROOM</th>\n      <th>AREA</th>\n      <th>APARTMENT_TYPE</th>\n      <th>PROJECT</th>\n      <th>INVESTOR</th>\n      <th>FLOOR</th>\n      <th>FURNITURE_TYPE</th>\n      <th>FURNITURE</th>\n      <th>CONVENIENT</th>\n      <th>PRICE</th>\n      <th>URL</th>\n      <th>RAW_DESCRIPTION</th>\n      <th>ENTITIES</th>\n    </tr>\n  </thead>\n  <tbody>\n    <tr>\n      <th>0</th>\n      <td>0</td>\n      <td>đường đại lộ thăng long, phường đại mỗ, nam t...</td>\n      <td>0984521346</td>\n      <td>NaN</td>\n      <td>1.0</td>\n      <td>NaN</td>\n      <td>NaN</td>\n      <td>35</td>\n      <td>chung_cư</td>\n      <td>dự án vinhomes smart city</td>\n      <td>NaN</td>\n      <td>NaN</td>\n      <td>full</td>\n      <td>[]</td>\n      <td>[vườn nhật, bệnh_viện trường, trung_tâm thương...</td>\n      <td>4</td>\n      <td>https://batdongsan.com.vn/cho-thue-can-ho-chun...</td>\n      <td>* cam kết:\\n- giá rẻ nhất, dịch vụ tốt nhất.\\n...</td>\n      <td>[['đầy_đủ', 'FUR-TYPE'], ['cơ_bản', 'FUR-TYPE'...</td>\n    </tr>\n    <tr>\n      <th>1</th>\n      <td>1</td>\n      <td>phường tây mỗ, nam từ liêm, hà nội</td>\n      <td>0933722886</td>\n      <td>NaN</td>\n      <td>2.0</td>\n      <td>NaN</td>\n      <td>NaN</td>\n      <td>70</td>\n      <td>NaN</td>\n      <td>dự án vinhomes smart city đại mỗ</td>\n      <td>NaN</td>\n      <td>NaN</td>\n      <td>NaN</td>\n      <td>[]</td>\n      <td>[]</td>\n      <td>8</td>\n      <td>https://batdongsan.com.vn/cho-thue-can-ho-chun...</td>\n      <td>với kinh nghiệm 5 năm cho thuê nhà và đội ngũ ...</td>\n      <td>[['&lt;s&gt;', 'AREA'], ['&lt;/s&gt;', 'AREA'], ['&lt;s&gt;', 'A...</td>\n    </tr>\n    <tr>\n      <th>2</th>\n      <td>2</td>\n      <td>phường tây mỗ, nam từ liêm, hà nội</td>\n      <td>0833451111</td>\n      <td>NaN</td>\n      <td>1.0</td>\n      <td>1.0</td>\n      <td>NaN</td>\n      <td>35</td>\n      <td>studio</td>\n      <td>dự án vinhomes smart city đại mỗ</td>\n      <td>NaN</td>\n      <td>NaN</td>\n      <td>full</td>\n      <td>[]</td>\n      <td>[trung_tâm hội_nghị quốc_gia, miễn_phí tiện_íc...</td>\n      <td>4</td>\n      <td>https://batdongsan.com.vn/cho-thue-can-ho-chun...</td>\n      <td>với sự uy tín, chu đáo và nhiệt tình của đội n...</td>\n      <td>[['cc vinhomes smart city', 'PJ'], ['1pn', 'RO...</td>\n    </tr>\n    <tr>\n      <th>3</th>\n      <td>3</td>\n      <td>ngõ 27, đường cát linh, phường cát linh, đống ...</td>\n      <td>0902469188</td>\n      <td>NaN</td>\n      <td>3.0</td>\n      <td>1.0</td>\n      <td>NaN</td>\n      <td>100</td>\n      <td>NaN</td>\n      <td>None</td>\n      <td>NaN</td>\n      <td>NaN</td>\n      <td>full</td>\n      <td>[tủ_lạmáy_giặt, điều_hoà,  nóng lạnh, giường t...</td>\n      <td>[]</td>\n      <td>12</td>\n      <td>https://batdongsan.com.vn/cho-thue-can-ho-chun...</td>\n      <td>căn hộ đầu hồi 100m2 tầng 3 - tại ngõ 27 cát l...</td>\n      <td>[['100m2', 'AREA'], ['ngõ 27 cát linh - đống_đ...</td>\n    </tr>\n    <tr>\n      <th>4</th>\n      <td>4</td>\n      <td>đường trần duy hưng, phường trung hòa, cầu gi...</td>\n      <td>0944010255</td>\n      <td>NaN</td>\n      <td>1.0</td>\n      <td>NaN</td>\n      <td>NaN</td>\n      <td>38</td>\n      <td>studio</td>\n      <td>dự án vinhomes d'capitale</td>\n      <td>NaN</td>\n      <td>NaN</td>\n      <td>full</td>\n      <td>[tv,  giường,  tủ,  máy_giặt,  bàn ăn]</td>\n      <td>[tttm vincom., hầm để xe &lt;unk&gt; rã, bể_bơi. gym...</td>\n      <td>8</td>\n      <td>https://batdongsan.com.vn/cho-thue-can-ho-chun...</td>\n      <td>lh xem thực tế căn hộ 24/7:\\n0944010***\\n.\\n\\n...</td>\n      <td>[['full', 'FUR-TYPE'], ['tv, giường, tủ, máy_g...</td>\n    </tr>\n    <tr>\n      <th>...</th>\n      <td>...</td>\n      <td>...</td>\n      <td>...</td>\n      <td>...</td>\n      <td>...</td>\n      <td>...</td>\n      <td>...</td>\n      <td>...</td>\n      <td>...</td>\n      <td>...</td>\n      <td>...</td>\n      <td>...</td>\n      <td>...</td>\n      <td>...</td>\n      <td>...</td>\n      <td>...</td>\n      <td>...</td>\n      <td>...</td>\n      <td>...</td>\n    </tr>\n    <tr>\n      <th>4033</th>\n      <td>4033</td>\n      <td>đường phạm văn đồng, phường đông ngạc, bắc từ...</td>\n      <td>0981959535</td>\n      <td>NaN</td>\n      <td>2.0</td>\n      <td>NaN</td>\n      <td>NaN</td>\n      <td>83</td>\n      <td>NaN</td>\n      <td>dự án sunshine city</td>\n      <td>NaN</td>\n      <td>NaN</td>\n      <td>cơ_bản</td>\n      <td>[]</td>\n      <td>[trường maple bear, mầm_non, trường tiểu_học, ...</td>\n      <td>9</td>\n      <td>https://batdongsan.com.vn/cho-thue-can-ho-chun...</td>\n      <td>chúng tôi chuyên cho thuê các căn hộ tại chung...</td>\n      <td>[['sunshine cbắc từ_l', 'PJ'], ['2,3,4,5 phòng...</td>\n    </tr>\n    <tr>\n      <th>4034</th>\n      <td>4034</td>\n      <td>đường lê đức thọ, phường mỹ đình 2, nam từ li...</td>\n      <td>0348983388</td>\n      <td>NaN</td>\n      <td>3.0</td>\n      <td>NaN</td>\n      <td>NaN</td>\n      <td>94</td>\n      <td>NaN</td>\n      <td>dự án the zei mỹ đình</td>\n      <td>NaN</td>\n      <td>NaN</td>\n      <td>cơ_bản</td>\n      <td>[điều_hoà,  nóng lạnh,  bếp,  rèmng]</td>\n      <td>[trung_tâm, hồ điều_hoà]</td>\n      <td>12</td>\n      <td>https://batdongsan.com.vn/cho-thue-can-ho-chun...</td>\n      <td>bên em đang quản lý nhiều căn hộ tại dự án the...</td>\n      <td>[['căn_hộ', 'ID'], ['2n m2', 'ROOM'], ['cơ_bản...</td>\n    </tr>\n    <tr>\n      <th>4035</th>\n      <td>4035</td>\n      <td>đường hồ tùng mậu, phường phú diễn, bắc từ li...</td>\n      <td>0982848648</td>\n      <td>NaN</td>\n      <td>2.0</td>\n      <td>NaN</td>\n      <td>NaN</td>\n      <td>78</td>\n      <td>cao_cấp chung_cư</td>\n      <td>dự án goldmark city</td>\n      <td>NaN</td>\n      <td>NaN</td>\n      <td>NaN</td>\n      <td>[thiết_bị vệ&lt;unk&gt;, hệ_thống đèn chiếu, nóng lạ...</td>\n      <td>[]</td>\n      <td>9</td>\n      <td>https://batdongsan.com.vn/cho-thue-can-ho-chun...</td>\n      <td>do không có nhu cầu sử dụng vợ chồng tôi cần c...</td>\n      <td>[['căn_hộ chung_cư cao_cấp', 'APART'], ['toà c...</td>\n    </tr>\n    <tr>\n      <th>4036</th>\n      <td>4036</td>\n      <td>đường lạc long quân, phường xuân la, tây hồ, ...</td>\n      <td>0976944818</td>\n      <td>NaN</td>\n      <td>3.0</td>\n      <td>2.0</td>\n      <td>NaN</td>\n      <td>114</td>\n      <td>NaN</td>\n      <td>dự án ciputra hà nội</td>\n      <td>NaN</td>\n      <td>NaN</td>\n      <td>full</td>\n      <td>[]</td>\n      <td>[]</td>\n      <td>15</td>\n      <td>https://batdongsan.com.vn/cho-thue-can-ho-chun...</td>\n      <td>hiện tại tôi có căn hộ tại tòa the link trong ...</td>\n      <td>[['toà the link trong khu đô_thị ciputra.', 'P...</td>\n    </tr>\n    <tr>\n      <th>4037</th>\n      <td>4037</td>\n      <td>đường võ chí công, xã vĩnh ngọc, đông anh, hà...</td>\n      <td>0982848648</td>\n      <td>NaN</td>\n      <td>2.0</td>\n      <td>NaN</td>\n      <td>NaN</td>\n      <td>60</td>\n      <td>cao_cấp chung_cư</td>\n      <td>dự án intracom riverside</td>\n      <td>NaN</td>\n      <td>NaN</td>\n      <td>NaN</td>\n      <td>[thiết_bị vệ, hệ_thống đèn chiếu nóng lạ, sàn ...</td>\n      <td>[]</td>\n      <td>5</td>\n      <td>https://batdongsan.com.vn/cho-thue-can-ho-chun...</td>\n      <td>do không có nhu cầu sử dụng vợ chồng tôi cần c...</td>\n      <td>[['căn_hộ chung_cư cao_cấp', 'APART'], ['intra...</td>\n    </tr>\n  </tbody>\n</table>\n<p>4038 rows × 19 columns</p>\n</div>"
     },
     "execution_count": 42,
     "metadata": {},
     "output_type": "execute_result"
    }
   ],
   "source": [
    "filled_bds_df"
   ],
   "metadata": {
    "collapsed": false,
    "pycharm": {
     "name": "#%%\n"
    }
   }
  },
  {
   "cell_type": "code",
   "execution_count": 43,
   "outputs": [],
   "source": [
    "filled_bds_df.to_csv('filled_bds.csv', index=False)"
   ],
   "metadata": {
    "collapsed": false,
    "pycharm": {
     "name": "#%%\n"
    }
   }
  },
  {
   "cell_type": "code",
   "execution_count": 16,
   "outputs": [
    {
     "data": {
      "text/plain": "True"
     },
     "execution_count": 16,
     "metadata": {},
     "output_type": "execute_result"
    }
   ],
   "source": [
    "pd.isna(bds_df.iloc[3]['PROJECT'])"
   ],
   "metadata": {
    "collapsed": false,
    "pycharm": {
     "name": "#%%\n"
    }
   }
  },
  {
   "cell_type": "code",
   "execution_count": 68,
   "outputs": [
    {
     "name": "stdout",
     "output_type": "stream",
     "text": [
      "latitude is :- 21.0131278 \n",
      "longtitude is:- 105.8126081\n"
     ]
    }
   ],
   "source": [
    "from  geopy.geocoders import Nominatim\n",
    "geolocator = Nominatim(user_agent=\"http\")\n",
    "add = \"10 Phố Láng Hạ, Lang Ha, Đống Đa, Hanoi\"\n",
    "\n",
    "loc = geolocator.geocode(add)\n",
    "print(\"latitude is :-\" ,loc.latitude,\"\\nlongtitude is:-\" ,loc.longitude)"
   ],
   "metadata": {
    "collapsed": false,
    "pycharm": {
     "name": "#%%\n"
    }
   }
  },
  {
   "cell_type": "code",
   "execution_count": null,
   "outputs": [],
   "source": [],
   "metadata": {
    "collapsed": false,
    "pycharm": {
     "name": "#%%\n"
    }
   }
  }
 ],
 "metadata": {
  "kernelspec": {
   "display_name": "Python 3",
   "language": "python",
   "name": "python3"
  },
  "language_info": {
   "codemirror_mode": {
    "name": "ipython",
    "version": 2
   },
   "file_extension": ".py",
   "mimetype": "text/x-python",
   "name": "python",
   "nbconvert_exporter": "python",
   "pygments_lexer": "ipython2",
   "version": "2.7.6"
  }
 },
 "nbformat": 4,
 "nbformat_minor": 0
}