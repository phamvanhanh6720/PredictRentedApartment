{
  "cells": [
    {
      "cell_type": "code",
      "execution_count": 294,
      "id": "1df87946",
      "metadata": {
        "id": "1df87946"
      },
      "outputs": [],
      "source": [
        "import numpy as np\n",
        "import pandas as pd\n",
        "import matplotlib.pyplot as plt\n",
        "import seaborn as sns"
      ]
    },
    {
      "cell_type": "code",
      "execution_count": 354,
      "id": "35a7c741",
      "metadata": {
        "colab": {
          "base_uri": "https://localhost:8080/",
          "height": 839
        },
        "id": "35a7c741",
        "outputId": "b88035fa-ef5e-483c-d0e2-7f51f568bd69"
      },
      "outputs": [
        {
          "output_type": "execute_result",
          "data": {
            "text/html": [
              "\n",
              "  <div id=\"df-4488c30a-745d-4eb0-a364-af2a8d7a2a1b\">\n",
              "    <div class=\"colab-df-container\">\n",
              "      <div>\n",
              "<style scoped>\n",
              "    .dataframe tbody tr th:only-of-type {\n",
              "        vertical-align: middle;\n",
              "    }\n",
              "\n",
              "    .dataframe tbody tr th {\n",
              "        vertical-align: top;\n",
              "    }\n",
              "\n",
              "    .dataframe thead th {\n",
              "        text-align: right;\n",
              "    }\n",
              "</style>\n",
              "<table border=\"1\" class=\"dataframe\">\n",
              "  <thead>\n",
              "    <tr style=\"text-align: right;\">\n",
              "      <th></th>\n",
              "      <th>LOCATION</th>\n",
              "      <th>PHONE_NUMBER</th>\n",
              "      <th>NEWS_TYPE</th>\n",
              "      <th>BEDROOM_NUMBER</th>\n",
              "      <th>BATH_ROOM_NUMBER</th>\n",
              "      <th>LIVING_ROOM</th>\n",
              "      <th>AREA</th>\n",
              "      <th>APARTMENT_TYPE</th>\n",
              "      <th>PROJECT</th>\n",
              "      <th>INVESTOR</th>\n",
              "      <th>FLOOR</th>\n",
              "      <th>FURNITURE_TYPE</th>\n",
              "      <th>FURNITURE</th>\n",
              "      <th>CONVENIENT</th>\n",
              "      <th>PRICE</th>\n",
              "      <th>URL</th>\n",
              "      <th>RAW_DESCRIPTION</th>\n",
              "      <th>ENTITIES</th>\n",
              "      <th>FORMATTED_LOCATION</th>\n",
              "      <th>LATITUDE</th>\n",
              "      <th>LONGITUDE</th>\n",
              "    </tr>\n",
              "    <tr>\n",
              "      <th>Unnamed: 0</th>\n",
              "      <th></th>\n",
              "      <th></th>\n",
              "      <th></th>\n",
              "      <th></th>\n",
              "      <th></th>\n",
              "      <th></th>\n",
              "      <th></th>\n",
              "      <th></th>\n",
              "      <th></th>\n",
              "      <th></th>\n",
              "      <th></th>\n",
              "      <th></th>\n",
              "      <th></th>\n",
              "      <th></th>\n",
              "      <th></th>\n",
              "      <th></th>\n",
              "      <th></th>\n",
              "      <th></th>\n",
              "      <th></th>\n",
              "      <th></th>\n",
              "      <th></th>\n",
              "    </tr>\n",
              "  </thead>\n",
              "  <tbody>\n",
              "    <tr>\n",
              "      <th>0</th>\n",
              "      <td>đường vĩnh phúc, phường vĩnh phúc, quận ba đìn...</td>\n",
              "      <td>098285***</td>\n",
              "      <td>môi giới</td>\n",
              "      <td>3.0</td>\n",
              "      <td>2.0</td>\n",
              "      <td>1.0</td>\n",
              "      <td>80.0</td>\n",
              "      <td>tập thể</td>\n",
              "      <td>NaN</td>\n",
              "      <td>NaN</td>\n",
              "      <td>3.0</td>\n",
              "      <td>NaN</td>\n",
              "      <td>['có_điều hoà', ' nóng lạnh', ' giường', ' tủ'...</td>\n",
              "      <td>[]</td>\n",
              "      <td>7.5</td>\n",
              "      <td>https://nha.chotot.com/ha-noi/quan-ba-dinh/thu...</td>\n",
              "      <td>chính chủ cho thuê căn hộ 3 mặt thoáng tại vĩn...</td>\n",
              "      <td>[['&lt;unk&gt; phúc tiện', 'LOC'], ['80', 'AREA'], [...</td>\n",
              "      <td>Vĩnh Phúc, Ba Đình, Hà Nội, Vietnam</td>\n",
              "      <td>21.041731</td>\n",
              "      <td>105.809950</td>\n",
              "    </tr>\n",
              "    <tr>\n",
              "      <th>1</th>\n",
              "      <td>đường phạm ngọc thạch, phường láng hạ, quận đố...</td>\n",
              "      <td>088833***</td>\n",
              "      <td>cá nhân</td>\n",
              "      <td>2.0</td>\n",
              "      <td>1.0</td>\n",
              "      <td>NaN</td>\n",
              "      <td>48.0</td>\n",
              "      <td>chung_cư</td>\n",
              "      <td>NaN</td>\n",
              "      <td>NaN</td>\n",
              "      <td>NaN</td>\n",
              "      <td>NaN</td>\n",
              "      <td>[]</td>\n",
              "      <td>['trường', 'đại_học', 'bệnh_viện']</td>\n",
              "      <td>7.5</td>\n",
              "      <td>https://nha.chotot.com/ha-noi/quan-dong-da/thu...</td>\n",
              "      <td>cho thuê căn hộ chung cư  chính chủ, mặt đường...</td>\n",
              "      <td>[['căn_hộ chung_cư', 'APART'], ['đường phạm ng...</td>\n",
              "      <td>P.Phạm Ngọc Thạch, Đống Đa, Hà Nội, Vietnam</td>\n",
              "      <td>21.008615</td>\n",
              "      <td>105.834091</td>\n",
              "    </tr>\n",
              "    <tr>\n",
              "      <th>2</th>\n",
              "      <td>a6, phố 8/3, phường quỳnh mai, quận hai bà trư...</td>\n",
              "      <td>098441***</td>\n",
              "      <td>cá nhân</td>\n",
              "      <td>1.0</td>\n",
              "      <td>1.0</td>\n",
              "      <td>NaN</td>\n",
              "      <td>40.0</td>\n",
              "      <td>tập_thể chung_cư</td>\n",
              "      <td>NaN</td>\n",
              "      <td>NaN</td>\n",
              "      <td>NaN</td>\n",
              "      <td>NaN</td>\n",
              "      <td>[]</td>\n",
              "      <td>['ngõ rộng', 'bệnh_viện']</td>\n",
              "      <td>5.0</td>\n",
              "      <td>https://nha.chotot.com/ha-noi/quan-hai-ba-trun...</td>\n",
              "      <td>chính chủ cho thuê căn hộ tập thể 8/3 nhà a6, ...</td>\n",
              "      <td>[['căn_hộ tập_thể', 'APART'], ['nhà a6, tầng 1...</td>\n",
              "      <td>104 A6 Phố 8/3, Quỳnh Mai, Hai Bà Trưng, Hà Nộ...</td>\n",
              "      <td>20.999548</td>\n",
              "      <td>105.860602</td>\n",
              "    </tr>\n",
              "    <tr>\n",
              "      <th>3</th>\n",
              "      <td>đào tấn, phường ngọc hà, quận ba đình, hà nội</td>\n",
              "      <td>091552***</td>\n",
              "      <td>môi giới</td>\n",
              "      <td>1.0</td>\n",
              "      <td>1.0</td>\n",
              "      <td>NaN</td>\n",
              "      <td>30.0</td>\n",
              "      <td>studio</td>\n",
              "      <td>NaN</td>\n",
              "      <td>NaN</td>\n",
              "      <td>NaN</td>\n",
              "      <td>nội thất đầy đủ</td>\n",
              "      <td>['điều_hoà', 'giường tủ', 'nóng lạnh', 'bàn bế...</td>\n",
              "      <td>['trung_tâm thương_mại']</td>\n",
              "      <td>4.5</td>\n",
              "      <td>https://nha.chotot.com/ha-noi/quan-ba-dinh/thu...</td>\n",
              "      <td>studio 25m2 tại ngõ 118 đào tấn\\nnhà full nội ...</td>\n",
              "      <td>[['studio', 'APART'], ['25m2', 'AREA'], ['ngõ ...</td>\n",
              "      <td>Đào Tấn, Ba Đình, Hà Nội, Vietnam</td>\n",
              "      <td>21.032594</td>\n",
              "      <td>105.808742</td>\n",
              "    </tr>\n",
              "    <tr>\n",
              "      <th>4</th>\n",
              "      <td>ngõ 12, đào tấn, phường cống vị, quận ba đình,...</td>\n",
              "      <td>091552***</td>\n",
              "      <td>môi giới</td>\n",
              "      <td>1.0</td>\n",
              "      <td>1.0</td>\n",
              "      <td>NaN</td>\n",
              "      <td>30.0</td>\n",
              "      <td>chung_cư</td>\n",
              "      <td>NaN</td>\n",
              "      <td>NaN</td>\n",
              "      <td>2.0</td>\n",
              "      <td>nội thất đầy đủ</td>\n",
              "      <td>['điều_hoà', ' giường tủ', 'nóng lạnh', ' bàn ...</td>\n",
              "      <td>['xe để dưới hầm free', 'cổng khoá vân tay', '...</td>\n",
              "      <td>4.5</td>\n",
              "      <td>https://nha.chotot.com/ha-noi/quan-ba-dinh/thu...</td>\n",
              "      <td>cho thuê căn hộ dịch vụ đủ đồ giá chỉ 4tr5 ở đ...</td>\n",
              "      <td>[['căn_hộ dịch_vụ', 'APART'], ['45 ở đào', 'PR...</td>\n",
              "      <td>Ng. 12 Phố Đào Tấn, Cống Vị, Ba Đình, Hà Nội, ...</td>\n",
              "      <td>21.033861</td>\n",
              "      <td>105.809472</td>\n",
              "    </tr>\n",
              "  </tbody>\n",
              "</table>\n",
              "</div>\n",
              "      <button class=\"colab-df-convert\" onclick=\"convertToInteractive('df-4488c30a-745d-4eb0-a364-af2a8d7a2a1b')\"\n",
              "              title=\"Convert this dataframe to an interactive table.\"\n",
              "              style=\"display:none;\">\n",
              "        \n",
              "  <svg xmlns=\"http://www.w3.org/2000/svg\" height=\"24px\"viewBox=\"0 0 24 24\"\n",
              "       width=\"24px\">\n",
              "    <path d=\"M0 0h24v24H0V0z\" fill=\"none\"/>\n",
              "    <path d=\"M18.56 5.44l.94 2.06.94-2.06 2.06-.94-2.06-.94-.94-2.06-.94 2.06-2.06.94zm-11 1L8.5 8.5l.94-2.06 2.06-.94-2.06-.94L8.5 2.5l-.94 2.06-2.06.94zm10 10l.94 2.06.94-2.06 2.06-.94-2.06-.94-.94-2.06-.94 2.06-2.06.94z\"/><path d=\"M17.41 7.96l-1.37-1.37c-.4-.4-.92-.59-1.43-.59-.52 0-1.04.2-1.43.59L10.3 9.45l-7.72 7.72c-.78.78-.78 2.05 0 2.83L4 21.41c.39.39.9.59 1.41.59.51 0 1.02-.2 1.41-.59l7.78-7.78 2.81-2.81c.8-.78.8-2.07 0-2.86zM5.41 20L4 18.59l7.72-7.72 1.47 1.35L5.41 20z\"/>\n",
              "  </svg>\n",
              "      </button>\n",
              "      \n",
              "  <style>\n",
              "    .colab-df-container {\n",
              "      display:flex;\n",
              "      flex-wrap:wrap;\n",
              "      gap: 12px;\n",
              "    }\n",
              "\n",
              "    .colab-df-convert {\n",
              "      background-color: #E8F0FE;\n",
              "      border: none;\n",
              "      border-radius: 50%;\n",
              "      cursor: pointer;\n",
              "      display: none;\n",
              "      fill: #1967D2;\n",
              "      height: 32px;\n",
              "      padding: 0 0 0 0;\n",
              "      width: 32px;\n",
              "    }\n",
              "\n",
              "    .colab-df-convert:hover {\n",
              "      background-color: #E2EBFA;\n",
              "      box-shadow: 0px 1px 2px rgba(60, 64, 67, 0.3), 0px 1px 3px 1px rgba(60, 64, 67, 0.15);\n",
              "      fill: #174EA6;\n",
              "    }\n",
              "\n",
              "    [theme=dark] .colab-df-convert {\n",
              "      background-color: #3B4455;\n",
              "      fill: #D2E3FC;\n",
              "    }\n",
              "\n",
              "    [theme=dark] .colab-df-convert:hover {\n",
              "      background-color: #434B5C;\n",
              "      box-shadow: 0px 1px 3px 1px rgba(0, 0, 0, 0.15);\n",
              "      filter: drop-shadow(0px 1px 2px rgba(0, 0, 0, 0.3));\n",
              "      fill: #FFFFFF;\n",
              "    }\n",
              "  </style>\n",
              "\n",
              "      <script>\n",
              "        const buttonEl =\n",
              "          document.querySelector('#df-4488c30a-745d-4eb0-a364-af2a8d7a2a1b button.colab-df-convert');\n",
              "        buttonEl.style.display =\n",
              "          google.colab.kernel.accessAllowed ? 'block' : 'none';\n",
              "\n",
              "        async function convertToInteractive(key) {\n",
              "          const element = document.querySelector('#df-4488c30a-745d-4eb0-a364-af2a8d7a2a1b');\n",
              "          const dataTable =\n",
              "            await google.colab.kernel.invokeFunction('convertToInteractive',\n",
              "                                                     [key], {});\n",
              "          if (!dataTable) return;\n",
              "\n",
              "          const docLinkHtml = 'Like what you see? Visit the ' +\n",
              "            '<a target=\"_blank\" href=https://colab.research.google.com/notebooks/data_table.ipynb>data table notebook</a>'\n",
              "            + ' to learn more about interactive tables.';\n",
              "          element.innerHTML = '';\n",
              "          dataTable['output_type'] = 'display_data';\n",
              "          await google.colab.output.renderOutput(dataTable, element);\n",
              "          const docLink = document.createElement('div');\n",
              "          docLink.innerHTML = docLinkHtml;\n",
              "          element.appendChild(docLink);\n",
              "        }\n",
              "      </script>\n",
              "    </div>\n",
              "  </div>\n",
              "  "
            ],
            "text/plain": [
              "                                                     LOCATION  ...   LONGITUDE\n",
              "Unnamed: 0                                                     ...            \n",
              "0           đường vĩnh phúc, phường vĩnh phúc, quận ba đìn...  ...  105.809950\n",
              "1           đường phạm ngọc thạch, phường láng hạ, quận đố...  ...  105.834091\n",
              "2           a6, phố 8/3, phường quỳnh mai, quận hai bà trư...  ...  105.860602\n",
              "3               đào tấn, phường ngọc hà, quận ba đình, hà nội  ...  105.808742\n",
              "4           ngõ 12, đào tấn, phường cống vị, quận ba đình,...  ...  105.809472\n",
              "\n",
              "[5 rows x 21 columns]"
            ]
          },
          "metadata": {},
          "execution_count": 354
        }
      ],
      "source": [
        "path = '/content/integrated_data2.csv'\n",
        "df = pd.read_csv(path, index_col=0, parse_dates=True, encoding = \"UTF-8\")\n",
        "df.head()"
      ]
    },
    {
      "cell_type": "code",
      "execution_count": 355,
      "id": "07350434",
      "metadata": {
        "colab": {
          "base_uri": "https://localhost:8080/"
        },
        "id": "07350434",
        "outputId": "cb9aa4a8-f195-4b67-cceb-01a343626ed8"
      },
      "outputs": [
        {
          "output_type": "stream",
          "name": "stdout",
          "text": [
            "<class 'pandas.core.frame.DataFrame'>\n",
            "Int64Index: 16916 entries, 0 to 16915\n",
            "Data columns (total 21 columns):\n",
            " #   Column              Non-Null Count  Dtype  \n",
            "---  ------              --------------  -----  \n",
            " 0   LOCATION            16891 non-null  object \n",
            " 1   PHONE_NUMBER        16840 non-null  object \n",
            " 2   NEWS_TYPE           16916 non-null  object \n",
            " 3   BEDROOM_NUMBER      16764 non-null  float64\n",
            " 4   BATH_ROOM_NUMBER    10843 non-null  float64\n",
            " 5   LIVING_ROOM         3945 non-null   float64\n",
            " 6   AREA                16916 non-null  object \n",
            " 7   APARTMENT_TYPE      12151 non-null  object \n",
            " 8   PROJECT             12650 non-null  object \n",
            " 9   INVESTOR            0 non-null      float64\n",
            " 10  FLOOR               5596 non-null   float64\n",
            " 11  FURNITURE_TYPE      10944 non-null  object \n",
            " 12  FURNITURE           16916 non-null  object \n",
            " 13  CONVENIENT          16916 non-null  object \n",
            " 14  PRICE               16740 non-null  object \n",
            " 15  URL                 16916 non-null  object \n",
            " 16  RAW_DESCRIPTION     16684 non-null  object \n",
            " 17  ENTITIES            16916 non-null  object \n",
            " 18  FORMATTED_LOCATION  16328 non-null  object \n",
            " 19  LATITUDE            16328 non-null  float64\n",
            " 20  LONGITUDE           16328 non-null  float64\n",
            "dtypes: float64(7), object(14)\n",
            "memory usage: 2.8+ MB\n"
          ]
        }
      ],
      "source": [
        "df.info()"
      ]
    },
    {
      "cell_type": "markdown",
      "source": [
        "# Visualize missing value raw"
      ],
      "metadata": {
        "id": "425-4tEv4c-K"
      },
      "id": "425-4tEv4c-K"
    },
    {
      "cell_type": "code",
      "execution_count": 356,
      "id": "45363403",
      "metadata": {
        "colab": {
          "base_uri": "https://localhost:8080/"
        },
        "id": "45363403",
        "outputId": "45c57f7c-9aee-435a-b637-e8abf3fb5d39"
      },
      "outputs": [
        {
          "output_type": "execute_result",
          "data": {
            "text/plain": [
              "LOCATION                0.147789\n",
              "PHONE_NUMBER            0.449279\n",
              "BEDROOM_NUMBER          0.898558\n",
              "BATH_ROOM_NUMBER       35.900922\n",
              "LIVING_ROOM            76.678884\n",
              "APARTMENT_TYPE         28.168598\n",
              "PROJECT                25.218728\n",
              "INVESTOR              100.000000\n",
              "FLOOR                  66.918893\n",
              "FURNITURE_TYPE         35.303854\n",
              "PRICE                   1.040435\n",
              "RAW_DESCRIPTION         1.371483\n",
              "FORMATTED_LOCATION      3.475999\n",
              "LATITUDE                3.475999\n",
              "LONGITUDE               3.475999\n",
              "dtype: float64"
            ]
          },
          "metadata": {},
          "execution_count": 356
        }
      ],
      "source": [
        "def missing_percent(df):\n",
        "    nan_percent= 100*(df.isnull().sum()/len(df))\n",
        "    nan_percent= nan_percent[nan_percent>0]\n",
        "    return nan_percent\n",
        "\n",
        "nan_percent= missing_percent(df)\n",
        "nan_percent"
      ]
    },
    {
      "cell_type": "code",
      "source": [
        "bar_x = []\n",
        "bar_y = []\n",
        "for x in list(nan_percent.items()):\n",
        "  if x[0] != 'INVESTOR':\n",
        "    bar_x.append(x[0])\n",
        "    bar_y.append(x[1])  "
      ],
      "metadata": {
        "id": "O5J_8cAFqLYP"
      },
      "id": "O5J_8cAFqLYP",
      "execution_count": 357,
      "outputs": []
    },
    {
      "cell_type": "code",
      "execution_count": 358,
      "id": "0cbd47d1",
      "metadata": {
        "colab": {
          "base_uri": "https://localhost:8080/",
          "height": 452
        },
        "id": "0cbd47d1",
        "outputId": "6937f66a-9228-41f3-ff76-f85479322266"
      },
      "outputs": [
        {
          "output_type": "display_data",
          "data": {
            "image/png": "[encoded data removed]",
            "text/plain": [
              "<Figure size 2304x864 with 1 Axes>"
            ]
          },
          "metadata": {}
        }
      ],
      "source": [
        "sns.set(style='whitegrid')\n",
        "facecolor = '#eaeaf2'\n",
        "fig, ax = plt.subplots(figsize=(32, 12), facecolor=facecolor)\n",
        "ax = sns.barplot(x=bar_x, y = bar_y)\n",
        "for p in ax.patches:\n",
        "    width = p.get_width()\n",
        "    height = p.get_height()\n",
        "    x, y = p.get_xy() \n",
        "    ax.annotate(f'{height:.2f}%', (x + width/2, y + height*1.02), ha='center')"
      ]
    },
    {
      "cell_type": "markdown",
      "id": "KQhHi3Ob1LdD",
      "metadata": {
        "id": "KQhHi3Ob1LdD"
      },
      "source": [
        "# Process furniture type, furniture"
      ]
    },
    {
      "cell_type": "code",
      "execution_count": 359,
      "id": "8b676f1c",
      "metadata": {
        "colab": {
          "base_uri": "https://localhost:8080/"
        },
        "id": "8b676f1c",
        "outputId": "8ac18300-0716-4e4d-8494-63dcf79b2bf4"
      },
      "outputs": [
        {
          "output_type": "execute_result",
          "data": {
            "text/plain": [
              "(full                7121\n",
              " nội thất đầy đủ     1396\n",
              " cơ_bản              1326\n",
              " nội thất cao cấp     662\n",
              " nhà trống            142\n",
              " nguyên_bản           100\n",
              " full cơ_bản           69\n",
              " full cao_cấp          57\n",
              " cao_cấp               39\n",
              " cơ_bản full           21\n",
              " cao_cấp full          10\n",
              " cao_cấp cơ_bản         1\n",
              " Name: FURNITURE_TYPE, dtype: int64, 5972)"
            ]
          },
          "metadata": {},
          "execution_count": 359
        }
      ],
      "source": [
        "df['FURNITURE_TYPE'].value_counts(), df['FURNITURE_TYPE'].isnull().sum()"
      ]
    },
    {
      "cell_type": "code",
      "execution_count": null,
      "id": "5c1725ea",
      "metadata": {
        "id": "5c1725ea"
      },
      "outputs": [],
      "source": [
        "#df['FURNITURE_TYPE'] = df['FURNITURE_TYPE'].astype(\"string\")\n",
        "for i in range(df.shape[0]):\n",
        "  temp = str(df.iloc[i]['FURNITURE_TYPE'])\n",
        "  if temp == 'cơ_bản' or temp == 'cơ bản' or temp == 'full cơ_bản' or temp == 'full cơ bản' or temp == 'cơ_bản full':\n",
        "      df['FURNITURE_TYPE'][i] = 'cơ bản'\n",
        "  if temp == 'nhà trống':\n",
        "      df['FURNITURE_TYPE'][i] = 'nguyên bản'\n",
        "  if temp == 'nguyên_bản' or temp == 'nguyên bản':\n",
        "      df['FURNITURE_TYPE'][i] = 'nguyên bản'\n",
        "  if temp == 'nội thất cao cấp' or temp == 'full cao_cấp' or temp == 'cao_cấp' or temp == 'cao_cấp full' or temp == 'cao_cấp cơ_bản':\n",
        "      df['FURNITURE_TYPE'][i] = 'full cao cấp'\n",
        "  if temp == 'nội thất đầy đủ':\n",
        "      df['FURNITURE_TYPE'][i] = 'full'\n",
        "for i in range(df.shape[0]):\n",
        "  if isinstance(df.iloc[i]['FURNITURE_TYPE'], float):\n",
        "    temp = str(df.iloc[i]['ENTITIES']) + str(df.iloc[i]['RAW_DESCRIPTION']) + str(df.iloc[i]['PROJECT'])\n",
        "    if 'cơ_bản' in temp or 'cơ bản' in temp or 'full cơ_bản' in temp or 'full cơ bản' in temp or 'cơ_bản full' in temp:\n",
        "        df['FURNITURE_TYPE'][i] = 'cơ bản'\n",
        "    elif 'nhà trống' in temp:\n",
        "        df['FURNITURE_TYPE'][i] = 'nguyên bản'\n",
        "    elif 'nguyên_bản' in temp or 'nguyên bản' in temp:\n",
        "        df['FURNITURE_TYPE'][i] = 'nguyên bản'\n",
        "    elif 'nội thất cao cấp' in temp  or 'full cao_cấp' in temp or 'cao_cấp' in temp or 'cao_cấp full' in temp or 'cao_cấp cơ_bản' in temp:\n",
        "        df['FURNITURE_TYPE'][i] = 'full cao cấp'\n",
        "    elif 'nội thất đầy đủ' in temp:\n",
        "        df['FURNITURE_TYPE'][i] = 'full'\n",
        "    else:\n",
        "        df['FURNITURE_TYPE'][i] = 'no information'"
      ]
    },
    {
      "cell_type": "code",
      "execution_count": 361,
      "id": "3bd6a0f9",
      "metadata": {
        "colab": {
          "base_uri": "https://localhost:8080/"
        },
        "id": "3bd6a0f9",
        "outputId": "30a9fcae-4b78-4780-dbf9-fe2a0b4539ef"
      },
      "outputs": [
        {
          "output_type": "execute_result",
          "data": {
            "text/plain": [
              "(full              8835\n",
              " no information    3979\n",
              " cơ bản            2565\n",
              " full cao cấp      1216\n",
              " nguyên bản         321\n",
              " Name: FURNITURE_TYPE, dtype: int64, 0)"
            ]
          },
          "metadata": {},
          "execution_count": 361
        }
      ],
      "source": [
        "df['FURNITURE_TYPE'].value_counts(), df['FURNITURE_TYPE'].isnull().sum()"
      ]
    },
    {
      "cell_type": "code",
      "source": [
        "plt.subplots(figsize=(10,6))\n",
        "df['FURNITURE_TYPE'].value_counts().plot(kind='pie', autopct='%1.0f%%', pctdistance=1.1, labeldistance=1.2)"
      ],
      "metadata": {
        "colab": {
          "base_uri": "https://localhost:8080/",
          "height": 374
        },
        "id": "UarbOSAPqzcR",
        "outputId": "0bfdc19e-4007-4089-93e6-11ac80a0fb15"
      },
      "id": "UarbOSAPqzcR",
      "execution_count": 362,
      "outputs": [
        {
          "output_type": "execute_result",
          "data": {
            "text/plain": [
              "<matplotlib.axes._subplots.AxesSubplot at 0x7f7e7a6de490>"
            ]
          },
          "metadata": {},
          "execution_count": 362
        },
        {
          "output_type": "display_data",
          "data": {
            "image/png": "[encoded data removed]",
            "text/plain": [
              "<Figure size 720x432 with 1 Axes>"
            ]
          },
          "metadata": {}
        }
      ]
    },
    {
      "cell_type": "code",
      "execution_count": 363,
      "id": "2ae731fe",
      "metadata": {
        "id": "2ae731fe"
      },
      "outputs": [],
      "source": [
        "nguyen_ban = ['thiết bị vệ sinh', 'bàn bếp', 'tủ bếp'] # đồ của chủ đầu tư\n",
        "co_ban = nguyen_ban + ['tủ đồ', 'nóng lạnh', 'giường tủ', 'bàn ghế'] # design cơ bản đồ đạc\n",
        "full = nguyen_ban + co_ban + ['hút mùi', 'sàn gỗ', 'rèm phơi', 'lò vi sóng', 'máy giặt', 'tivi', 'điều hòa']"
      ]
    },
    {
      "cell_type": "code",
      "execution_count": null,
      "id": "0c706f2b",
      "metadata": {
        "id": "0c706f2b"
      },
      "outputs": [],
      "source": [
        "for i in range(df.shape[0]):\n",
        "    if str(df.iloc[i]['FURNITURE']) == '[]':\n",
        "      if str(df.iloc[i]['FURNITURE_TYPE']) == 'full':\n",
        "        df['FURNITURE'][i] = str(full)\n",
        "      if str(df.iloc[i]['FURNITURE_TYPE']) == 'nguyên bản':\n",
        "        df['FURNITURE'][i] = str(nguyen_ban)\n",
        "      if str(df.iloc[i]['FURNITURE_TYPE']) == 'cơ bản':\n",
        "        df['FURNITURE'][i] = str(co_ban)"
      ]
    },
    {
      "cell_type": "markdown",
      "id": "786820ba",
      "metadata": {
        "id": "786820ba"
      },
      "source": [
        "# Process area and price"
      ]
    },
    {
      "cell_type": "code",
      "execution_count": 365,
      "id": "f6606230",
      "metadata": {
        "colab": {
          "base_uri": "https://localhost:8080/"
        },
        "id": "f6606230",
        "outputId": "4ace2f98-e5f2-4ccf-dadb-9c450b846d9a",
        "scrolled": true
      },
      "outputs": [
        {
          "output_type": "stream",
          "name": "stdout",
          "text": [
            "05/12/20\n",
            "05/12/20\n",
            "05/12/20\n",
            "30/11/20\n",
            "05/12/20\n",
            "04/12/20\n",
            "30/11/20\n",
            "04/12/20\n",
            "03/12/20\n",
            "03/12/20\n",
            "30/11/20\n",
            "03/12/20\n",
            "03/12/20\n",
            "03/12/20\n",
            "29/11/20\n",
            "29/11/20\n",
            "nan\n",
            "['8,5 triệuthá', 'PRICE']\n",
            "nan\n",
            "['7,5 triệu', 'PRICE']\n",
            "nan\n",
            "nan\n",
            "['9xx/ngày', 'PRICE']\n",
            "['8.25 k/m2/', 'PRICE']\n",
            "['2.5 tr - 4.5 tr/tháng', 'PRICE']\n",
            "['2.5 tr - 4.5 tr/th', 'PRICE']\n",
            "['2.5 tr - 4.5 tr/thá', 'PRICE']\n",
            "nan\n",
            "['8 triệu đến 16 triệu/th', 'PRICE']\n",
            "['2.5 tr - 4.5 tr/thá', 'PRICE']\n",
            "nan\n",
            "nan\n",
            "nan\n",
            "['17 ~ triệ', 'PRICE']\n",
            "nan\n",
            "['4tr5 đến 6tr', 'PRICE']\n",
            "['5 - 12 triệu/', 'PRICE']\n",
            "nan\n",
            "['15 triệu/tháng', 'PRICE']\n",
            "['9 triệu/tháng.', 'PRICE']\n",
            "nan\n",
            "['5.5 triệu/thá', 'PRICE']\n",
            "['8.25 k/m2/', 'PRICE']\n",
            "['2.5 tr - 4.5 tr/tháng', 'PRICE']\n",
            "['2.5 tr - 4.5 tr/th', 'PRICE']\n",
            "['2.5 tr - 4.5 tr/thá', 'PRICE']\n",
            "nan\n",
            "['8 triệu đến 16 triệu/th', 'PRICE']\n",
            "['2.5 tr - 4.5 tr/thá', 'PRICE']\n",
            "nan\n",
            "nan\n",
            "nan\n",
            "['17 ~ triệ', 'PRICE']\n",
            "nan\n",
            "['4tr5 đến 6tr', 'PRICE']\n",
            "['5 - 12 triệu/', 'PRICE']\n",
            "nan\n",
            "['15 triệu/tháng', 'PRICE']\n",
            "['9 triệu/tháng.', 'PRICE']\n",
            "nan\n",
            "['5.5 triệu/thá', 'PRICE']\n",
            "['6,5 triệutháng', 'PRICE']\n",
            "nan\n",
            "nan\n",
            "['23 tr/', 'PRICE']\n",
            "['7,8 triệu/thá', 'PRICE']\n",
            "['7 triệu/th', 'PRICE']\n",
            "nan\n",
            "['18.5 triệu/thá', 'PRICE']\n",
            "nan\n",
            "nan\n",
            "['7.5 triệu/thá', 'PRICE']\n",
            "['7 triệu.', 'PRICE']\n",
            "nan\n",
            "['6 xxtr', 'PRICE']\n",
            "nan\n",
            "['11,5 triệu/tháhoặc', 'PRICE']\n",
            "['6,5 triệu/thá', 'PRICE']\n",
            "['4.8 tr/thá', 'PRICE']\n",
            "['3.5-4 tr/th', 'PRICE']\n",
            "['6.5 tr/th', 'PRICE']\n",
            "nan\n",
            "nan\n",
            "nan\n",
            "nan\n",
            "nan\n",
            "['7.5 tr/thá', 'PRICE']\n",
            "['8.5 triệu', 'PRICE']\n",
            "['3,900,000 đ/tháng', 'PRICE']\n",
            "nan\n",
            "['3,5 - 4,5 triệuthá', 'PRICE']\n",
            "['9,5 tr/', 'PRICE']\n",
            "['5,5 tr', 'PRICE']\n",
            "nan\n",
            "nan\n",
            "nan\n",
            "['13.5 tr', 'PRICE']\n",
            "nan\n",
            "nan\n",
            "['9,5 tr/', 'PRICE']\n",
            "['10.5 tr', 'PRICE']\n",
            "nan\n",
            "['8,5 triệu/tháng', 'PRICE']\n",
            "['7 triệu', 'PRICE']\n",
            "['10.5 triệu/thá', 'PRICE']\n",
            "nan\n",
            "['8.5 tr', 'PRICE']\n",
            "['7.5 tr', 'PRICE']\n",
            "['8.5 triệu/thá', 'PRICE']\n",
            "['9 tr/thá', 'PRICE']\n",
            "['3tr5 - 3tr8', 'PRICE']\n",
            "['8,5 triệu/th', 'PRICE']\n",
            "['5,3 triệu/tháng', 'PRICE']\n",
            "nan\n",
            "['3.5 triệu/thá', 'PRICE']\n",
            "['7,5', 'PRICE']\n",
            "['5 - 6 triệu', 'PRICE']\n",
            "['9,5 triệutháng', 'PRICE']\n",
            "['14,5 triệuthá', 'PRICE']\n",
            "nan\n",
            "['9 - 12 tr/thá', 'PRICE']\n",
            "['5.5 tr/', 'PRICE']\n",
            "['5,5 triệu/tháng', 'PRICE']\n",
            "['4 triệu', 'PRICE']\n",
            "nan\n",
            "['9,5 tr', 'PRICE']\n",
            "['5,500,000/tháng', 'PRICE']\n",
            "['7,5 tr/tháng', 'PRICE']\n",
            "nan\n",
            "['9tr -11 trtháng', 'PRICE']\n",
            "nan\n",
            "nan\n",
            "['10.5 tr', 'PRICE']\n",
            "['8tr', 'PRICE']\n",
            "['10 - 11tr', 'PRICE']\n",
            "['3.1 triệu - 4.2 triệu - 5 triệu đồng', 'PRICE']\n",
            "nan\n",
            "['6 triệu', 'PRICE']\n",
            "['10.5 triệu/tháng', 'PRICE']\n",
            "['4 đến 5tr.', 'PRICE']\n",
            "['6.5 tr/th', 'PRICE']\n",
            "['9.5 tr/tháng', 'PRICE']\n",
            "nan\n",
            "['4.5 triệu/tháng', 'PRICE']\n",
            "['6tr', 'PRICE']\n",
            "['7.5 tr.', 'PRICE']\n",
            "['8tr.', 'PRICE']\n",
            "['8.5 tr/thá', 'PRICE']\n",
            "['11.5 triệu', 'PRICE']\n",
            "['12.5 triệu/thá', 'PRICE']\n",
            "['3 tr 5/th', 'PRICE']\n",
            "['4,5 tr/tháng', 'PRICE']\n",
            "nan\n",
            "nan\n",
            "nan\n",
            "['7.5 triệu/tháng', 'PRICE']\n",
            "['6.6 triệu/thá', 'PRICE']\n",
            "nan\n",
            "['16.000.000 vn', 'PRICE']\n",
            "['3,6 tr/55 m2', 'PRICE']\n",
            "nan\n",
            "nan\n",
            "['9,5 tr/th', 'PRICE']\n",
            "['12.5 tr/thá', 'PRICE']\n",
            "['12.5 triệu/thá', 'PRICE']\n",
            "['5.5 triệu/thá', 'PRICE']\n",
            "['7.5 triệu/thá', 'PRICE']\n",
            "['14.5 triệuthá', 'PRICE']\n",
            "['8,5 triệu/thá', 'PRICE']\n",
            "nan\n",
            "['8 triệu/tháng', 'PRICE']\n",
            "['10,5 tr/thá', 'PRICE']\n",
            "nan\n",
            "['6.5 triệu/thá', 'PRICE']\n",
            "['2.500.000 vnđ', 'PRICE']\n",
            "nan\n",
            "['12,5 tr/tháng', 'PRICE']\n",
            "['11.5 triệu/thá', 'PRICE']\n",
            "['8,5 triệu/', 'PRICE']\n",
            "['9.5 - 14tr căn', 'PRICE']\n",
            "['14 - 15 triệ', 'PRICE']\n",
            "nan\n",
            "['9.5 triệu/thá', 'PRICE']\n",
            "['8.5 triệu/thá', 'PRICE']\n",
            "['16.5 trthá', 'PRICE']\n",
            "['7.5 tr', 'PRICE']\n",
            "nan\n",
            "['3,5 triệu - 7,5 thá', 'PRICE']\n",
            "['12.5 triệuthá', 'PRICE']\n",
            "nan\n",
            "['10,5 triệu', 'PRICE']\n",
            "['7.5 triệu/thá', 'PRICE']\n",
            "['12,5 triệu/th. </s>', 'PRICE']\n",
            "['4 tr 5/', 'PRICE']\n",
            "['7.5 triệu', 'PRICE']\n",
            "nan\n",
            "nan\n",
            "['10.5 tr', 'PRICE']\n",
            "['12 - 13 triệu/tháng', 'PRICE']\n",
            "['8,5 tr-9 tr/th', 'PRICE']\n",
            "['13.5 triệuthá', 'PRICE']\n",
            "nan\n",
            "nan\n",
            "nan\n",
            "['9-10 tr/thá', 'PRICE']\n",
            "['10.5 - 13 triệu/thá', 'PRICE']\n",
            "['10.5 trth', 'PRICE']\n",
            "['9.5 trthá', 'PRICE']\n",
            "['8.5', 'PRICE']\n",
            "['9.5 tr/thá', 'PRICE']\n",
            "['8.5 tr/th', 'PRICE']\n",
            "nan\n",
            "['bà', 'PRICE']\n",
            "nan\n",
            "nan\n",
            "nan\n",
            "['6.5 triệu/thá', 'PRICE']\n",
            "['6.5 triệu/thá', 'PRICE']\n",
            "['6.5 triệu/thá', 'PRICE']\n",
            "['7.5 triệu/thá', 'PRICE']\n",
            "nan\n",
            "['12.5 trthá', 'PRICE']\n",
            "['10.5 triệuthá', 'PRICE']\n",
            "['7,5 - 8 triệu/thá', 'PRICE']\n",
            "['5,5 triệu/thá', 'PRICE']\n",
            "['9,5-10 triệu/thá', 'PRICE']\n",
            "nan\n",
            "['4,9 tr/tháng', 'PRICE']\n",
            "['6.5 triệu/thá', 'PRICE']\n",
            "['9,9 tr/tháng', 'PRICE']\n",
            "['7 triệu', 'PRICE']\n",
            "['10.5 tr/th', 'PRICE']\n",
            "nan\n",
            "['11,5 tr/th', 'PRICE']\n",
            "['8,5 triệu/thá', 'PRICE']\n",
            "['10.5 triệu/thá', 'PRICE']\n",
            "['10.5 triệu/thá', 'PRICE']\n",
            "['9 tr 5/th', 'PRICE']\n",
            "['12 triệu/thá', 'PRICE']\n",
            "['29,328 triệu/tháng', 'PRICE']\n",
            "nan\n",
            "['40,07 triệu', 'PRICE']\n",
            "['12 tr/thá', 'PRICE']\n",
            "['6.5 triệu/thá', 'PRICE']\n",
            "['6.5 tr/thá', 'PRICE']\n",
            "['4.5 triệu/- 7 triệu/th', 'PRICE']\n",
            "[':', 'PRICE']\n",
            "['8 triệu/thá', 'PRICE']\n",
            "['5 - 8 triệu/thá', 'PRICE']\n",
            "['12.5 triệuthá', 'PRICE']\n",
            "['11.5 triệu/', 'PRICE']\n",
            "['10 triệu/tháphòng', 'PRICE']\n",
            "['4.5 trtháng', 'PRICE']\n",
            "['12.5 triệu/thá', 'PRICE']\n",
            "['8,5 triệu/thá', 'PRICE']\n",
            "nan\n",
            "['20 triệu', 'PRICE']\n",
            "['6,5 triệu/thá', 'PRICE']\n",
            "['12.5 triệu/tháng', 'PRICE']\n",
            "['6.5 tr/thá', 'PRICE']\n",
            "nan\n",
            "['16 tr/thá', 'PRICE']\n",
            "['13 tr 5/tháng', 'PRICE']\n",
            "['7 triệu', 'PRICE']\n",
            "['10.5 tr/thá', 'PRICE']\n",
            "['10.5 tr/thá', 'PRICE']\n",
            "['8.5 th', 'PRICE']\n",
            "['8,5 triệu/thá', 'PRICE']\n",
            "['12 triệu/thá', 'PRICE']\n",
            "['5,5 tr/th', 'PRICE']\n",
            "['9,5 tr', 'PRICE']\n",
            "['8.5 triệu/', 'PRICE']\n",
            "['7,5 triệuthá', 'PRICE']\n",
            "['10 tr/', 'PRICE']\n",
            "['11.5 triệu', 'PRICE']\n",
            "['7,5 triệuthá', 'PRICE']\n",
            "['7.5 triệu/', 'PRICE']\n",
            "nan\n",
            "['9 tr/thát, 172 phòng ngủ', 'PRICE']\n",
            "['10.5 trthá', 'PRICE']\n",
            "['12.5 triệu/thá', 'PRICE']\n",
            "['4,5 tr/thá', 'PRICE']\n",
            "[':', 'PRICE']\n",
            "['3,6 tr-55 m2', 'PRICE']\n",
            "nan\n",
            "['1tr5 bao', 'PRICE']\n",
            "['5.5 tr', 'PRICE']\n",
            "['10.5 tr/thá', 'PRICE']\n",
            "['8 - 9 triệ', 'PRICE']\n",
            "['8,5 tr/thá', 'PRICE']\n",
            "nan\n",
            "['6,5 trtr', 'PRICE']\n",
            "['7.5 - 9 triệ', 'PRICE']\n",
            "['14 tr/thá', 'PRICE']\n",
            "nan\n",
            "['12 triệphòng ngkhá', 'PRICE']\n",
            "['5,5 tr. </s>', 'PRICE']\n",
            "['8.5 triệu/tháng', 'PRICE']\n",
            "['8,5 triệuthá', 'PRICE']\n",
            "['11.5 triệu/', 'PRICE']\n",
            "['7tr5', 'PRICE']\n",
            "['10,5 triệuthá', 'PRICE']\n",
            "['12,5 tr/tháng.', 'PRICE']\n",
            "['8.5 triệu', 'PRICE']\n",
            "['11.5 triệu', 'PRICE']\n",
            "['6,5 tr/thá', 'PRICE']\n",
            "['250 tr', 'PRICE']\n",
            "['6,5 triệu/', 'PRICE']\n",
            "['6.5 tr/th.', 'PRICE']\n",
            "['4.5', 'PRICE']\n",
            "['9.5 triệu/thá', 'PRICE']\n",
            "['4.5 triệu/tháng', 'PRICE']\n",
            "['7,5 triệu/', 'PRICE']\n",
            "['12 tr 5/thá', 'PRICE']\n",
            "['14.500.000 đ/th', 'PRICE']\n",
            "['6.5 - 7.5 tr/thá', 'PRICE']\n",
            "nan\n",
            "nan\n",
            "nan\n",
            "['4 tr 7/thá', 'PRICE']\n",
            "nan\n",
            "nan\n",
            "nan\n",
            "['6.5 tr/thá', 'PRICE']\n",
            "['13,5 tr/tháng', 'PRICE']\n",
            "['8,5-9 triệu/th', 'PRICE']\n",
            "['6.5 triệu/thá', 'PRICE']\n",
            "['4.5 triệu/thá', 'PRICE']\n",
            "nan\n",
            "['19 tr 5/thá', 'PRICE']\n",
            "['7.5 tr', 'PRICE']\n",
            "['11 ~ 14 triệu', 'PRICE']\n",
            "['12.000 btu. 2 chiề', 'PRICE']\n",
            "['17.5 tr/thá', 'PRICE']\n",
            "['14.5 triệu/thá', 'PRICE']\n",
            "['4tr', 'PRICE']\n",
            "['11 tr/thá', 'PRICE']\n",
            "['14.5 tr/th', 'PRICE']\n",
            "nan\n",
            "['10.5 tr/tháng', 'PRICE']\n",
            "nan\n",
            "['5,5 triệu/thá', 'PRICE']\n",
            "['10.5 triệu/', 'PRICE']\n",
            "['5.5 tr/th.', 'PRICE']\n",
            "['7 - 8 triệutháng', 'PRICE']\n",
            "nan\n",
            "['4,5 - 5 triệu/thá', 'PRICE']\n",
            "['từ', 'PRICE']\n",
            "['7.5 triệu/thá', 'PRICE']\n",
            "['10.5 triệuthá', 'PRICE']\n",
            "['12,5 triệutháng', 'PRICE']\n",
            "['7,5 triệu/tháng', 'PRICE']\n",
            "['4,5 triệu - 7 triệu', 'PRICE']\n",
            "nan\n",
            "['6,5 tr/', 'PRICE']\n",
            "['5,5 tr', 'PRICE']\n",
            "['7.5 tr', 'PRICE']\n",
            "['9,5 triệu/thá', 'PRICE']\n",
            "['10 triệu/tháng', 'PRICE']\n",
            "['16,696 triệu/tháng', 'PRICE']\n",
            "['3,5 tr', 'PRICE']\n",
            "['13 triệu/', 'PRICE']\n",
            "['10 tr 5/thá', 'PRICE']\n",
            "nan\n",
            "nan\n",
            "['11.5 triệu/thá', 'PRICE']\n",
            "['3tr8', 'PRICE']\n",
            "['2.500.000 vnđ', 'PRICE']\n",
            "['4,5 tr', 'PRICE']\n",
            "['7 triệu đến 16 triệu/th', 'PRICE']\n",
            "['92m2', 'PRICE']\n",
            "['7,5-8 tr/pw', 'PRICE']\n",
            "['4.5 tr/thá', 'PRICE']\n",
            "['5 tr/tháng', 'PRICE']\n",
            "['9,5 tr', 'PRICE']\n",
            "[':', 'PRICE']\n",
            "nan\n",
            "['14.5 triệu/tháng.', 'PRICE']\n",
            "['5 tr 5/th', 'PRICE']\n",
            "['6 tr 5/th', 'PRICE']\n",
            "['9.5 triệu/thá', 'PRICE']\n",
            "nan\n",
            "['11.5 triệu/th', 'PRICE']\n",
            "['10 triệu/thá', 'PRICE']\n",
            "['7.5 tr/thá', 'PRICE']\n",
            "nan\n",
            "nan\n",
            "['9,5 triệu/thá', 'PRICE']\n",
            "nan\n",
            "['7 tr/th.', 'PRICE']\n",
            "['4,5 - 5 triệu/thá', 'PRICE']\n",
            "['3,5 nghìn/m', 'PRICE']\n",
            "['10,5 triệu/thá', 'PRICE']\n",
            "['14,5 triệutháng', 'PRICE']\n",
            "['6,5 ~ 7 triệ', 'PRICE']\n",
            "['6 triệutháng', 'PRICE']\n",
            "['~ 8 triệu/thá', 'PRICE']\n",
            "nan\n",
            "['8, tr/tháng', 'PRICE']\n",
            "['8.5 triệu/th', 'PRICE']\n",
            "['11.5 triệu/tháng', 'PRICE']\n",
            "[':', 'PRICE']\n",
            "nan\n",
            "['8.5 triệu/', 'PRICE']\n",
            "['8.5 triệu/thá', 'PRICE']\n",
            "['14.5 trth.', 'PRICE']\n",
            "['8 tr 5/tháng', 'PRICE']\n",
            "['5,5 triệu đến 7,5 triệu/thá', 'PRICE']\n",
            "['18,922 triệu', 'PRICE']\n",
            "['26,713 triệu/thá', 'PRICE']\n",
            "['6,8 triệu', 'PRICE']\n",
            "['12,5 triệu', 'PRICE']\n",
            "['11.5 triệu/thá', 'PRICE']\n",
            "['6.5 - 7,5 tr/th', 'PRICE']\n",
            "['14.5 triệu/thá', 'PRICE']\n",
            "nan\n",
            "['8.5 tr/', 'PRICE']\n",
            "['8,5 tr/thá', 'PRICE']\n",
            "['11.5 tr', 'PRICE']\n",
            "['8,5 tr/thá', 'PRICE']\n",
            "['9,5 triệu/', 'PRICE']\n",
            "['8,5 triệuthá', 'PRICE']\n",
            "['6 triệu 7 triệu.', 'PRICE']\n",
            "['8.5 tr/thá', 'PRICE']\n",
            "['9.5 tr/tháng.', 'PRICE']\n",
            "['12.5 tr/th', 'PRICE']\n",
            "nan\n",
            "['2.5 tr/1', 'PRICE']\n",
            "['7,5 triệu/thá', 'PRICE']\n",
            "nan\n",
            "['3,3 triệu', 'PRICE']\n",
            "['13 trthá', 'PRICE']\n",
            "['6.5 triệu', 'PRICE']\n",
            "['17 tầ', 'PRICE']\n",
            "nan\n",
            "nan\n",
            "nan\n",
            "['4.500.000 - 5.000.000 đ', 'PRICE']\n",
            "['7.5 - 9 triệ', 'PRICE']\n",
            "nan\n",
            "['4,5 tr - 6 triệu/thá', 'PRICE']\n",
            "['6.5 triệu/tháng', 'PRICE']\n",
            "['6.5 triệ', 'PRICE']\n",
            "['8,5 triệu', 'PRICE']\n",
            "['10,5 triệu/tháng', 'PRICE']\n",
            "[':', 'PRICE']\n",
            "nan\n",
            "['60 triệu/thá', 'PRICE']\n",
            "['5,5 triệu/thá', 'PRICE']\n",
            "['5.5 - 7 triệuthá', 'PRICE']\n",
            "['11.5 triệutháng', 'PRICE']\n",
            "['7.5 triệutháng', 'PRICE']\n",
            "['6.5 triệu/thá', 'PRICE']\n",
            "['7,5 triệu/', 'PRICE']\n",
            "['từ', 'PRICE']\n",
            "['7,5 triệu/', 'PRICE']\n",
            "['8 tr/th đến 12 triệu/tháng. 2415563 zalo', 'PRICE']\n",
            "['11 trthá', 'PRICE']\n",
            "['7.5 triệu/thá', 'PRICE']\n",
            "['6,5 tr/th', 'PRICE']\n",
            "['7 tr', 'PRICE']\n",
            "['6.5 triệu', 'PRICE']\n",
            "['7.5 - 8.5 trtrtrtr', 'PRICE']\n",
            "['11.5 triệu/thá', 'PRICE']\n",
            "['8.5 triệu/thá', 'PRICE']\n",
            "nan\n",
            "['3,6 tr - 55m2', 'PRICE']\n",
            "['10 triệu', 'PRICE']\n",
            "['5.5 trtrhoà', 'PRICE']\n",
            "nan\n",
            "['6tr.', 'PRICE']\n",
            "['6.5 tr.', 'PRICE']\n",
            "['10 trtháng', 'PRICE']\n",
            "['8.3 tr/thá', 'PRICE']\n",
            "['6.5 tr/thá', 'PRICE']\n",
            "['5,5 trthá', 'PRICE']\n",
            "['7,5 - 9 tr/thá', 'PRICE']\n",
            "['7 tr 5/thá', 'PRICE']\n",
            "['6 triệuthá', 'PRICE']\n",
            "['7 triệu/thá', 'PRICE']\n",
            "['13.5 triệu/tháng. </s>', 'PRICE']\n",
            "['5,5 tr/tháđường phúc_lợi, giao_thông thuận_tiện.', 'PRICE']\n",
            "['7,5 tr', 'PRICE']\n",
            "nan\n",
            "['12 triệu/thá', 'PRICE']\n",
            "['7,5 triệu/thá', 'PRICE']\n",
            "['7,5 triệuthá', 'PRICE']\n",
            "['5 - 8 triệu/tháng', 'PRICE']\n",
            "['55,653 triệu/thá', 'PRICE']\n",
            "nan\n",
            "['14.5 triệu/thá', 'PRICE']\n",
            "nan\n",
            "['14.5 triệutháng', 'PRICE']\n",
            "['100 k/1 ngườ', 'PRICE']\n",
            "['9 triệu/thá', 'PRICE']\n",
            "['8 trthá', 'PRICE']\n",
            "['12.5 triệu/thá', 'PRICE']\n",
            "['13 - 16 triệ', 'PRICE']\n",
            "['7,5 triệ', 'PRICE']\n",
            "['6.5 - 9 triệu/thá', 'PRICE']\n",
            "['17.5 triệu', 'PRICE']\n",
            "['7 triệu/thá', 'PRICE']\n",
            "['8.5 tr/th', 'PRICE']\n",
            "['8.5 triệu/thá', 'PRICE']\n",
            "['14.5 triệu', 'PRICE']\n",
            "['6.5 triệum', 'PRICE']\n",
            "[':', 'PRICE']\n",
            "['9 tr/th', 'PRICE']\n",
            "['8,5 tr/thá', 'PRICE']\n",
            "nan\n",
            "['8,5 triệu/thá', 'PRICE']\n",
            "['11,5 triệu/thá</s>', 'PRICE']\n",
            "['8.5 triệuthá', 'PRICE']\n",
            "['11.5 tr/thá', 'PRICE']\n",
            "['4,5 tr/thá', 'PRICE']\n",
            "['8 - 12 trthátủ bếrèm cử', 'PRICE']\n",
            "['7,5 - 8 tr/th', 'PRICE']\n",
            "['11.5 triệu', 'PRICE']\n",
            "['11.5 triệu/thá', 'PRICE']\n",
            "['5,5 ~ 6.5', 'PRICE']\n",
            "['9.5 triệu/thá', 'PRICE']\n",
            "['8 - 10 triệu/th', 'PRICE']\n",
            "['11 tr/th', 'PRICE']\n",
            "['9,5 tr/thá', 'PRICE']\n",
            "nan\n",
            "['6.5 tr', 'PRICE']\n",
            "['13.5 triệu/th', 'PRICE']\n",
            "['7.5 tr/th', 'PRICE']\n",
            "nan\n",
            "['9.5 tr/tháng đến 10 tr/thá', 'PRICE']\n",
            "['10.5 triệuthá', 'PRICE']\n",
            "['9.5 tr/thá', 'PRICE']\n",
            "['13.5 tr/th', 'PRICE']\n",
            "['11.5 triệu/thá', 'PRICE']\n",
            "['10 triệu/thá', 'PRICE']\n",
            "['11 - 12 triệu/thá', 'PRICE']\n",
            "['18 - 19 triệu', 'PRICE']\n",
            "['4.5 tr/th', 'PRICE']\n",
            "nan\n",
            "['10.5 tr/th', 'PRICE']\n",
            "['15 triệu/', 'PRICE']\n",
            "nan\n",
            "['20 - 21 triệu/thá', 'PRICE']\n",
            "['9.5 tr - 10tr triệu/thángkhách', 'PRICE']\n",
            "['111,305 triệu', 'PRICE']\n",
            "['12.5 triệu/', 'PRICE']\n",
            "['9.5 tr/th.', 'PRICE']\n",
            "['9,2 tr/thá', 'PRICE']\n",
            "['4,5 triệu/thá', 'PRICE']\n",
            "['4 tr', 'PRICE']\n",
            "['6 triệuthá', 'PRICE']\n",
            "['9 triệu/thá', 'PRICE']\n",
            "['12.5 triệthá', 'PRICE']\n",
            "['7.5 triệu/thá', 'PRICE']\n",
            "['12.5 tr/th.', 'PRICE']\n",
            "['7,5 - 8 triệu/thá', 'PRICE']\n",
            "['3,5 tr', 'PRICE']\n",
            "['9,5-11 triệu', 'PRICE']\n",
            "nan\n",
            "['11 tr/tháng', 'PRICE']\n",
            "['8,5 triệu/thá', 'PRICE']\n",
            "['7,5 triệu/thá', 'PRICE']\n",
            "nan\n",
            "['7.5 - 9 triệ', 'PRICE']\n",
            "['5,5 - 6 tr/thá', 'PRICE']\n",
            "['10,5 tr/th', 'PRICE']\n",
            "['20 triệu/tháng - 30 triệu/thá', 'PRICE']\n",
            "nan\n",
            "['5,5 tr/th.', 'PRICE']\n",
            "['15,5 triệu', 'PRICE']\n",
            "['7,5 tr - 12 tr/thá', 'PRICE']\n",
            "['8,5 triệuthá', 'PRICE']\n",
            "['10tr - 11 tr', 'PRICE']\n",
            "['8,5 tr/thá', 'PRICE']\n",
            "['8,5 tr/thá', 'PRICE']\n",
            "['6,5 - 7 triệu/thá', 'PRICE']\n",
            "['4.5 triệu - 7 triệu', 'PRICE']\n",
            "['8.5 triệu/tháng. </s>', 'PRICE']\n",
            "['9.5 tr/thá', 'PRICE']\n",
            "['9,5 tr/', 'PRICE']\n",
            "['500.000 đ - 1tr.', 'PRICE']\n",
            "['6.5 triệu/thá', 'PRICE']\n",
            "['8 triệu/thá', 'PRICE']\n",
            "['4.5 triệu/thá', 'PRICE']\n",
            "['12.5 tr/th', 'PRICE']\n",
            "['7.5 triệu', 'PRICE']\n",
            "['6,5 tr', 'PRICE']\n",
            "['6 tháng/', 'PRICE']\n",
            "['7 triệu/th', 'PRICE']\n",
            "[':', 'PRICE']\n",
            "['11,5 triệu/tháng', 'PRICE']\n",
            "['11,5 triệu/tháng', 'PRICE']\n",
            "['6 triệu - 7, 5 triệu/th</s>', 'PRICE']\n",
            "nan\n",
            "['10,5 triệuthá', 'PRICE']\n",
            "['7.2 triệu/tháng', 'PRICE']\n",
            "['8.5 tr', 'PRICE']\n",
            "['12,6 triệu/thá', 'PRICE']\n",
            "nan\n",
            "nan\n",
            "['4 triệu 8 triệu', 'PRICE']\n",
            "['11.5 triệu/thá', 'PRICE']\n",
            "nan\n",
            "['7.5 - 9 triệ', 'PRICE']\n",
            "['13,8 triệu/th', 'PRICE']\n",
            "['7.5 triệu', 'PRICE']\n",
            "['7.5 triệu/thá', 'PRICE']\n",
            "['16.5 trthá', 'PRICE']\n",
            "['4.5 triệu/tháng cơ_bản', 'PRICE']\n",
            "['6,5 triệu', 'PRICE']\n",
            "nan\n",
            "['3,2 triệu/tháng đến 5,2 tr/1', 'PRICE']\n",
            "nan\n",
            "['12.5 - 13 triệu/thá', 'PRICE']\n",
            "['10.5 tr/', 'PRICE']\n",
            "['11 th', 'PRICE']\n",
            "['6.5 triệu/thá', 'PRICE']\n",
            "['7.5 tr/tháp', 'PRICE']\n",
            "['10.5 triệu/', 'PRICE']\n",
            "['11.5 triệu.', 'PRICE']\n",
            "['9,5 triệu/tháng', 'PRICE']\n",
            "['4.5 tr/th', 'PRICE']\n",
            "['15 triệ', 'PRICE']\n",
            "[':', 'PRICE']\n",
            "nan\n",
            "['8,5 tr', 'PRICE']\n",
            "['8,5 tr/thá', 'PRICE']\n",
            "[':', 'PRICE']\n",
            "nan\n",
            "nan\n",
            "['9 - 10tr.', 'PRICE']\n",
            "['6.5 - 9 triệu/thá', 'PRICE']\n",
            "nan\n",
            "['9,6 tr', 'PRICE']\n",
            "['7,5 triệu/', 'PRICE']\n",
            "['9,6 tr', 'PRICE']\n",
            "['5.5 triệu/tháng', 'PRICE']\n",
            "['6,5 tr/th', 'PRICE']\n",
            "['3.5 trđ/thá', 'PRICE']\n",
            "nan\n",
            "['44,522 triệu/tháng', 'PRICE']\n",
            "['11.5 tr/th', 'PRICE']\n",
            "nan\n",
            "['11.5 triệu/thá', 'PRICE']\n",
            "['7,5 triệu/tháng', 'PRICE']\n",
            "['13 tr/thá', 'PRICE']\n",
            "['8 tr/tháng', 'PRICE']\n",
            "['6 tr', 'PRICE']\n",
            "['7,5 - 8 triệu/thá', 'PRICE']\n",
            "['5,5 triệu/thá', 'PRICE']\n",
            "['9,5 triệu/thá', 'PRICE']\n",
            "nan\n",
            "['7 tr 5/biên', 'PRICE']\n",
            "['6 tr biên', 'PRICE']\n",
            "['4 tr 5/th', 'PRICE']\n",
            "['11.5 triệu/thá', 'PRICE']\n",
            "['12.5 triệu', 'PRICE']\n",
            "nan\n",
            "nan\n",
            "nan\n",
            "nan\n",
            "['4,5 triệu/thátháng', 'PRICE']\n",
            "nan\n",
            "['4,5 tr/thá', 'PRICE']\n",
            "['12.5 triệ', 'PRICE']\n",
            "['8.5 triệu/thá', 'PRICE']\n",
            "['4,5 tr/thá', 'PRICE']\n",
            "['5.5 triệu/thá2 phòng ngủ', 'PRICE']\n",
            "['10 triệuth', 'PRICE']\n",
            "['7.5 tr/thá', 'PRICE']\n",
            "['7.5 tr/thá', 'PRICE']\n",
            "['6 tr 5/thá', 'PRICE']\n",
            "['8 triệu/tháng', 'PRICE']\n",
            "['8.5 tr/thá', 'PRICE']\n",
            "['4 triệu', 'PRICE']\n",
            "['8.5 triệu/tháphòng', 'PRICE']\n",
            "['3,5 triệu/thá', 'PRICE']\n",
            "['12.5 triệu', 'PRICE']\n",
            "['6,5 triệu/tháng', 'PRICE']\n",
            "['10 triệ', 'PRICE']\n",
            "['6,7 triệu', 'PRICE']\n",
            "['6.5 th', 'PRICE']\n",
            "['11.5 triệu/thá', 'PRICE']\n",
            "['7.5 triệu', 'PRICE']\n",
            "['11.5 triệu/tháng', 'PRICE']\n",
            "['500 k ~ 1 tr đồng/thá', 'PRICE']\n",
            "['6.5 - 7 triệu/thá', 'PRICE']\n",
            "['11,5 triệu/tháhoặc', 'PRICE']\n",
            "nan\n",
            "['12.5 triệu/thá', 'PRICE']\n",
            "nan\n",
            "['6,5 triệu/thá', 'PRICE']\n",
            "nan\n",
            "['8,5 tr/thá', 'PRICE']\n",
            "['6,5 tr/thá', 'PRICE']\n",
            "['8 tr/thá', 'PRICE']\n",
            "['12.5 tr/thá', 'PRICE']\n",
            "['8.5 tr/th', 'PRICE']\n",
            "['10-12 triệu/thá', 'PRICE']\n",
            "['10.5 triệu/thá', 'PRICE']\n",
            "['7.5 triệu/thá', 'PRICE']\n",
            "['6.5 triệu/thá', 'PRICE']\n",
            "nan\n",
            "['11.5 tr/', 'PRICE']\n",
            "['6 triệu/thá', 'PRICE']\n",
            "['6.5 triệu/thá', 'PRICE']\n",
            "['8 - 9 triệ', 'PRICE']\n",
            "['8 tr/tháng 2n', 'PRICE']\n",
            "nan\n",
            "['5.5 trieu', 'PRICE']\n",
            "['7.5 triệuth', 'PRICE']\n",
            "nan\n",
            "nan\n",
            "nan\n",
            "nan\n",
            "['9,254 triệu/tháng', 'PRICE']\n",
            "['6x tr.', 'PRICE']\n",
            "nan\n",
            "['5.5 triệu/tháng', 'PRICE']\n",
            "['10,5 triệu/', 'PRICE']\n",
            "nan\n",
            "['10.5 trth', 'PRICE']\n",
            "['8,5 triệu/thá', 'PRICE']\n",
            "['6,5 triệu.', 'PRICE']\n",
            "['9,5-10 triệ', 'PRICE']\n",
            "nan\n",
            "['3,5 tr - 4,5 triệu/thá', 'PRICE']\n",
            "['5,5-6 triệu/thá', 'PRICE']\n",
            "['6.5 triệu/th', 'PRICE']\n",
            "['8.5 tr/th', 'PRICE']\n",
            "['10,5 triệu/thá', 'PRICE']\n",
            "['4,3 triệu', 'PRICE']\n",
            "['5 tr', 'PRICE']\n",
            "['5.5 triệu', 'PRICE']\n",
            "['12.5 triệu/thá', 'PRICE']\n",
            "['90 nghìn/xe', 'PRICE']\n",
            "['12,5 th', 'PRICE']\n",
            "nan\n",
            "['3.5 trđ/thá', 'PRICE']\n",
            "nan\n",
            "[':', 'PRICE']\n",
            "nan\n",
            "['9,5 triệu/th', 'PRICE']\n",
            "['4,3 triệutháng', 'PRICE']\n",
            "['14.5 triệu/thá', 'PRICE']\n",
            "['5.5 tr/thá', 'PRICE']\n",
            "['15 triệu/tháng', 'PRICE']\n",
            "['4.5 tr/thá', 'PRICE']\n",
            "['1.250.000 vnđ', 'PRICE']\n",
            "['2,5 triệu/thá', 'PRICE']\n",
            "nan\n",
            "nan\n",
            "['6.5 tr/thá', 'PRICE']\n",
            "nan\n",
            "['11.5 tr/thá', 'PRICE']\n",
            "['8,5 triệu/thá', 'PRICE']\n",
            "['12 triệu/thá', 'PRICE']\n",
            "['22,261 triệu/thá', 'PRICE']\n",
            "['8,5 triệutháng', 'PRICE']\n",
            "['11.5 triệuthá', 'PRICE']\n",
            "['9,5 tr/th', 'PRICE']\n",
            "nan\n",
            "['11.5 tr', 'PRICE']\n",
            "['12,5 triệu/th.', 'PRICE']\n",
            "['9 triệu/thá', 'PRICE']\n",
            "['15 - 18 triệu/tháng', 'PRICE']\n",
            "['9,5 triệu/thá', 'PRICE']\n",
            "nan\n",
            "['6,5 tr/tháng', 'PRICE']\n",
            "['9.5 triệutháng', 'PRICE']\n",
            "['13 tr 5/thá', 'PRICE']\n",
            "['12.500.000 đ/tháng', 'PRICE']\n",
            "['14.5 triệu/thá', 'PRICE']\n",
            "['10.5 tr/th', 'PRICE']\n",
            "['10,5 triệu', 'PRICE']\n",
            "['4.500.000/thá', 'PRICE']\n",
            "nan\n",
            "['6.5 triệu/tháng', 'PRICE']\n",
            "nan\n",
            "nan\n",
            "nan\n",
            "['4 tr 5/thá', 'PRICE']\n",
            "['6,5 trtháng', 'PRICE']\n",
            "nan\n",
            "['5.5 tr/tháng', 'PRICE']\n",
            "nan\n",
            "['6.5 tr/tháng', 'PRICE']\n",
            "['7.5 triệu/thá', 'PRICE']\n",
            "['8.5 tr/tháng', 'PRICE']\n",
            "nan\n",
            "['9.5 tr/th', 'PRICE']\n",
            "['14,5 tr/th', 'PRICE']\n",
            "['9 triệuthá', 'PRICE']\n",
            "['8.5 - 9 triệu/thátriệu', 'PRICE']\n",
            "nan\n",
            "['5.5 - 6.5 tr/thá', 'PRICE']\n",
            "nan\n",
            "['12.5 tr/', 'PRICE']\n",
            "['7.5 - 9 triệ', 'PRICE']\n",
            "['10.5 tr/th', 'PRICE']\n",
            "nan\n",
            "['15.5 triệu', 'PRICE']\n",
            "['5,5 triệu/', 'PRICE']\n",
            "['14.5 tr/thá', 'PRICE']\n",
            "['4.5 triệu', 'PRICE']\n",
            "['11,5 triệu', 'PRICE']\n",
            "['8.5 triệu/tháng', 'PRICE']\n",
            "['9,5 triệu/thá', 'PRICE']\n",
            "['11.5 tr', 'PRICE']\n",
            "nan\n",
            "['7 - 11 triệu/tháng', 'PRICE']\n",
            "['9.5 triệu/thá', 'PRICE']\n",
            "['7 tr/thá', 'PRICE']\n",
            "['9,5 tr/th', 'PRICE']\n",
            "['10,5 tr', 'PRICE']\n",
            "nan\n",
            "nan\n",
            "[':', 'PRICE']\n",
            "['8.5 triệu/tháng', 'PRICE']\n",
            "['8tr.', 'PRICE']\n",
            "nan\n",
            "['8,5 triệu/th', 'PRICE']\n",
            "['11.5 triệu/thá', 'PRICE']\n",
            "['2.5 triệu/thá', 'PRICE']\n",
            "nan\n",
            "['13.5 tr/thá', 'PRICE']\n",
            "['5,5 tr/th.', 'PRICE']\n",
            "[':', 'PRICE']\n",
            "['10,5 tr/th', 'PRICE']\n",
            "['12,5 triệu/thá', 'PRICE']\n",
            "['8.5 triệu', 'PRICE']\n",
            "['7.5 triệu/thá', 'PRICE']\n",
            "['6.5 triệu/thá', 'PRICE']\n",
            "nan\n",
            "['10.5 triệu/', 'PRICE']\n",
            "nan\n",
            "['11tr 5/1', 'PRICE']\n",
            "[':', 'PRICE']\n",
            "['3.5 triệu', 'PRICE']\n",
            "['5.5 triệu', 'PRICE']\n",
            "nan\n",
            "['6,5 tr/tháng. </s>', 'PRICE']\n",
            "nan\n",
            "nan\n",
            "['10.5 tr/thá', 'PRICE']\n",
            "['10.5 triệu/thá', 'PRICE']\n",
            "['8 triệ', 'PRICE']\n",
            "['4.5 triệu - 5 triệu - 5.5 triệu/thá', 'PRICE']\n",
            "['4 triệu - 4.5 triệu - 5 triệu - 5.5 triệu - 6 triệu.', 'PRICE']\n"
          ]
        }
      ],
      "source": [
        "import string\n",
        "punc = list(string.punctuation.replace(',','').replace('.','') + 'abcdefghyklmnopqrstuvwxyz')\n",
        "for i in range(df.shape[0]):\n",
        "    if any(p in str(df['AREA'][i]) for p in punc):  \n",
        "        print(df['AREA'][i]) \n",
        "        #drop wrong label\n",
        "        df['AREA'] = df['AREA'].drop(index=i)\n",
        "for i in range(df.shape[0]):\n",
        "    if any(p in str(df['PRICE'][i]) for p in punc):  \n",
        "        print(df['PRICE'][i]) "
      ]
    },
    {
      "cell_type": "code",
      "execution_count": null,
      "id": "bd1bd313",
      "metadata": {
        "id": "bd1bd313"
      },
      "outputs": [],
      "source": [
        "import re\n",
        "def convert_obj_to_float(df, field):\n",
        "    form = \"[+-]?(\\d+(\\.\\d*)?|\\.\\d+)([eE][+-]?\\d+)?\"\n",
        "    for i in range(df.shape[0]):\n",
        "        if isinstance(df[field][i], str):\n",
        "            temp = re.findall(form, df[field][i].replace(',','.').replace('m2','').replace(' tr ','.').replace('tr','.').replace('00.000','.'))\n",
        "            if not len(temp):\n",
        "                df[field] = df[field].drop(index=i)\n",
        "            else:\n",
        "                temp_ = 0.0\n",
        "                for t in temp:\n",
        "                    temp_ += float(t[0])\n",
        "                df[field][i] = temp_/len(temp)\n",
        "        if isinstance(df[field][i], int):\n",
        "            df[field][i] = float(df[field][i])\n",
        "    df[field] = df[field].astype('float')\n",
        "convert_obj_to_float(df, 'PRICE')\n",
        "convert_obj_to_float(df, 'AREA')"
      ]
    },
    {
      "cell_type": "markdown",
      "id": "0fca3d98",
      "metadata": {
        "id": "0fca3d98"
      },
      "source": [
        "# Process apartment type, furniture, furniture type, room"
      ]
    },
    {
      "cell_type": "code",
      "execution_count": 367,
      "id": "8ad3968a",
      "metadata": {
        "colab": {
          "base_uri": "https://localhost:8080/"
        },
        "id": "8ad3968a",
        "outputId": "6ed238aa-a564-4d95-9ba5-d2581dd70cc8"
      },
      "outputs": [
        {
          "output_type": "stream",
          "name": "stdout",
          "text": [
            "['tập thể' 'chung_cư' 'tập_thể chung_cư' 'studio' 'ccmn' 'căn hộ dịch vụ'\n",
            " 'mini chung_cư' 'chung cư' 'studio chung_cư' 'chung_cư cao_cấp'\n",
            " 'chung_cư studio cao_cấp' 'mini' 'penthouse' 'chung_cư ccmn' 'duplex'\n",
            " 'studio mini chung_cư' nan 'tập_thể' 'cao_cấp' 'penhouse chung_cư'\n",
            " 'chung_cư mini cao_cấp' 'cao_cấp chung_cư' 'officetel' 'cao_cấp ccmn'\n",
            " 'studio cao_cấp' 'studio ccmn' 'chung_cư cao_cấp ccmn' 'chung_cư studio'\n",
            " 'cao_cấp chung_cư studio' 'penhouse' 'cao_cấp studio' 'ccmn chung_cư'\n",
            " 'chung_cư penhouse' 'ccmn cao_cấp']\n"
          ]
        },
        {
          "output_type": "stream",
          "name": "stderr",
          "text": [
            "/usr/local/lib/python3.7/dist-packages/ipykernel_launcher.py:19: SettingWithCopyWarning: \n",
            "A value is trying to be set on a copy of a slice from a DataFrame\n",
            "\n",
            "See the caveats in the documentation: https://pandas.pydata.org/pandas-docs/stable/user_guide/indexing.html#returning-a-view-versus-a-copy\n",
            "/usr/local/lib/python3.7/dist-packages/ipykernel_launcher.py:21: SettingWithCopyWarning: \n",
            "A value is trying to be set on a copy of a slice from a DataFrame\n",
            "\n",
            "See the caveats in the documentation: https://pandas.pydata.org/pandas-docs/stable/user_guide/indexing.html#returning-a-view-versus-a-copy\n",
            "/usr/local/lib/python3.7/dist-packages/ipykernel_launcher.py:13: SettingWithCopyWarning: \n",
            "A value is trying to be set on a copy of a slice from a DataFrame\n",
            "\n",
            "See the caveats in the documentation: https://pandas.pydata.org/pandas-docs/stable/user_guide/indexing.html#returning-a-view-versus-a-copy\n",
            "  del sys.path[0]\n",
            "/usr/local/lib/python3.7/dist-packages/ipykernel_launcher.py:17: SettingWithCopyWarning: \n",
            "A value is trying to be set on a copy of a slice from a DataFrame\n",
            "\n",
            "See the caveats in the documentation: https://pandas.pydata.org/pandas-docs/stable/user_guide/indexing.html#returning-a-view-versus-a-copy\n",
            "/usr/local/lib/python3.7/dist-packages/ipykernel_launcher.py:9: SettingWithCopyWarning: \n",
            "A value is trying to be set on a copy of a slice from a DataFrame\n",
            "\n",
            "See the caveats in the documentation: https://pandas.pydata.org/pandas-docs/stable/user_guide/indexing.html#returning-a-view-versus-a-copy\n",
            "  if __name__ == '__main__':\n",
            "/usr/local/lib/python3.7/dist-packages/ipykernel_launcher.py:15: SettingWithCopyWarning: \n",
            "A value is trying to be set on a copy of a slice from a DataFrame\n",
            "\n",
            "See the caveats in the documentation: https://pandas.pydata.org/pandas-docs/stable/user_guide/indexing.html#returning-a-view-versus-a-copy\n",
            "  from ipykernel import kernelapp as app\n",
            "/usr/local/lib/python3.7/dist-packages/ipykernel_launcher.py:11: SettingWithCopyWarning: \n",
            "A value is trying to be set on a copy of a slice from a DataFrame\n",
            "\n",
            "See the caveats in the documentation: https://pandas.pydata.org/pandas-docs/stable/user_guide/indexing.html#returning-a-view-versus-a-copy\n",
            "  # This is added back by InteractiveShellApp.init_path()\n"
          ]
        }
      ],
      "source": [
        "# chung cư ở bình thường: 0\n",
        "# chung cư tập thể: 1\n",
        "# chung cư mini: 2\n",
        "# studio: 3\n",
        "# other (chung cư cao cấp: officetel, duplex, penhouse): 4\n",
        "print(df['APARTMENT_TYPE'].unique())\n",
        "for i in range(df.shape[0]):\n",
        "    if 'duplex' in str(df['APARTMENT_TYPE'][i]):\n",
        "        df['APARTMENT_TYPE'][i] = 'chung cư cao cấp'\n",
        "    elif 'officetel' in str(df['APARTMENT_TYPE'][i]):\n",
        "        df['APARTMENT_TYPE'][i] = 'chung cư cao cấp'\n",
        "    elif 'studio' in str(df['APARTMENT_TYPE'][i]):\n",
        "        df['APARTMENT_TYPE'][i] = 'chung cư studio'\n",
        "    elif 'penhouse' in str(df['APARTMENT_TYPE'][i]):\n",
        "        df['APARTMENT_TYPE'][i] = 'chung cư cao cấp'\n",
        "    elif 'mini' in str(df['APARTMENT_TYPE'][i]) or 'ccmn' in str(df['APARTMENT_TYPE'][i]):\n",
        "        df['APARTMENT_TYPE'][i] = 'chung cư mini'\n",
        "    elif 'tập_thể' in str(df['APARTMENT_TYPE'][i]) or 'tập thể' in str(df['APARTMENT_TYPE'][i]):\n",
        "        df['APARTMENT_TYPE'][i] = 'chung cư tập thể'\n",
        "    else:\n",
        "        df['APARTMENT_TYPE'][i] = 'chung cư thường'"
      ]
    },
    {
      "cell_type": "code",
      "execution_count": null,
      "id": "6e485679",
      "metadata": {
        "id": "6e485679",
        "scrolled": true
      },
      "outputs": [],
      "source": [
        "def room(df, field, f1, f2, f3):\n",
        "    null_list = list(df[field].isnull())\n",
        "    for i in range(df.shape[0]):\n",
        "        if null_list[i]:\n",
        "            info = str(df.loc[i]['ENTITIES']) + str(df.loc[i]['RAW_DESCRIPTION']) + str(df.loc[i]['PROJECT'])\n",
        "            try:\n",
        "                idx_1 = info.index(f1)\n",
        "                idx_2 = info.index(f2)\n",
        "                idx_3 = info.index(f3)\n",
        "                t1 = re.findall('\\d+', info[idx_1-2:idx_1+length(f1)])[0]\n",
        "                t2 = re.findall('\\d+', info[idx_2-2:idx_2+lenght(f2)])[0]\n",
        "                t3 = re.findall('\\d+', info[idx-3-2:idx_3+length(f3)])[0]\n",
        "                if isinstance(float(t1),float):\n",
        "                    df[field][i] = float(t1)\n",
        "                elif isinstance(float(t2),float):\n",
        "                    df[field][i] = float(t2)\n",
        "                elif isinstance(float(t3),float):\n",
        "                    df[field][i] = float(t3)\n",
        "            except:\n",
        "                df[field][i] = 'no information'\n",
        "room(df, 'LIVING_ROOM', 'phòng khách', 'phòng_khách', 'pk')\n",
        "room(df, 'BATH_ROOM_NUMBER', 'phòng tắm', 'phòng_tắm', 'pt')\n",
        "room(df, 'BEDROOM_NUMBER', 'phòng ngủ', 'phòng_ngủ', 'pn')"
      ]
    },
    {
      "cell_type": "code",
      "execution_count": 369,
      "id": "8a1e63bf",
      "metadata": {
        "colab": {
          "base_uri": "https://localhost:8080/",
          "height": 374
        },
        "id": "8a1e63bf",
        "outputId": "f5d185d6-ee79-4643-c9fc-f7bf36ebbe5e",
        "scrolled": false
      },
      "outputs": [
        {
          "output_type": "execute_result",
          "data": {
            "text/plain": [
              "<matplotlib.axes._subplots.AxesSubplot at 0x7f7e77ea8b90>"
            ]
          },
          "metadata": {},
          "execution_count": 369
        },
        {
          "output_type": "display_data",
          "data": {
            "image/png": "[encoded data removed]",
            "text/plain": [
              "<Figure size 720x432 with 1 Axes>"
            ]
          },
          "metadata": {}
        }
      ],
      "source": [
        "plt.subplots(figsize=(10,6))\n",
        "df['LIVING_ROOM'].value_counts()[:2].plot(kind='pie', autopct='%1.0f%%', pctdistance=1.1, labeldistance=1.2)"
      ]
    },
    {
      "cell_type": "markdown",
      "source": [
        "## drop bedroom if > 10"
      ],
      "metadata": {
        "id": "cI-tLzDd4-9i"
      },
      "id": "cI-tLzDd4-9i"
    },
    {
      "cell_type": "code",
      "execution_count": 370,
      "id": "6343be87",
      "metadata": {
        "colab": {
          "base_uri": "https://localhost:8080/",
          "height": 1000
        },
        "id": "6343be87",
        "outputId": "216ff13a-d36b-45dd-9153-5ba93709cf30",
        "scrolled": false
      },
      "outputs": [
        {
          "output_type": "stream",
          "name": "stdout",
          "text": [
            "2.0               8378\n",
            "1.0               3856\n",
            "3.0               3792\n",
            "4.0                199\n",
            "no information     152\n",
            "301.0               87\n",
            "402.0               73\n",
            "302.0               73\n",
            "401.0               67\n",
            "501.0               33\n",
            "201.0               32\n",
            "5.0                 20\n",
            "202.0               19\n",
            "502.0               17\n",
            "303.0               17\n",
            "6.0                 12\n",
            "403.0               11\n",
            "10.0                 8\n",
            "503.0                8\n",
            "306.0                6\n",
            "203.0                6\n",
            "603.0                6\n",
            "8.0                  5\n",
            "7.0                  4\n",
            "12.0                 3\n",
            "404.0                3\n",
            "601.0                3\n",
            "602.0                3\n",
            "32.0                 2\n",
            "701.0                2\n",
            "23.0                 2\n",
            "20.0                 2\n",
            "17.0                 1\n",
            "703.0                1\n",
            "801.0                1\n",
            "30.0                 1\n",
            "18.0                 1\n",
            "21.0                 1\n",
            "24.0                 1\n",
            "33.0                 1\n",
            "80.0                 1\n",
            "85.0                 1\n",
            "802.0                1\n",
            "504.0                1\n",
            "304.0                1\n",
            "305.0                1\n",
            "926.0                1\n",
            "Name: BEDROOM_NUMBER, dtype: int64\n"
          ]
        },
        {
          "output_type": "display_data",
          "data": {
            "image/png": "[encoded data removed]",
            "text/plain": [
              "<Figure size 720x432 with 1 Axes>"
            ]
          },
          "metadata": {}
        }
      ],
      "source": [
        "print(df['BEDROOM_NUMBER'].value_counts())\n",
        "plt.subplots(figsize=(10,6))\n",
        "df['BEDROOM_NUMBER'].value_counts()[:5].plot(kind='pie')\n",
        "\n",
        "#process outlier \n",
        "for i in range(df.shape[0]):\n",
        "    if df['BEDROOM_NUMBER'][i] != 'no information' and float(df['BEDROOM_NUMBER'][i]) > 10:\n",
        "        df = df.drop(index=i)"
      ]
    },
    {
      "cell_type": "code",
      "execution_count": 371,
      "id": "5b208f75",
      "metadata": {
        "colab": {
          "base_uri": "https://localhost:8080/",
          "height": 622
        },
        "id": "5b208f75",
        "outputId": "db248d15-db74-4945-fba7-0540e94a2d9c",
        "scrolled": false
      },
      "outputs": [
        {
          "output_type": "stream",
          "name": "stdout",
          "text": [
            "no information    5597\n",
            "2.0               5484\n",
            "1.0               5130\n",
            "3.0                182\n",
            "4.0                 14\n",
            "6.0                 11\n",
            "5.0                  8\n",
            "Name: BATH_ROOM_NUMBER, dtype: int64\n"
          ]
        },
        {
          "output_type": "execute_result",
          "data": {
            "text/plain": [
              "<matplotlib.axes._subplots.AxesSubplot at 0x7f7e7c7b7310>"
            ]
          },
          "metadata": {},
          "execution_count": 371
        },
        {
          "output_type": "display_data",
          "data": {
            "image/png": "[encoded data removed]",
            "text/plain": [
              "<Figure size 864x576 with 1 Axes>"
            ]
          },
          "metadata": {}
        }
      ],
      "source": [
        "print(df['BATH_ROOM_NUMBER'].value_counts())\n",
        "plt.subplots(figsize=(12,8))\n",
        "df['BATH_ROOM_NUMBER'].value_counts()[:4].plot(kind='pie', autopct='%1.0f%%', pctdistance=1.1, labeldistance=1.2)"
      ]
    },
    {
      "cell_type": "markdown",
      "id": "2a30c794",
      "metadata": {
        "id": "2a30c794"
      },
      "source": [
        "# Process other outlier\n"
      ]
    },
    {
      "cell_type": "markdown",
      "source": [
        "## visualize missing value processed"
      ],
      "metadata": {
        "id": "HfCPsvwK5IqM"
      },
      "id": "HfCPsvwK5IqM"
    },
    {
      "cell_type": "code",
      "execution_count": 372,
      "id": "e8cdc56a",
      "metadata": {
        "colab": {
          "base_uri": "https://localhost:8080/"
        },
        "id": "e8cdc56a",
        "outputId": "5c14fbcf-e6e7-472e-81ad-7116e811fce3"
      },
      "outputs": [
        {
          "output_type": "execute_result",
          "data": {
            "text/plain": [
              "LOCATION                0.152198\n",
              "PHONE_NUMBER            0.462681\n",
              "AREA                    0.097407\n",
              "PROJECT                23.456715\n",
              "INVESTOR              100.000000\n",
              "FLOOR                  68.890783\n",
              "PRICE                   1.168879\n",
              "RAW_DESCRIPTION         1.388043\n",
              "FORMATTED_LOCATION      3.579691\n",
              "LATITUDE                3.579691\n",
              "LONGITUDE               3.579691\n",
              "dtype: float64"
            ]
          },
          "metadata": {},
          "execution_count": 372
        }
      ],
      "source": [
        "def missing_percent(df):\n",
        "    nan_percent= 100*(df.isnull().sum()/len(df))\n",
        "    nan_percent= nan_percent[nan_percent>0]\n",
        "    return nan_percent\n",
        "\n",
        "nan_percent= missing_percent(df)\n",
        "nan_percent"
      ]
    },
    {
      "cell_type": "code",
      "source": [
        "bar_x = []\n",
        "bar_y = []\n",
        "for x in list(nan_percent.items()):\n",
        "  if x[0] != 'INVESTOR':\n",
        "    bar_x.append(x[0])\n",
        "    bar_y.append(x[1])  "
      ],
      "metadata": {
        "id": "Pmlvt-vBoXcR"
      },
      "id": "Pmlvt-vBoXcR",
      "execution_count": 373,
      "outputs": []
    },
    {
      "cell_type": "code",
      "source": [
        "sns.set(style='whitegrid')\n",
        "facecolor = '#eaeaf2'\n",
        "fig, ax = plt.subplots(figsize=(32, 12), facecolor=facecolor)\n",
        "\n",
        "ax = sns.barplot(x=bar_x, y = bar_y)\n",
        "for p in ax.patches:\n",
        "    width = p.get_width()\n",
        "    height = p.get_height()\n",
        "    x, y = p.get_xy() \n",
        "    ax.annotate(f'{height:.2f}%', (x + width/2, y + height*1.02), ha='center')"
      ],
      "metadata": {
        "colab": {
          "base_uri": "https://localhost:8080/",
          "height": 452
        },
        "id": "IJm6HhpCnGqn",
        "outputId": "f2950b72-77c5-40d8-fa99-7f683da5fcd1"
      },
      "id": "IJm6HhpCnGqn",
      "execution_count": 374,
      "outputs": [
        {
          "output_type": "display_data",
          "data": {
            "image/png": "[encoded data removed]",
            "text/plain": [
              "<Figure size 2304x864 with 1 Axes>"
            ]
          },
          "metadata": {}
        }
      ]
    },
    {
      "cell_type": "markdown",
      "source": [
        "## drop useless columns"
      ],
      "metadata": {
        "id": "5_LzXqt15QSM"
      },
      "id": "5_LzXqt15QSM"
    },
    {
      "cell_type": "code",
      "execution_count": 375,
      "id": "c0sQC_tu3IE0",
      "metadata": {
        "id": "c0sQC_tu3IE0"
      },
      "outputs": [],
      "source": [
        "df = df.drop(columns = ['PHONE_NUMBER', 'PROJECT', 'INVESTOR', 'FLOOR', 'RAW_DESCRIPTION'])"
      ]
    },
    {
      "cell_type": "markdown",
      "source": [
        "## price outlier"
      ],
      "metadata": {
        "id": "t5pYASf35Vyh"
      },
      "id": "t5pYASf35Vyh"
    },
    {
      "cell_type": "code",
      "execution_count": 376,
      "id": "48949944",
      "metadata": {
        "colab": {
          "base_uri": "https://localhost:8080/",
          "height": 841
        },
        "id": "48949944",
        "outputId": "9c283650-4493-4cad-acdf-fa1fe19c61e1"
      },
      "outputs": [
        {
          "output_type": "stream",
          "name": "stdout",
          "text": [
            "Unnamed: 0\n",
            "8463     805194.333333\n",
            "15150       890.000000\n",
            "1512        870.000000\n",
            "900         860.000000\n",
            "3987        800.000000\n",
            "             ...      \n",
            "10387              NaN\n",
            "10393              NaN\n",
            "10402              NaN\n",
            "10410              NaN\n",
            "10419              NaN\n",
            "Name: PRICE, Length: 16426, dtype: float64\n"
          ]
        },
        {
          "output_type": "execute_result",
          "data": {
            "text/plain": [
              "[(0.0, 30.0)]"
            ]
          },
          "metadata": {},
          "execution_count": 376
        },
        {
          "output_type": "display_data",
          "data": {
            "image/png": "[encoded data removed]",
            "text/plain": [
              "<Figure size 1080x720 with 1 Axes>"
            ]
          },
          "metadata": {}
        }
      ],
      "source": [
        "sns.set(style='whitegrid')\n",
        "facecolor = '#eaeaf2'\n",
        "fig, ax = plt.subplots(figsize=(15, 10), facecolor=facecolor)\n",
        "\n",
        "print(df['PRICE'].sort_values(ascending=False))\n",
        "\n",
        "ax = sns.boxplot(data=df['PRICE'], \n",
        "                 palette='Set3', \n",
        "                 linewidth=1.2, \n",
        "                 fliersize=2, \n",
        "                 showmeans=True,\n",
        "                 flierprops=dict(marker='o', markersize=4))\n",
        "ax.set(ylim=(0, 30))"
      ]
    },
    {
      "cell_type": "code",
      "source": [
        "df = df.loc[df['PRICE'] == df['PRICE']]\n",
        "df = df.loc[df['PRICE'] < 30]"
      ],
      "metadata": {
        "id": "luf5AR3UxVJD"
      },
      "id": "luf5AR3UxVJD",
      "execution_count": 377,
      "outputs": []
    },
    {
      "cell_type": "markdown",
      "source": [
        "## area outlier"
      ],
      "metadata": {
        "id": "JeBoPCHq5Zid"
      },
      "id": "JeBoPCHq5Zid"
    },
    {
      "cell_type": "code",
      "execution_count": 378,
      "id": "d5332a8e",
      "metadata": {
        "colab": {
          "base_uri": "https://localhost:8080/",
          "height": 615
        },
        "id": "d5332a8e",
        "outputId": "f388859a-d57d-442e-ff00-b998e8ebf4f3"
      },
      "outputs": [
        {
          "output_type": "execute_result",
          "data": {
            "text/plain": [
              "[(0.0, 200.0)]"
            ]
          },
          "metadata": {},
          "execution_count": 378
        },
        {
          "output_type": "display_data",
          "data": {
            "image/png": "[encoded data removed]",
            "text/plain": [
              "<Figure size 1080x720 with 1 Axes>"
            ]
          },
          "metadata": {}
        }
      ],
      "source": [
        "sns.set(style='whitegrid')\n",
        "facecolor = '#eaeaf2'\n",
        "fig, ax = plt.subplots(figsize=(15, 10), facecolor=facecolor)\n",
        "\n",
        "ax = sns.boxplot(data=df['AREA'], \n",
        "                 palette='Set3', \n",
        "                 linewidth=1.2, \n",
        "                 fliersize=2, \n",
        "                 showmeans=True,\n",
        "                 flierprops=dict(marker='o', markersize=4))\n",
        "ax.set(ylim=(0, 200))"
      ]
    },
    {
      "cell_type": "code",
      "source": [
        "df = df.loc[df['AREA'] == df['AREA']]\n",
        "df = df.loc[df['AREA'] < 200]"
      ],
      "metadata": {
        "id": "uFXgWN-vxlEZ"
      },
      "id": "uFXgWN-vxlEZ",
      "execution_count": 379,
      "outputs": []
    },
    {
      "cell_type": "markdown",
      "source": [
        "## correlation and describe"
      ],
      "metadata": {
        "id": "CzQe3-Pk5d1x"
      },
      "id": "CzQe3-Pk5d1x"
    },
    {
      "cell_type": "code",
      "source": [
        "df_float = df.loc[df['BEDROOM_NUMBER'] != 'no information']\n",
        "df_float = df_float.loc[df_float['LIVING_ROOM'] != 'no information']\n",
        "df_float = df_float.loc[df_float['BATH_ROOM_NUMBER'] != 'no information']\n",
        "df_float['BEDROOM_NUMBER'] = df_float['BEDROOM_NUMBER'].astype(\"float\")\n",
        "df_float['LIVING_ROOM'] = df_float['LIVING_ROOM'].astype(\"float\")\n",
        "df_float['BATH_ROOM_NUMBER'] = df_float['BATH_ROOM_NUMBER'].astype(\"float\")"
      ],
      "metadata": {
        "id": "P50EhSkluA_y"
      },
      "id": "P50EhSkluA_y",
      "execution_count": 380,
      "outputs": []
    },
    {
      "cell_type": "code",
      "execution_count": 381,
      "id": "8764a579",
      "metadata": {
        "id": "8764a579"
      },
      "outputs": [],
      "source": [
        "non_num_cols = [col for col in df_float.columns if df_float[col].dtype == 'O']\n",
        "non_num_data = df_float[non_num_cols]"
      ]
    },
    {
      "cell_type": "code",
      "execution_count": 382,
      "id": "fe6f3f6e",
      "metadata": {
        "colab": {
          "base_uri": "https://localhost:8080/"
        },
        "id": "fe6f3f6e",
        "outputId": "b8f88429-d3a8-453e-c62e-41612cf4bf41"
      },
      "outputs": [
        {
          "output_type": "execute_result",
          "data": {
            "text/plain": [
              "['LIVING_ROOM',\n",
              " 'PRICE',\n",
              " 'LATITUDE',\n",
              " 'AREA',\n",
              " 'LONGITUDE',\n",
              " 'BATH_ROOM_NUMBER',\n",
              " 'BEDROOM_NUMBER']"
            ]
          },
          "metadata": {},
          "execution_count": 382
        }
      ],
      "source": [
        "num_cols = list(set(df_float.columns) - set(non_num_cols))\n",
        "num_cols"
      ]
    },
    {
      "cell_type": "code",
      "execution_count": 383,
      "id": "a2384619",
      "metadata": {
        "colab": {
          "base_uri": "https://localhost:8080/",
          "height": 300
        },
        "id": "a2384619",
        "outputId": "b536c86a-88f4-40d4-9573-3351ffed12e6",
        "scrolled": true
      },
      "outputs": [
        {
          "output_type": "execute_result",
          "data": {
            "text/html": [
              "\n",
              "  <div id=\"df-8bb176ba-0ea2-4f5e-b55f-7399253113b8\">\n",
              "    <div class=\"colab-df-container\">\n",
              "      <div>\n",
              "<style scoped>\n",
              "    .dataframe tbody tr th:only-of-type {\n",
              "        vertical-align: middle;\n",
              "    }\n",
              "\n",
              "    .dataframe tbody tr th {\n",
              "        vertical-align: top;\n",
              "    }\n",
              "\n",
              "    .dataframe thead th {\n",
              "        text-align: right;\n",
              "    }\n",
              "</style>\n",
              "<table border=\"1\" class=\"dataframe\">\n",
              "  <thead>\n",
              "    <tr style=\"text-align: right;\">\n",
              "      <th></th>\n",
              "      <th>LIVING_ROOM</th>\n",
              "      <th>PRICE</th>\n",
              "      <th>LATITUDE</th>\n",
              "      <th>AREA</th>\n",
              "      <th>LONGITUDE</th>\n",
              "      <th>BATH_ROOM_NUMBER</th>\n",
              "      <th>BEDROOM_NUMBER</th>\n",
              "    </tr>\n",
              "  </thead>\n",
              "  <tbody>\n",
              "    <tr>\n",
              "      <th>count</th>\n",
              "      <td>3174.000000</td>\n",
              "      <td>3174.000000</td>\n",
              "      <td>3095.000000</td>\n",
              "      <td>3174.000000</td>\n",
              "      <td>3095.000000</td>\n",
              "      <td>3174.000000</td>\n",
              "      <td>3174.000000</td>\n",
              "    </tr>\n",
              "    <tr>\n",
              "      <th>mean</th>\n",
              "      <td>1.000315</td>\n",
              "      <td>9.602515</td>\n",
              "      <td>21.006269</td>\n",
              "      <td>79.403388</td>\n",
              "      <td>105.808910</td>\n",
              "      <td>1.548519</td>\n",
              "      <td>2.130750</td>\n",
              "    </tr>\n",
              "    <tr>\n",
              "      <th>std</th>\n",
              "      <td>0.017750</td>\n",
              "      <td>3.759148</td>\n",
              "      <td>0.366465</td>\n",
              "      <td>26.923100</td>\n",
              "      <td>0.045428</td>\n",
              "      <td>0.524841</td>\n",
              "      <td>0.666789</td>\n",
              "    </tr>\n",
              "    <tr>\n",
              "      <th>min</th>\n",
              "      <td>1.000000</td>\n",
              "      <td>0.625000</td>\n",
              "      <td>10.774781</td>\n",
              "      <td>1.102000</td>\n",
              "      <td>105.691437</td>\n",
              "      <td>1.000000</td>\n",
              "      <td>1.000000</td>\n",
              "    </tr>\n",
              "    <tr>\n",
              "      <th>25%</th>\n",
              "      <td>1.000000</td>\n",
              "      <td>7.000000</td>\n",
              "      <td>21.003230</td>\n",
              "      <td>60.000000</td>\n",
              "      <td>105.786322</td>\n",
              "      <td>1.000000</td>\n",
              "      <td>2.000000</td>\n",
              "    </tr>\n",
              "    <tr>\n",
              "      <th>50%</th>\n",
              "      <td>1.000000</td>\n",
              "      <td>9.000000</td>\n",
              "      <td>21.018138</td>\n",
              "      <td>76.000000</td>\n",
              "      <td>105.803384</td>\n",
              "      <td>2.000000</td>\n",
              "      <td>2.000000</td>\n",
              "    </tr>\n",
              "    <tr>\n",
              "      <th>75%</th>\n",
              "      <td>1.000000</td>\n",
              "      <td>12.000000</td>\n",
              "      <td>21.033369</td>\n",
              "      <td>95.000000</td>\n",
              "      <td>105.822165</td>\n",
              "      <td>2.000000</td>\n",
              "      <td>3.000000</td>\n",
              "    </tr>\n",
              "    <tr>\n",
              "      <th>max</th>\n",
              "      <td>2.000000</td>\n",
              "      <td>29.000000</td>\n",
              "      <td>21.203269</td>\n",
              "      <td>181.000000</td>\n",
              "      <td>106.729798</td>\n",
              "      <td>4.000000</td>\n",
              "      <td>6.000000</td>\n",
              "    </tr>\n",
              "  </tbody>\n",
              "</table>\n",
              "</div>\n",
              "      <button class=\"colab-df-convert\" onclick=\"convertToInteractive('df-8bb176ba-0ea2-4f5e-b55f-7399253113b8')\"\n",
              "              title=\"Convert this dataframe to an interactive table.\"\n",
              "              style=\"display:none;\">\n",
              "        \n",
              "  <svg xmlns=\"http://www.w3.org/2000/svg\" height=\"24px\"viewBox=\"0 0 24 24\"\n",
              "       width=\"24px\">\n",
              "    <path d=\"M0 0h24v24H0V0z\" fill=\"none\"/>\n",
              "    <path d=\"M18.56 5.44l.94 2.06.94-2.06 2.06-.94-2.06-.94-.94-2.06-.94 2.06-2.06.94zm-11 1L8.5 8.5l.94-2.06 2.06-.94-2.06-.94L8.5 2.5l-.94 2.06-2.06.94zm10 10l.94 2.06.94-2.06 2.06-.94-2.06-.94-.94-2.06-.94 2.06-2.06.94z\"/><path d=\"M17.41 7.96l-1.37-1.37c-.4-.4-.92-.59-1.43-.59-.52 0-1.04.2-1.43.59L10.3 9.45l-7.72 7.72c-.78.78-.78 2.05 0 2.83L4 21.41c.39.39.9.59 1.41.59.51 0 1.02-.2 1.41-.59l7.78-7.78 2.81-2.81c.8-.78.8-2.07 0-2.86zM5.41 20L4 18.59l7.72-7.72 1.47 1.35L5.41 20z\"/>\n",
              "  </svg>\n",
              "      </button>\n",
              "      \n",
              "  <style>\n",
              "    .colab-df-container {\n",
              "      display:flex;\n",
              "      flex-wrap:wrap;\n",
              "      gap: 12px;\n",
              "    }\n",
              "\n",
              "    .colab-df-convert {\n",
              "      background-color: #E8F0FE;\n",
              "      border: none;\n",
              "      border-radius: 50%;\n",
              "      cursor: pointer;\n",
              "      display: none;\n",
              "      fill: #1967D2;\n",
              "      height: 32px;\n",
              "      padding: 0 0 0 0;\n",
              "      width: 32px;\n",
              "    }\n",
              "\n",
              "    .colab-df-convert:hover {\n",
              "      background-color: #E2EBFA;\n",
              "      box-shadow: 0px 1px 2px rgba(60, 64, 67, 0.3), 0px 1px 3px 1px rgba(60, 64, 67, 0.15);\n",
              "      fill: #174EA6;\n",
              "    }\n",
              "\n",
              "    [theme=dark] .colab-df-convert {\n",
              "      background-color: #3B4455;\n",
              "      fill: #D2E3FC;\n",
              "    }\n",
              "\n",
              "    [theme=dark] .colab-df-convert:hover {\n",
              "      background-color: #434B5C;\n",
              "      box-shadow: 0px 1px 3px 1px rgba(0, 0, 0, 0.15);\n",
              "      filter: drop-shadow(0px 1px 2px rgba(0, 0, 0, 0.3));\n",
              "      fill: #FFFFFF;\n",
              "    }\n",
              "  </style>\n",
              "\n",
              "      <script>\n",
              "        const buttonEl =\n",
              "          document.querySelector('#df-8bb176ba-0ea2-4f5e-b55f-7399253113b8 button.colab-df-convert');\n",
              "        buttonEl.style.display =\n",
              "          google.colab.kernel.accessAllowed ? 'block' : 'none';\n",
              "\n",
              "        async function convertToInteractive(key) {\n",
              "          const element = document.querySelector('#df-8bb176ba-0ea2-4f5e-b55f-7399253113b8');\n",
              "          const dataTable =\n",
              "            await google.colab.kernel.invokeFunction('convertToInteractive',\n",
              "                                                     [key], {});\n",
              "          if (!dataTable) return;\n",
              "\n",
              "          const docLinkHtml = 'Like what you see? Visit the ' +\n",
              "            '<a target=\"_blank\" href=https://colab.research.google.com/notebooks/data_table.ipynb>data table notebook</a>'\n",
              "            + ' to learn more about interactive tables.';\n",
              "          element.innerHTML = '';\n",
              "          dataTable['output_type'] = 'display_data';\n",
              "          await google.colab.output.renderOutput(dataTable, element);\n",
              "          const docLink = document.createElement('div');\n",
              "          docLink.innerHTML = docLinkHtml;\n",
              "          element.appendChild(docLink);\n",
              "        }\n",
              "      </script>\n",
              "    </div>\n",
              "  </div>\n",
              "  "
            ],
            "text/plain": [
              "       LIVING_ROOM        PRICE  ...  BATH_ROOM_NUMBER  BEDROOM_NUMBER\n",
              "count  3174.000000  3174.000000  ...       3174.000000     3174.000000\n",
              "mean      1.000315     9.602515  ...          1.548519        2.130750\n",
              "std       0.017750     3.759148  ...          0.524841        0.666789\n",
              "min       1.000000     0.625000  ...          1.000000        1.000000\n",
              "25%       1.000000     7.000000  ...          1.000000        2.000000\n",
              "50%       1.000000     9.000000  ...          2.000000        2.000000\n",
              "75%       1.000000    12.000000  ...          2.000000        3.000000\n",
              "max       2.000000    29.000000  ...          4.000000        6.000000\n",
              "\n",
              "[8 rows x 7 columns]"
            ]
          },
          "metadata": {},
          "execution_count": 383
        }
      ],
      "source": [
        "df_num = df_float[num_cols]\n",
        "df_num.describe()"
      ]
    },
    {
      "cell_type": "code",
      "execution_count": 384,
      "id": "282ad433",
      "metadata": {
        "colab": {
          "base_uri": "https://localhost:8080/",
          "height": 269
        },
        "id": "282ad433",
        "outputId": "9bd88bc5-629d-4c7a-d893-7f83e1a8cb32"
      },
      "outputs": [
        {
          "output_type": "execute_result",
          "data": {
            "text/html": [
              "\n",
              "  <div id=\"df-83982da8-a71b-4cf1-8896-da0b0529d6b2\">\n",
              "    <div class=\"colab-df-container\">\n",
              "      <div>\n",
              "<style scoped>\n",
              "    .dataframe tbody tr th:only-of-type {\n",
              "        vertical-align: middle;\n",
              "    }\n",
              "\n",
              "    .dataframe tbody tr th {\n",
              "        vertical-align: top;\n",
              "    }\n",
              "\n",
              "    .dataframe thead th {\n",
              "        text-align: right;\n",
              "    }\n",
              "</style>\n",
              "<table border=\"1\" class=\"dataframe\">\n",
              "  <thead>\n",
              "    <tr style=\"text-align: right;\">\n",
              "      <th></th>\n",
              "      <th>LIVING_ROOM</th>\n",
              "      <th>PRICE</th>\n",
              "      <th>LATITUDE</th>\n",
              "      <th>AREA</th>\n",
              "      <th>LONGITUDE</th>\n",
              "      <th>BATH_ROOM_NUMBER</th>\n",
              "      <th>BEDROOM_NUMBER</th>\n",
              "    </tr>\n",
              "  </thead>\n",
              "  <tbody>\n",
              "    <tr>\n",
              "      <th>LIVING_ROOM</th>\n",
              "      <td>1.000000</td>\n",
              "      <td>-0.019377</td>\n",
              "      <td>0.000022</td>\n",
              "      <td>-0.019391</td>\n",
              "      <td>0.004605</td>\n",
              "      <td>-0.018557</td>\n",
              "      <td>-0.003482</td>\n",
              "    </tr>\n",
              "    <tr>\n",
              "      <th>PRICE</th>\n",
              "      <td>-0.019377</td>\n",
              "      <td>1.000000</td>\n",
              "      <td>0.035056</td>\n",
              "      <td>0.627970</td>\n",
              "      <td>-0.068831</td>\n",
              "      <td>0.383970</td>\n",
              "      <td>0.459825</td>\n",
              "    </tr>\n",
              "    <tr>\n",
              "      <th>LATITUDE</th>\n",
              "      <td>0.000022</td>\n",
              "      <td>0.035056</td>\n",
              "      <td>1.000000</td>\n",
              "      <td>0.038147</td>\n",
              "      <td>-0.712878</td>\n",
              "      <td>0.020334</td>\n",
              "      <td>0.004727</td>\n",
              "    </tr>\n",
              "    <tr>\n",
              "      <th>AREA</th>\n",
              "      <td>-0.019391</td>\n",
              "      <td>0.627970</td>\n",
              "      <td>0.038147</td>\n",
              "      <td>1.000000</td>\n",
              "      <td>-0.151483</td>\n",
              "      <td>0.534708</td>\n",
              "      <td>0.759920</td>\n",
              "    </tr>\n",
              "    <tr>\n",
              "      <th>LONGITUDE</th>\n",
              "      <td>0.004605</td>\n",
              "      <td>-0.068831</td>\n",
              "      <td>-0.712878</td>\n",
              "      <td>-0.151483</td>\n",
              "      <td>1.000000</td>\n",
              "      <td>-0.121887</td>\n",
              "      <td>-0.100896</td>\n",
              "    </tr>\n",
              "    <tr>\n",
              "      <th>BATH_ROOM_NUMBER</th>\n",
              "      <td>-0.018557</td>\n",
              "      <td>0.383970</td>\n",
              "      <td>0.020334</td>\n",
              "      <td>0.534708</td>\n",
              "      <td>-0.121887</td>\n",
              "      <td>1.000000</td>\n",
              "      <td>0.488433</td>\n",
              "    </tr>\n",
              "    <tr>\n",
              "      <th>BEDROOM_NUMBER</th>\n",
              "      <td>-0.003482</td>\n",
              "      <td>0.459825</td>\n",
              "      <td>0.004727</td>\n",
              "      <td>0.759920</td>\n",
              "      <td>-0.100896</td>\n",
              "      <td>0.488433</td>\n",
              "      <td>1.000000</td>\n",
              "    </tr>\n",
              "  </tbody>\n",
              "</table>\n",
              "</div>\n",
              "      <button class=\"colab-df-convert\" onclick=\"convertToInteractive('df-83982da8-a71b-4cf1-8896-da0b0529d6b2')\"\n",
              "              title=\"Convert this dataframe to an interactive table.\"\n",
              "              style=\"display:none;\">\n",
              "        \n",
              "  <svg xmlns=\"http://www.w3.org/2000/svg\" height=\"24px\"viewBox=\"0 0 24 24\"\n",
              "       width=\"24px\">\n",
              "    <path d=\"M0 0h24v24H0V0z\" fill=\"none\"/>\n",
              "    <path d=\"M18.56 5.44l.94 2.06.94-2.06 2.06-.94-2.06-.94-.94-2.06-.94 2.06-2.06.94zm-11 1L8.5 8.5l.94-2.06 2.06-.94-2.06-.94L8.5 2.5l-.94 2.06-2.06.94zm10 10l.94 2.06.94-2.06 2.06-.94-2.06-.94-.94-2.06-.94 2.06-2.06.94z\"/><path d=\"M17.41 7.96l-1.37-1.37c-.4-.4-.92-.59-1.43-.59-.52 0-1.04.2-1.43.59L10.3 9.45l-7.72 7.72c-.78.78-.78 2.05 0 2.83L4 21.41c.39.39.9.59 1.41.59.51 0 1.02-.2 1.41-.59l7.78-7.78 2.81-2.81c.8-.78.8-2.07 0-2.86zM5.41 20L4 18.59l7.72-7.72 1.47 1.35L5.41 20z\"/>\n",
              "  </svg>\n",
              "      </button>\n",
              "      \n",
              "  <style>\n",
              "    .colab-df-container {\n",
              "      display:flex;\n",
              "      flex-wrap:wrap;\n",
              "      gap: 12px;\n",
              "    }\n",
              "\n",
              "    .colab-df-convert {\n",
              "      background-color: #E8F0FE;\n",
              "      border: none;\n",
              "      border-radius: 50%;\n",
              "      cursor: pointer;\n",
              "      display: none;\n",
              "      fill: #1967D2;\n",
              "      height: 32px;\n",
              "      padding: 0 0 0 0;\n",
              "      width: 32px;\n",
              "    }\n",
              "\n",
              "    .colab-df-convert:hover {\n",
              "      background-color: #E2EBFA;\n",
              "      box-shadow: 0px 1px 2px rgba(60, 64, 67, 0.3), 0px 1px 3px 1px rgba(60, 64, 67, 0.15);\n",
              "      fill: #174EA6;\n",
              "    }\n",
              "\n",
              "    [theme=dark] .colab-df-convert {\n",
              "      background-color: #3B4455;\n",
              "      fill: #D2E3FC;\n",
              "    }\n",
              "\n",
              "    [theme=dark] .colab-df-convert:hover {\n",
              "      background-color: #434B5C;\n",
              "      box-shadow: 0px 1px 3px 1px rgba(0, 0, 0, 0.15);\n",
              "      filter: drop-shadow(0px 1px 2px rgba(0, 0, 0, 0.3));\n",
              "      fill: #FFFFFF;\n",
              "    }\n",
              "  </style>\n",
              "\n",
              "      <script>\n",
              "        const buttonEl =\n",
              "          document.querySelector('#df-83982da8-a71b-4cf1-8896-da0b0529d6b2 button.colab-df-convert');\n",
              "        buttonEl.style.display =\n",
              "          google.colab.kernel.accessAllowed ? 'block' : 'none';\n",
              "\n",
              "        async function convertToInteractive(key) {\n",
              "          const element = document.querySelector('#df-83982da8-a71b-4cf1-8896-da0b0529d6b2');\n",
              "          const dataTable =\n",
              "            await google.colab.kernel.invokeFunction('convertToInteractive',\n",
              "                                                     [key], {});\n",
              "          if (!dataTable) return;\n",
              "\n",
              "          const docLinkHtml = 'Like what you see? Visit the ' +\n",
              "            '<a target=\"_blank\" href=https://colab.research.google.com/notebooks/data_table.ipynb>data table notebook</a>'\n",
              "            + ' to learn more about interactive tables.';\n",
              "          element.innerHTML = '';\n",
              "          dataTable['output_type'] = 'display_data';\n",
              "          await google.colab.output.renderOutput(dataTable, element);\n",
              "          const docLink = document.createElement('div');\n",
              "          docLink.innerHTML = docLinkHtml;\n",
              "          element.appendChild(docLink);\n",
              "        }\n",
              "      </script>\n",
              "    </div>\n",
              "  </div>\n",
              "  "
            ],
            "text/plain": [
              "                  LIVING_ROOM     PRICE  ...  BATH_ROOM_NUMBER  BEDROOM_NUMBER\n",
              "LIVING_ROOM          1.000000 -0.019377  ...         -0.018557       -0.003482\n",
              "PRICE               -0.019377  1.000000  ...          0.383970        0.459825\n",
              "LATITUDE             0.000022  0.035056  ...          0.020334        0.004727\n",
              "AREA                -0.019391  0.627970  ...          0.534708        0.759920\n",
              "LONGITUDE            0.004605 -0.068831  ...         -0.121887       -0.100896\n",
              "BATH_ROOM_NUMBER    -0.018557  0.383970  ...          1.000000        0.488433\n",
              "BEDROOM_NUMBER      -0.003482  0.459825  ...          0.488433        1.000000\n",
              "\n",
              "[7 rows x 7 columns]"
            ]
          },
          "metadata": {},
          "execution_count": 384
        }
      ],
      "source": [
        "df_num.corr()"
      ]
    },
    {
      "cell_type": "markdown",
      "source": [
        "## visualize"
      ],
      "metadata": {
        "id": "R5bdbn7e5mAB"
      },
      "id": "R5bdbn7e5mAB"
    },
    {
      "cell_type": "code",
      "execution_count": 385,
      "id": "a9ce8dc9",
      "metadata": {
        "colab": {
          "base_uri": "https://localhost:8080/",
          "height": 711
        },
        "id": "a9ce8dc9",
        "outputId": "e7dea7a2-9c59-4fd4-8fbc-ebf098b3a0b8"
      },
      "outputs": [
        {
          "output_type": "display_data",
          "data": {
            "image/png": "[encoded data removed]",
            "text/plain": [
              "<Figure size 1008x720 with 2 Axes>"
            ]
          },
          "metadata": {}
        }
      ],
      "source": [
        "plt.figure(figsize = (14,10))\n",
        "g = sns.heatmap(df_num.corr(), cmap = 'BrBG', annot = True)"
      ]
    },
    {
      "cell_type": "code",
      "execution_count": 386,
      "id": "5369985c",
      "metadata": {
        "colab": {
          "base_uri": "https://localhost:8080/",
          "height": 645
        },
        "id": "5369985c",
        "outputId": "3718330d-f701-4da7-995a-503b236fd558"
      },
      "outputs": [
        {
          "output_type": "stream",
          "name": "stdout",
          "text": [
            "Giá căn hộ môi giới trung bình:  11.135124704491727\n",
            "Giá căn hộ cá nhân trung bình:  9.403497152156225\n"
          ]
        },
        {
          "output_type": "display_data",
          "data": {
            "image/png": "[encoded data removed]",
            "text/plain": [
              "<Figure size 1080x720 with 1 Axes>"
            ]
          },
          "metadata": {}
        }
      ],
      "source": [
        "moi_gioi = df.loc[df['NEWS_TYPE'] == 'môi giới']\n",
        "ca_nhan = df.loc[df['NEWS_TYPE'] == 'cá nhân']\n",
        "print('Giá căn hộ môi giới trung bình: ', moi_gioi['PRICE'].mean())\n",
        "print('Giá căn hộ cá nhân trung bình: ', ca_nhan['PRICE'].mean())\n",
        "\n",
        "sns.set(style='whitegrid')\n",
        "facecolor = '#eaeaf2'\n",
        "fig, ax = plt.subplots(figsize=(15, 10), facecolor=facecolor)\n",
        "plt.title('Giá căn hộ môi giới và cá nhân')\n",
        "ax = sns.boxplot(data=[moi_gioi['PRICE'], ca_nhan['PRICE']], \n",
        "                 palette='Set3', \n",
        "                 linewidth=1.2, \n",
        "                 fliersize=2, \n",
        "                 order=None,\n",
        "                 showmeans=True,\n",
        "                 flierprops=dict(marker='o', markersize=4))"
      ]
    },
    {
      "cell_type": "code",
      "execution_count": 387,
      "id": "1586a8df",
      "metadata": {
        "colab": {
          "base_uri": "https://localhost:8080/",
          "height": 238
        },
        "id": "1586a8df",
        "outputId": "834f2a2c-408d-4de5-db9c-66faf31a75de"
      },
      "outputs": [
        {
          "output_type": "display_data",
          "data": {
            "image/png": "[encoded data removed]",
            "text/plain": [
              "<Figure size 864x1440 with 21 Axes>"
            ]
          },
          "metadata": {}
        }
      ],
      "source": [
        "df[['AREA', 'PRICE']].hist(layout = (7,3), figsize = (12, 20))\n",
        "plt.tight_layout()"
      ]
    },
    {
      "cell_type": "code",
      "execution_count": 399,
      "id": "3dca6461",
      "metadata": {
        "colab": {
          "base_uri": "https://localhost:8080/",
          "height": 523
        },
        "id": "3dca6461",
        "outputId": "5278316b-9f55-4ba4-a28c-bfc868954c8e",
        "scrolled": false
      },
      "outputs": [
        {
          "output_type": "execute_result",
          "data": {
            "text/plain": [
              "[(105.4, 106.4)]"
            ]
          },
          "metadata": {},
          "execution_count": 399
        },
        {
          "output_type": "display_data",
          "data": {
            "image/png": "[encoded data removed]",
            "text/plain": [
              "<Figure size 864x576 with 1 Axes>"
            ]
          },
          "metadata": {}
        }
      ],
      "source": [
        "sns.set(style='whitegrid')\n",
        "facecolor = '#eaeaf2'\n",
        "fig, ax = plt.subplots(figsize=(12, 8), facecolor=facecolor)\n",
        "\n",
        "ax = sns.scatterplot(x=df['LATITUDE'], y=df['LONGITUDE'], hue=df['PRICE'], palette='winter')\n",
        "ax.set(xlim=(20.8,21.3))\n",
        "ax.set(ylim=(105.4,106.4))"
      ]
    },
    {
      "cell_type": "code",
      "execution_count": 400,
      "id": "bf8022e8",
      "metadata": {
        "colab": {
          "base_uri": "https://localhost:8080/",
          "height": 383
        },
        "id": "bf8022e8",
        "outputId": "1a1968a2-0489-4f0a-9b12-1519cf146d5e"
      },
      "outputs": [
        {
          "output_type": "display_data",
          "data": {
            "image/png": "[encoded data removed]",
            "text/plain": [
              "<Figure size 1440x432 with 1 Axes>"
            ]
          },
          "metadata": {}
        }
      ],
      "source": [
        "#histogram\n",
        "# KDE plot\n",
        "fig, ax = plt.subplots(figsize = (20,6))\n",
        "ax = sns.kdeplot(data=df['AREA'], shade=True, clip=(min(df['AREA']), max(df['AREA'])))"
      ]
    },
    {
      "cell_type": "code",
      "execution_count": 401,
      "id": "sI9FqGzi4yih",
      "metadata": {
        "colab": {
          "base_uri": "https://localhost:8080/",
          "height": 386
        },
        "id": "sI9FqGzi4yih",
        "outputId": "96cf2922-f934-4c57-b140-d2980faf00ee"
      },
      "outputs": [
        {
          "output_type": "display_data",
          "data": {
            "image/png": "[encoded data removed]",
            "text/plain": [
              "<Figure size 1440x432 with 1 Axes>"
            ]
          },
          "metadata": {}
        }
      ],
      "source": [
        "#histogram\n",
        "# KDE plot\n",
        "fig, ax = plt.subplots(figsize = (20,6))\n",
        "ax = sns.kdeplot(data=df['PRICE'], shade=True, clip=(min(df['PRICE']), max(df['PRICE'])))"
      ]
    },
    {
      "cell_type": "code",
      "execution_count": null,
      "id": "sGaSQrKg42-C",
      "metadata": {
        "id": "sGaSQrKg42-C"
      },
      "outputs": [],
      "source": [
        "df.to_csv('processed.csv')"
      ]
    }
  ],
  "metadata": {
    "colab": {
      "machine_shape": "hm",
      "name": "KHDL_visualize.ipynb",
      "provenance": [],
      "toc_visible": true
    },
    "kernelspec": {
      "display_name": "Python 3",
      "language": "python",
      "name": "python3"
    },
    "language_info": {
      "codemirror_mode": {
        "name": "ipython",
        "version": 3
      },
      "file_extension": ".py",
      "mimetype": "text/x-python",
      "name": "python",
      "nbconvert_exporter": "python",
      "pygments_lexer": "ipython3",
      "version": "3.8.8"
    }
  },
  "nbformat": 4,
  "nbformat_minor": 5
}