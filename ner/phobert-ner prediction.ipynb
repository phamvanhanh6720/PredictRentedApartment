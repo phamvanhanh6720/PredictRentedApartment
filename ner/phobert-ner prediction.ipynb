{
 "cells": [
  {
   "cell_type": "code",
   "execution_count": 1,
   "outputs": [],
   "source": [
    "from ner.utils.ner import extract_entities\n",
    "from ner.utils.process_data import normalize_text"
   ],
   "metadata": {
    "collapsed": false,
    "pycharm": {
     "name": "#%%\n"
    }
   }
  },
  {
   "cell_type": "code",
   "execution_count": 2,
   "id": "5982c959",
   "metadata": {},
   "outputs": [],
   "source": [
    "from vncorenlp import VnCoreNLP\n",
    "annotator = VnCoreNLP(address=\"http://127.0.0.1\", port=9000)"
   ]
  },
  {
   "cell_type": "code",
   "execution_count": 5,
   "id": "4b5fe079",
   "metadata": {},
   "outputs": [
    {
     "name": "stderr",
     "output_type": "stream",
     "text": [
      "Special tokens have been added in the vocabulary, make sure the associated word embeddings are fine-tuned or trained.\n"
     ]
    }
   ],
   "source": [
    "import torch\n",
    "import numpy as np\n",
    "from transformers import AutoModel, AutoTokenizer, AutoModelForTokenClassification\n",
    "\n",
    "# load phobert-ner đã được fine-tuned\n",
    "phobert_ner = AutoModelForTokenClassification.from_pretrained(\"/home/phamvanhanh/PycharmProjects/DataScience_Project/PredictRentedApartment/ner/checkpoint-2750\")\n",
    "# load tokenizer của phobert \n",
    "tokenizer = AutoTokenizer.from_pretrained(\"vinai/phobert-base\", use_fast=False)"
   ]
  },
  {
   "cell_type": "code",
   "execution_count": 6,
   "outputs": [],
   "source": [
    "text = \"\"\"chính chủ cho thuê căn hộ tập thể 8/3 nhà a6, tầng 1 đầu hồi, phố 8/3. diện tích 40m2. phòng khách (01), phòng ngủ (01). ngõ rộng sát đường 8/3. nhà vệ sinh, bếp, sân ngoài trời riêng biệt, sinh hoạt, để xe máy…. gần sát chợ 8/3, bệnh viện thanh nhàn, trường mẫu giáo, trường học... phù hợp cho hộ gia đình. an ninh tốt. hàng xóm thân thiện\n",
    "giá: 5 triệu/tháng\n",
    "tiền điện, nước giá nhà nước theo tiêu chuẩn hộ gia đình.\n",
    "đ/c: nhà a6, phố 8/3, phường quỳnh mai, quận hai bà trưng, hà nội.\"\"\""
   ],
   "metadata": {
    "collapsed": false,
    "pycharm": {
     "name": "#%%\n"
    }
   }
  },
  {
   "cell_type": "code",
   "execution_count": 7,
   "outputs": [],
   "source": [
    "cleaned_text =  normalize_text(raw_description=text, annotator=annotator)"
   ],
   "metadata": {
    "collapsed": false,
    "pycharm": {
     "name": "#%%\n"
    }
   }
  },
  {
   "cell_type": "code",
   "execution_count": 8,
   "outputs": [
    {
     "name": "stdout",
     "output_type": "stream",
     "text": [
      "chính chủ cho thuê căn_hộ tập_thể 8/3 nhà a6, tầng 1 đầu_hồi, phố 8/3. diện_tích 40 m2. phòng khách ( 01 ), phòng ngủ ( 01 ). ngõ rộng sát đường 8/3. nhà_vệ_sinh, bếp, sân ngoài_trời riêng_biệt, sinh_hoạt, để xe_máy …. gần sát chợ 8/3, bệnh_viện thanh_nhàn, trường mẫu_giáo, trường_học... phù_hợp cho hộ gia_đình. an_ninh tốt. hàng_xóm thân_thiện \n",
      "giá: 5 triệu/tháng \n",
      "tiền điện, nước giá nhà_nước theo tiêu_chuẩn hộ gia_đình. \n",
      "đ/c: nhà a6, phố 8/3, phường quỳnh mai, quận hai_bà_trưng, hà_nội. \n"
     ]
    }
   ],
   "source": [
    "print(cleaned_text)"
   ],
   "metadata": {
    "collapsed": false,
    "pycharm": {
     "name": "#%%\n"
    }
   }
  },
  {
   "cell_type": "code",
   "execution_count": 9,
   "outputs": [
    {
     "data": {
      "text/plain": "[['căn_hộ tập_thể', 'APART'],\n ['nhà a6, tầng 1 đầu_hồi, phố 8/3.', 'LOC'],\n ['40 mkhách phòng ngủ', 'AREA'],\n ['ngõ rộng', 'CONV'],\n ['sát đường 8/', 'LOC'],\n ['sân ngoài_trời', 'ROOM'],\n ['bệnh_viện', 'CONV'],\n ['5 triệu/tháng', 'PRICE'],\n ['nhà a6, phố 8/3, phường quỳnh mai, quận hai_bà_trưng, hà_nội.', 'LOC']]"
     },
     "execution_count": 9,
     "metadata": {},
     "output_type": "execute_result"
    }
   ],
   "source": [
    "results = extract_entities(phobert_ner, tokenizer, cleaned_text)\n",
    "results"
   ],
   "metadata": {
    "collapsed": false,
    "pycharm": {
     "name": "#%%\n"
    }
   }
  },
  {
   "cell_type": "code",
   "execution_count": null,
   "outputs": [],
   "source": [],
   "metadata": {
    "collapsed": false,
    "pycharm": {
     "name": "#%%\n"
    }
   }
  }
 ],
 "metadata": {
  "kernelspec": {
   "display_name": "Python 3",
   "language": "python",
   "name": "python3"
  },
  "language_info": {
   "codemirror_mode": {
    "name": "ipython",
    "version": 3
   },
   "file_extension": ".py",
   "mimetype": "text/x-python",
   "name": "python",
   "nbconvert_exporter": "python",
   "pygments_lexer": "ipython3",
   "version": "3.9.2"
  }
 },
 "nbformat": 4,
 "nbformat_minor": 5
}