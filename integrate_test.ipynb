{
 "cells": [
  {
   "cell_type": "code",
   "execution_count": 1,
   "outputs": [],
   "source": [
    "import pymongo"
   ],
   "metadata": {
    "collapsed": false,
    "pycharm": {
     "name": "#%%\n"
    }
   }
  },
  {
   "cell_type": "code",
   "execution_count": 2,
   "outputs": [],
   "source": [
    "mongo_db = {\n",
    "    'HOSTNAME': '127.0.0.1:27017',\n",
    "    'USERNAME': 'webscrapy',\n",
    "    'PASSWORD': '68f539388f66a374908f3df559eb4ea2',\n",
    "    'DATABASE': 'realestate'\n",
    "}"
   ],
   "metadata": {
    "collapsed": false,
    "pycharm": {
     "name": "#%%\n"
    }
   }
  },
  {
   "cell_type": "code",
   "execution_count": 3,
   "outputs": [],
   "source": [
    "connection = pymongo.MongoClient(host=mongo_db['HOSTNAME'],\n",
    "                                      username=mongo_db['USERNAME'],\n",
    "                                      password=mongo_db['PASSWORD'],\n",
    "                                      authSource=mongo_db['DATABASE'],\n",
    "                                      authMechanism='SCRAM-SHA-1')\n",
    "db = connection[mongo_db['DATABASE']]"
   ],
   "metadata": {
    "collapsed": false,
    "pycharm": {
     "name": "#%%\n"
    }
   }
  },
  {
   "cell_type": "code",
   "execution_count": 4,
   "outputs": [],
   "source": [
    "collections = ['raw_alonhadat_news', 'raw_bds_news', 'raw_chotot_news']"
   ],
   "metadata": {
    "collapsed": false,
    "pycharm": {
     "name": "#%%\n"
    }
   }
  },
  {
   "cell_type": "code",
   "execution_count": 1,
   "outputs": [],
   "source": [
    "def normalize_text(raw_description: str, annotator) -> str:\n",
    "    # remove strip_emoji\n",
    "    import re\n",
    "    def strip_emoji(text):\n",
    "        RE_EMOJI = re.compile(u'([\\U00002600-\\U000027BF])|([\\U0001f300-\\U0001f64F])|([\\U0001f680-\\U0001f6FF])')\n",
    "        return RE_EMOJI.sub(r'', text)\n",
    "\n",
    "    def normalize_line(line: str) -> str:\n",
    "        line = line.strip(' ')\n",
    "        line = line.strip(' -+')\n",
    "\n",
    "        return line\n",
    "\n",
    "    def segment_word(line: str, annotator) -> str:\n",
    "        segmented_list = annotator.tokenize(line)\n",
    "        segmented_line = ''\n",
    "        for sen in segmented_list:\n",
    "            segmented_line += ' '.join(sen)\n",
    "            segmented_line += ' '\n",
    "\n",
    "        segmented_line = segmented_line.replace(' .', '.')\n",
    "        segmented_line = segmented_line.replace(' ,', ',')\n",
    "        segmented_line = segmented_line.replace(' / ', '/')\n",
    "        segmented_line = segmented_line.replace(' :', ':')\n",
    "\n",
    "        return segmented_line\n",
    "\n",
    "    raw_text: str = strip_emoji(raw_description)\n",
    "    raw_text = raw_text.replace('\\r', '')\n",
    "    raw_text = raw_text.replace('\"', '')\n",
    "\n",
    "    lines = raw_text.split('\\n')\n",
    "    lines = [normalize_line(line) for line in lines]\n",
    "\n",
    "    segmented_lines = []\n",
    "    for line in lines:\n",
    "        if len(line) and line != '':\n",
    "            segmented_lines.append(segment_word(line, annotator=annotator))\n",
    "        else:\n",
    "            segmented_lines.append(line)\n",
    "\n",
    "    flag = False\n",
    "    cleand_lines = []\n",
    "\n",
    "    for i in range(len(segmented_lines) - 1):\n",
    "        line1 = segmented_lines[i]\n",
    "        line2 = segmented_lines[i+1]\n",
    "\n",
    "        if line1 == line2 and line1 == '':\n",
    "            flag = True\n",
    "            continue\n",
    "        else:\n",
    "            flag = False\n",
    "\n",
    "        if not flag:\n",
    "            cleand_lines.append(line1)\n",
    "\n",
    "    cleand_lines.append(segmented_lines[-1])\n",
    "    cleaned_text = '\\n'.join(cleand_lines)\n",
    "\n",
    "\n",
    "    return cleaned_text"
   ],
   "metadata": {
    "collapsed": false,
    "pycharm": {
     "name": "#%%\n"
    }
   }
  },
  {
   "cell_type": "code",
   "execution_count": 6,
   "outputs": [],
   "source": [
    "from vncorenlp import VnCoreNLP\n",
    "annotator = VnCoreNLP(address=\"http://127.0.0.1\", port=9000)"
   ],
   "metadata": {
    "collapsed": false,
    "pycharm": {
     "name": "#%%\n"
    }
   }
  },
  {
   "cell_type": "code",
   "execution_count": 13,
   "outputs": [],
   "source": [
    "import json\n",
    "\n",
    "count = 0\n",
    "for item in db[collections[2]].find({}, {\"description\": 1}):\n",
    "    with open('dataset_ner.json', 'a') as file:\n",
    "\n",
    "        try:\n",
    "            raw_description = item['description']\n",
    "            if raw_description is not None:\n",
    "                count += 1\n",
    "                id = str(item['_id'])\n",
    "                text = normalize_text(item['description'], annotator=annotator)\n",
    "                # print(text)\n",
    "                # print(\"==\" * 20)\n",
    "                # if count >= 100:\n",
    "                #     break\n",
    "                record = {'id': id, 'text': text}\n",
    "                file.write(json.dumps(record))\n",
    "                file.write('\\n')\n",
    "\n",
    "        except:\n",
    "            count += 1\n",
    "            print(item)"
   ],
   "metadata": {
    "collapsed": false,
    "pycharm": {
     "name": "#%%\n"
    }
   }
  },
  {
   "cell_type": "code",
   "execution_count": 41,
   "outputs": [],
   "source": [
    "from vncorenlp import VnCoreNLP\n",
    "annotator = VnCoreNLP(address=\"http://127.0.0.1\", port=9000)"
   ],
   "metadata": {
    "collapsed": false,
    "pycharm": {
     "name": "#%%\n"
    }
   }
  },
  {
   "cell_type": "code",
   "execution_count": 46,
   "outputs": [],
   "source": [
    "text = \"\\n\"\n",
    "\n",
    "# To perform word segmentation, POS tagging, NER and then dependency parsing\n",
    "annotated_text = annotator.annotate(text)\n",
    "\n",
    "# To perform word segmentation only\n",
    "word_segmented_text = annotator.tokenize(text)"
   ],
   "metadata": {
    "collapsed": false,
    "pycharm": {
     "name": "#%%\n"
    }
   }
  },
  {
   "cell_type": "code",
   "execution_count": 47,
   "outputs": [
    {
     "data": {
      "text/plain": "[]"
     },
     "execution_count": 47,
     "metadata": {},
     "output_type": "execute_result"
    }
   ],
   "source": [
    "word_segmented_text"
   ],
   "metadata": {
    "collapsed": false,
    "pycharm": {
     "name": "#%%\n"
    }
   }
  },
  {
   "cell_type": "code",
   "execution_count": null,
   "outputs": [],
   "source": [],
   "metadata": {
    "collapsed": false,
    "pycharm": {
     "name": "#%%\n"
    }
   }
  }
 ],
 "metadata": {
  "kernelspec": {
   "display_name": "Python 3",
   "language": "python",
   "name": "python3"
  },
  "language_info": {
   "codemirror_mode": {
    "name": "ipython",
    "version": 2
   },
   "file_extension": ".py",
   "mimetype": "text/x-python",
   "name": "python",
   "nbconvert_exporter": "python",
   "pygments_lexer": "ipython2",
   "version": "2.7.6"
  }
 },
 "nbformat": 4,
 "nbformat_minor": 0
}