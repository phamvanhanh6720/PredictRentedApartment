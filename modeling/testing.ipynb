{
 "cells": [
  {
   "cell_type": "code",
   "execution_count": 1,
   "metadata": {
    "collapsed": true
   },
   "outputs": [],
   "source": [
    "import pandas as pd\n",
    "import joblib"
   ]
  },
  {
   "cell_type": "code",
   "execution_count": 2,
   "outputs": [],
   "source": [
    "test_data = pd.read_csv('test_data.csv')"
   ],
   "metadata": {
    "collapsed": false,
    "pycharm": {
     "name": "#%%\n"
    }
   }
  },
  {
   "cell_type": "code",
   "execution_count": 3,
   "outputs": [
    {
     "data": {
      "text/plain": "  NEWS_TYPE  BEDROOM_NUMBER  BATH_ROOM_NUMBER  AREA   APARTMENT_TYPE  \\\n0  môi giới             2.0               NaN  70.0  chung cư thường   \n1  môi giới             1.0               1.0  40.0    chung cư mini   \n2   cá nhân             1.0               1.0  30.0  chung cư thường   \n3  môi giới             3.0               2.0  90.5  chung cư thường   \n4   cá nhân             1.0               1.0  40.0    chung cư mini   \n\n  FURNITURE_TYPE  PRICE   LATITUDE   LONGITUDE  \n0           full   8.00  21.043524  105.906800  \n1           full   5.50  21.010563  105.799422  \n2   full cao cấp   6.83  21.022902  105.808081  \n3         cơ bản   8.00  21.070437  105.808895  \n4            unk   3.00  20.961699  105.783753  ",
      "text/html": "<div>\n<style scoped>\n    .dataframe tbody tr th:only-of-type {\n        vertical-align: middle;\n    }\n\n    .dataframe tbody tr th {\n        vertical-align: top;\n    }\n\n    .dataframe thead th {\n        text-align: right;\n    }\n</style>\n<table border=\"1\" class=\"dataframe\">\n  <thead>\n    <tr style=\"text-align: right;\">\n      <th></th>\n      <th>NEWS_TYPE</th>\n      <th>BEDROOM_NUMBER</th>\n      <th>BATH_ROOM_NUMBER</th>\n      <th>AREA</th>\n      <th>APARTMENT_TYPE</th>\n      <th>FURNITURE_TYPE</th>\n      <th>PRICE</th>\n      <th>LATITUDE</th>\n      <th>LONGITUDE</th>\n    </tr>\n  </thead>\n  <tbody>\n    <tr>\n      <th>0</th>\n      <td>môi giới</td>\n      <td>2.0</td>\n      <td>NaN</td>\n      <td>70.0</td>\n      <td>chung cư thường</td>\n      <td>full</td>\n      <td>8.00</td>\n      <td>21.043524</td>\n      <td>105.906800</td>\n    </tr>\n    <tr>\n      <th>1</th>\n      <td>môi giới</td>\n      <td>1.0</td>\n      <td>1.0</td>\n      <td>40.0</td>\n      <td>chung cư mini</td>\n      <td>full</td>\n      <td>5.50</td>\n      <td>21.010563</td>\n      <td>105.799422</td>\n    </tr>\n    <tr>\n      <th>2</th>\n      <td>cá nhân</td>\n      <td>1.0</td>\n      <td>1.0</td>\n      <td>30.0</td>\n      <td>chung cư thường</td>\n      <td>full cao cấp</td>\n      <td>6.83</td>\n      <td>21.022902</td>\n      <td>105.808081</td>\n    </tr>\n    <tr>\n      <th>3</th>\n      <td>môi giới</td>\n      <td>3.0</td>\n      <td>2.0</td>\n      <td>90.5</td>\n      <td>chung cư thường</td>\n      <td>cơ bản</td>\n      <td>8.00</td>\n      <td>21.070437</td>\n      <td>105.808895</td>\n    </tr>\n    <tr>\n      <th>4</th>\n      <td>cá nhân</td>\n      <td>1.0</td>\n      <td>1.0</td>\n      <td>40.0</td>\n      <td>chung cư mini</td>\n      <td>unk</td>\n      <td>3.00</td>\n      <td>20.961699</td>\n      <td>105.783753</td>\n    </tr>\n  </tbody>\n</table>\n</div>"
     },
     "execution_count": 3,
     "metadata": {},
     "output_type": "execute_result"
    }
   ],
   "source": [
    "test_data.head()"
   ],
   "metadata": {
    "collapsed": false,
    "pycharm": {
     "name": "#%%\n"
    }
   }
  },
  {
   "cell_type": "code",
   "execution_count": 4,
   "outputs": [],
   "source": [
    "test_data['NEWS_TYPE'] = test_data['NEWS_TYPE'].map({'môi giới': 0, 'cá nhân': 1})"
   ],
   "metadata": {
    "collapsed": false,
    "pycharm": {
     "name": "#%%\n"
    }
   }
  },
  {
   "cell_type": "code",
   "execution_count": 5,
   "outputs": [],
   "source": [
    "test_data['APARTMENT_TYPE'] = test_data['APARTMENT_TYPE'].map({'chung cư tập thể': 0, 'chung cư thường': 1, 'chung cư studio': 2,\n",
    "                                                     'chung cư mini': 3, 'chung cư cao cấp': 4})"
   ],
   "metadata": {
    "collapsed": false,
    "pycharm": {
     "name": "#%%\n"
    }
   }
  },
  {
   "cell_type": "code",
   "execution_count": 6,
   "outputs": [],
   "source": [
    "test_data['FURNITURE_TYPE'] = test_data['FURNITURE_TYPE'].map({'unk': 0, 'full': 1, 'cơ bản': 2,\n",
    "                                                     'full cao cấp': 3, 'nguyên bản': 4})"
   ],
   "metadata": {
    "collapsed": false,
    "pycharm": {
     "name": "#%%\n"
    }
   }
  },
  {
   "cell_type": "code",
   "execution_count": 7,
   "outputs": [
    {
     "data": {
      "text/plain": "   NEWS_TYPE  BEDROOM_NUMBER  BATH_ROOM_NUMBER  AREA  APARTMENT_TYPE  \\\n0          0             2.0               NaN  70.0               1   \n1          0             1.0               1.0  40.0               3   \n2          1             1.0               1.0  30.0               1   \n3          0             3.0               2.0  90.5               1   \n4          1             1.0               1.0  40.0               3   \n\n   FURNITURE_TYPE  PRICE   LATITUDE   LONGITUDE  \n0               1   8.00  21.043524  105.906800  \n1               1   5.50  21.010563  105.799422  \n2               3   6.83  21.022902  105.808081  \n3               2   8.00  21.070437  105.808895  \n4               0   3.00  20.961699  105.783753  ",
      "text/html": "<div>\n<style scoped>\n    .dataframe tbody tr th:only-of-type {\n        vertical-align: middle;\n    }\n\n    .dataframe tbody tr th {\n        vertical-align: top;\n    }\n\n    .dataframe thead th {\n        text-align: right;\n    }\n</style>\n<table border=\"1\" class=\"dataframe\">\n  <thead>\n    <tr style=\"text-align: right;\">\n      <th></th>\n      <th>NEWS_TYPE</th>\n      <th>BEDROOM_NUMBER</th>\n      <th>BATH_ROOM_NUMBER</th>\n      <th>AREA</th>\n      <th>APARTMENT_TYPE</th>\n      <th>FURNITURE_TYPE</th>\n      <th>PRICE</th>\n      <th>LATITUDE</th>\n      <th>LONGITUDE</th>\n    </tr>\n  </thead>\n  <tbody>\n    <tr>\n      <th>0</th>\n      <td>0</td>\n      <td>2.0</td>\n      <td>NaN</td>\n      <td>70.0</td>\n      <td>1</td>\n      <td>1</td>\n      <td>8.00</td>\n      <td>21.043524</td>\n      <td>105.906800</td>\n    </tr>\n    <tr>\n      <th>1</th>\n      <td>0</td>\n      <td>1.0</td>\n      <td>1.0</td>\n      <td>40.0</td>\n      <td>3</td>\n      <td>1</td>\n      <td>5.50</td>\n      <td>21.010563</td>\n      <td>105.799422</td>\n    </tr>\n    <tr>\n      <th>2</th>\n      <td>1</td>\n      <td>1.0</td>\n      <td>1.0</td>\n      <td>30.0</td>\n      <td>1</td>\n      <td>3</td>\n      <td>6.83</td>\n      <td>21.022902</td>\n      <td>105.808081</td>\n    </tr>\n    <tr>\n      <th>3</th>\n      <td>0</td>\n      <td>3.0</td>\n      <td>2.0</td>\n      <td>90.5</td>\n      <td>1</td>\n      <td>2</td>\n      <td>8.00</td>\n      <td>21.070437</td>\n      <td>105.808895</td>\n    </tr>\n    <tr>\n      <th>4</th>\n      <td>1</td>\n      <td>1.0</td>\n      <td>1.0</td>\n      <td>40.0</td>\n      <td>3</td>\n      <td>0</td>\n      <td>3.00</td>\n      <td>20.961699</td>\n      <td>105.783753</td>\n    </tr>\n  </tbody>\n</table>\n</div>"
     },
     "execution_count": 7,
     "metadata": {},
     "output_type": "execute_result"
    }
   ],
   "source": [
    "test_data.head()"
   ],
   "metadata": {
    "collapsed": false,
    "pycharm": {
     "name": "#%%\n"
    }
   }
  },
  {
   "cell_type": "code",
   "execution_count": 8,
   "outputs": [],
   "source": [
    "X_test = test_data.drop(['PRICE', 'BATH_ROOM_NUMBER'], axis=1)"
   ],
   "metadata": {
    "collapsed": false,
    "pycharm": {
     "name": "#%%\n"
    }
   }
  },
  {
   "cell_type": "code",
   "execution_count": 10,
   "outputs": [],
   "source": [
    "model = joblib.load('./model/best_random_forest.joblib')"
   ],
   "metadata": {
    "collapsed": false,
    "pycharm": {
     "name": "#%%\n"
    }
   }
  },
  {
   "cell_type": "code",
   "execution_count": 11,
   "outputs": [
    {
     "data": {
      "text/plain": "array([9.1252381])"
     },
     "execution_count": 11,
     "metadata": {},
     "output_type": "execute_result"
    }
   ],
   "source": [
    "model.predict(X_test.iloc[3].values.reshape(1, -1))"
   ],
   "metadata": {
    "collapsed": false,
    "pycharm": {
     "name": "#%%\n"
    }
   }
  },
  {
   "cell_type": "code",
   "execution_count": null,
   "outputs": [],
   "source": [],
   "metadata": {
    "collapsed": false,
    "pycharm": {
     "name": "#%%\n"
    }
   }
  }
 ],
 "metadata": {
  "kernelspec": {
   "display_name": "Python 3",
   "language": "python",
   "name": "python3"
  },
  "language_info": {
   "codemirror_mode": {
    "name": "ipython",
    "version": 2
   },
   "file_extension": ".py",
   "mimetype": "text/x-python",
   "name": "python",
   "nbconvert_exporter": "python",
   "pygments_lexer": "ipython2",
   "version": "2.7.6"
  }
 },
 "nbformat": 4,
 "nbformat_minor": 0
}